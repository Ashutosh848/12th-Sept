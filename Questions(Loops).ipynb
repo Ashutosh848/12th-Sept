{
 "cells": [
  {
   "cell_type": "code",
   "execution_count": 1,
   "id": "bb8a8ff2-e65b-4004-87c7-af8cde7e4480",
   "metadata": {},
   "outputs": [
    {
     "name": "stdout",
     "output_type": "stream",
     "text": [
      "2,4,6,8,10,12,14,16,18,20,22,24,26,28,30,32,34,36,38,40,42,44,46,48,50,"
     ]
    }
   ],
   "source": [
    "for i in range(1,50+1):\n",
    "    if(i%2==0):\n",
    "        print(i,end = ',')"
   ]
  },
  {
   "cell_type": "code",
   "execution_count": 7,
   "id": "7b6abe85-a850-4605-918c-94559763ca20",
   "metadata": {},
   "outputs": [
    {
     "name": "stdout",
     "output_type": "stream",
     "text": [
      "2500\n"
     ]
    }
   ],
   "source": [
    "n = 1\n",
    "sum = 0\n",
    "while(n<=100):\n",
    "    if(n%2!=0):\n",
    "        sum = sum+n\n",
    "    n+=1\n",
    "print(sum)"
   ]
  },
  {
   "cell_type": "code",
   "execution_count": 9,
   "id": "defd816a-9e25-4a4d-a20d-39d701be3252",
   "metadata": {},
   "outputs": [
    {
     "name": "stdout",
     "output_type": "stream",
     "text": [
      "hsotuhsA\n"
     ]
    }
   ],
   "source": [
    "a = \"Ashutosh\"\n",
    "l = \"\"\n",
    "for i in a:\n",
    "    l = i+l\n",
    "print(l)"
   ]
  },
  {
   "cell_type": "code",
   "execution_count": 10,
   "id": "2f1740f7-f4e1-4eda-a3b3-aa1a402cc1c5",
   "metadata": {},
   "outputs": [
    {
     "name": "stdout",
     "output_type": "stream",
     "text": [
      "Count down 10\n",
      "Count down 9\n",
      "Count down 8\n",
      "Count down 7\n",
      "Count down 6\n",
      "Count down 5\n",
      "Count down 4\n",
      "Count down 3\n",
      "Count down 2\n",
      "Count down 1\n",
      "Count down 0\n"
     ]
    }
   ],
   "source": [
    "n = 10\n",
    "while(n>=0):\n",
    "    print(\"Count down\",n)\n",
    "    n -=1  "
   ]
  },
  {
   "cell_type": "code",
   "execution_count": 15,
   "id": "48804564-de3a-4926-9e70-75c27c73de68",
   "metadata": {},
   "outputs": [
    {
     "name": "stdout",
     "output_type": "stream",
     "text": [
      "[1, 2, 3, 4, 5, 6, 7, 8, 9, 10, 11, 12, 13, 14, 15, 16, 17, 18, 19]\n",
      "1,3,5,7,9,11,13,15,17,19,"
     ]
    }
   ],
   "source": [
    "a = [num for num in range(1,20)]\n",
    "print(a)\n",
    "for i in a:\n",
    "    if i%2!=0:\n",
    "        print(i,end =',')"
   ]
  },
  {
   "cell_type": "code",
   "execution_count": 1,
   "id": "6f4a75fe-5296-43c5-954b-8a696cf51cf1",
   "metadata": {},
   "outputs": [
    {
     "name": "stdout",
     "output_type": "stream",
     "text": [
      "105\n"
     ]
    }
   ],
   "source": [
    "n = 100\n",
    "while(n<=150):\n",
    "    n = n+1\n",
    "    if(n%7==0):\n",
    "        print(n)\n",
    "        break\n",
    "    "
   ]
  },
  {
   "cell_type": "code",
   "execution_count": 7,
   "id": "8dd1e106",
   "metadata": {},
   "outputs": [
    {
     "name": "stdout",
     "output_type": "stream",
     "text": [
      "1,4,9,16,25,36,49,64,81,100,121,144,169,196,225,256,289,324,361,400,441,484,529,576,625,676,729,784,"
     ]
    }
   ],
   "source": [
    "n = [num for num in range(1,29)]\n",
    "for i in n:\n",
    "    print(i**2,end = ',')"
   ]
  },
  {
   "cell_type": "code",
   "execution_count": 2,
   "id": "c2d138b8",
   "metadata": {},
   "outputs": [
    {
     "name": "stdin",
     "output_type": "stream",
     "text": [
      " 1224\n",
      " 17\n",
      " 18\n",
      " 32482\n",
      " 2838\n",
      " 0\n"
     ]
    }
   ],
   "source": [
    "n = int(input())\n",
    "while(n>0):\n",
    "    n = int(input())"
   ]
  },
  {
   "cell_type": "code",
   "execution_count": 4,
   "id": "70c336e0",
   "metadata": {},
   "outputs": [
    {
     "name": "stdin",
     "output_type": "stream",
     "text": [
      " 5\n"
     ]
    },
    {
     "name": "stdout",
     "output_type": "stream",
     "text": [
      "120\n"
     ]
    }
   ],
   "source": [
    "n = int(input())\n",
    "fact = 1\n",
    "for i in range(1,n+1):\n",
    "    fact = fact * i\n",
    "print(fact)"
   ]
  },
  {
   "cell_type": "code",
   "execution_count": 9,
   "id": "ceff8778-94e6-42f5-af32-af520c5c111f",
   "metadata": {},
   "outputs": [
    {
     "name": "stdout",
     "output_type": "stream",
     "text": [
      "0,1,1,2,3,5,8,13,21,34,55,89,144,233,377,610,987,"
     ]
    }
   ],
   "source": [
    "a = 0\n",
    "b = 1\n",
    "while a <= 1000:\n",
    "  print(a,end = ',')\n",
    "  a, b = b, a + b"
   ]
  },
  {
   "cell_type": "code",
   "execution_count": 6,
   "id": "cfcffe8e-0c06-43af-a863-5ef8c7b8e57d",
   "metadata": {},
   "outputs": [
    {
     "name": "stdout",
     "output_type": "stream",
     "text": [
      "0\n",
      "1\n",
      "1\n",
      "2\n",
      "3\n",
      "5\n",
      "8\n"
     ]
    }
   ],
   "source": [
    "a = 0\n",
    "b = 1\n",
    "while a<=10:\n",
    "    print(a)\n",
    "    a,b = b,a+b"
   ]
  },
  {
   "cell_type": "code",
   "execution_count": 42,
   "id": "3f50ba44-41a6-429b-8a74-99f302257c0f",
   "metadata": {},
   "outputs": [
    {
     "name": "stdout",
     "output_type": "stream",
     "text": [
      "1\n"
     ]
    }
   ],
   "source": [
    "a = [1,2,3,5]\n",
    "min = a[0]\n",
    "for i in a:\n",
    "    if i<min:\n",
    "        min = i\n",
    "print(min)"
   ]
  },
  {
   "cell_type": "code",
   "execution_count": 50,
   "id": "7e90ebe4-35c1-4347-9367-b950592ec8d5",
   "metadata": {},
   "outputs": [
    {
     "name": "stdin",
     "output_type": "stream",
     "text": [
      "Enter the string ashuo\n"
     ]
    },
    {
     "name": "stdout",
     "output_type": "stream",
     "text": [
      "3\n"
     ]
    }
   ],
   "source": [
    "n = input(\"Enter the string\")\n",
    "count = 0\n",
    "\n",
    "for i in n:\n",
    "    if(i=='a' or i=='e' or i=='o' or i=='i' or i == 'u'):\n",
    "        count = count +1\n",
    "print(count)"
   ]
  },
  {
   "cell_type": "code",
   "execution_count": 6,
   "id": "01796335-8ca4-4406-a9e6-db5c9103cf05",
   "metadata": {},
   "outputs": [
    {
     "name": "stdin",
     "output_type": "stream",
     "text": [
      " 31\n",
      " 32\n",
      " 123\n"
     ]
    },
    {
     "name": "stdout",
     "output_type": "stream",
     "text": [
      "Access Granted\n"
     ]
    }
   ],
   "source": [
    "pin = int(input())\n",
    "while(pin !=123):\n",
    "    pin = int(input())\n",
    "print(\"Access Granted\")"
   ]
  },
  {
   "cell_type": "code",
   "execution_count": 7,
   "id": "f45b5be1-cb9b-4d8c-b02c-c04783c52b22",
   "metadata": {},
   "outputs": [
    {
     "name": "stdout",
     "output_type": "stream",
     "text": [
      "Name Ashutosh\n",
      "Course Data Engineering\n",
      "City Jaipur\n"
     ]
    }
   ],
   "source": [
    "d = {'Name':'Ashutosh','Course':'Data Engineering','City':'Jaipur'}\n",
    "\n",
    "for i,j in d.items():\n",
    "    print(i,j)"
   ]
  },
  {
   "cell_type": "code",
   "execution_count": 10,
   "id": "d834177e-aa84-4726-82b1-6d89e17a7c92",
   "metadata": {},
   "outputs": [
    {
     "name": "stdin",
     "output_type": "stream",
     "text": [
      " 3\n"
     ]
    },
    {
     "name": "stdout",
     "output_type": "stream",
     "text": [
      "1x3= 3 \n",
      "2x3= 6 \n",
      "3x3= 9 \n",
      "4x3= 12 \n",
      "5x3= 15 \n",
      "6x3= 18 \n",
      "7x3= 21 \n",
      "8x3= 24 \n",
      "9x3= 27 \n",
      "10x3= 30 \n"
     ]
    }
   ],
   "source": [
    "n = int(input())\n",
    "a = 1\n",
    "while(a<=10):\n",
    "    print(f\"{a}x{n}= {a*n} \")\n",
    "    a+=1\n",
    "    "
   ]
  },
  {
   "cell_type": "code",
   "execution_count": 12,
   "id": "b34351d8-4c22-4513-abca-15cd9508d46a",
   "metadata": {},
   "outputs": [
    {
     "name": "stdout",
     "output_type": "stream",
     "text": [
      "* \n",
      "* * \n",
      "* * * \n",
      "* * * * \n",
      "* * * * * \n"
     ]
    }
   ],
   "source": [
    "n = 5\n",
    "for r in range(1,n+1):\n",
    "    for c in range(1,r+1):\n",
    "        print(\"* \",end= '')\n",
    "    print()"
   ]
  },
  {
   "cell_type": "code",
   "execution_count": 24,
   "id": "f717b3f3-5e7e-4c2d-9aa1-6aa5c1b60923",
   "metadata": {},
   "outputs": [
    {
     "name": "stdin",
     "output_type": "stream",
     "text": [
      "Enter the Value 12\n",
      " 32\n",
      " 345\n"
     ]
    },
    {
     "name": "stdout",
     "output_type": "stream",
     "text": [
      "389\n"
     ]
    }
   ],
   "source": [
    "n = int(input(\"Enter the Value\"))\n",
    "sum = 0\n",
    "while(n!=0):\n",
    "    sum = sum+n\n",
    "    if sum>=100:\n",
    "        break\n",
    "    else:\n",
    "        n = int(input(\"Enter the Loop Value\"))\n",
    "print(sum)"
   ]
  },
  {
   "cell_type": "code",
   "execution_count": 2,
   "id": "51ad4565-54c7-408f-85a5-752fd862fedd",
   "metadata": {},
   "outputs": [
    {
     "name": "stdout",
     "output_type": "stream",
     "text": [
      "Name of the longest string is :- Ashutosh Tiwari \n",
      "The length of the String is:- 15\n"
     ]
    }
   ],
   "source": [
    "l = ['ashutosh','jsadhiqdhdn','ladoa','adjadw','Ashutosh Tiwari']\n",
    "count = 0\n",
    "for i in l:\n",
    "    if(len(i)>count):\n",
    "        count = len(i)\n",
    "        str = i\n",
    "print(f\"Name of the longest string is :- {str} \")\n",
    "print(f\"The length of the String is:- {count}\")"
   ]
  },
  {
   "cell_type": "code",
   "execution_count": 41,
   "id": "429bf269-94b1-4144-8b0d-ac3c4240b8f6",
   "metadata": {},
   "outputs": [
    {
     "name": "stdin",
     "output_type": "stream",
     "text": [
      " 18\n"
     ]
    },
    {
     "name": "stdout",
     "output_type": "stream",
     "text": [
      "0\n",
      "1\n",
      "1\n",
      "2\n",
      "3\n",
      "5\n",
      "8\n",
      "13\n"
     ]
    }
   ],
   "source": [
    "a = 0\n",
    "b = 1\n",
    "n = int(input())\n",
    "while(a<=n):\n",
    "    print(a)\n",
    "    a,b = b,a+b"
   ]
  },
  {
   "cell_type": "code",
   "execution_count": null,
   "id": "5ac0971a-388a-471a-8039-3141e7fdace4",
   "metadata": {},
   "outputs": [],
   "source": [
    "import random\n",
    "num = random.randint(1,100)\n",
    "att = 0\n",
    "\n",
    "while num>=0:\n",
    "    game = int(input(\"Enter the guessing value:-\"))\n",
    "    att+=1\n",
    "    if game==num:\n",
    "        print(\"Congrats\")\n",
    "        break\n",
    "    elif game<num:\n",
    "        print(\"Too Close\")\n",
    "    else:\n",
    "        print(\"Too far!\")"
   ]
  }
 ],
 "metadata": {
  "kernelspec": {
   "display_name": "Python 3 (ipykernel)",
   "language": "python",
   "name": "python3"
  },
  "language_info": {
   "codemirror_mode": {
    "name": "ipython",
    "version": 3
   },
   "file_extension": ".py",
   "mimetype": "text/x-python",
   "name": "python",
   "nbconvert_exporter": "python",
   "pygments_lexer": "ipython3",
   "version": "3.11.7"
  }
 },
 "nbformat": 4,
 "nbformat_minor": 5
}
