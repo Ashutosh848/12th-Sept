{
 "cells": [
  {
   "cell_type": "code",
   "execution_count": 2,
   "id": "dd040597-da7d-4fc8-918d-17b4ff180beb",
   "metadata": {},
   "outputs": [
    {
     "data": {
      "text/plain": [
       "6"
      ]
     },
     "execution_count": 2,
     "metadata": {},
     "output_type": "execute_result"
    }
   ],
   "source": [
    "a=lambda x,y:x+y\n",
    "a(2,4)"
   ]
  },
  {
   "cell_type": "code",
   "execution_count": 5,
   "id": "c3f37640-f3c3-482c-a39f-16558a353196",
   "metadata": {},
   "outputs": [
    {
     "data": {
      "text/plain": [
       "'ASHTU'"
      ]
     },
     "execution_count": 5,
     "metadata": {},
     "output_type": "execute_result"
    }
   ],
   "source": [
    "b = lambda a:a.upper()\n",
    "b('ashtu')"
   ]
  },
  {
   "cell_type": "code",
   "execution_count": 20,
   "id": "13a47de9-d465-4cde-99fb-808c20d46405",
   "metadata": {},
   "outputs": [
    {
     "data": {
      "text/plain": [
       "dict_keys(['name', 'r'])"
      ]
     },
     "execution_count": 20,
     "metadata": {},
     "output_type": "execute_result"
    }
   ],
   "source": [
    "f = lambda d: d.keys()\n",
    "f({'name':'ashutosh','r':'e'})"
   ]
  },
  {
   "cell_type": "code",
   "execution_count": 25,
   "id": "f5bad007-5789-40c2-bafe-2ae6b4d2ffe7",
   "metadata": {},
   "outputs": [
    {
     "data": {
      "text/plain": [
       "720"
      ]
     },
     "execution_count": 25,
     "metadata": {},
     "output_type": "execute_result"
    }
   ],
   "source": []
  },
  {
   "cell_type": "code",
   "execution_count": 43,
   "id": "91e16412-3b74-4ac5-b006-7c947eb8292a",
   "metadata": {},
   "outputs": [
    {
     "name": "stdout",
     "output_type": "stream",
     "text": [
      "5\n"
     ]
    }
   ],
   "source": [
    "def sum_of_digits(n):\n",
    "    if n == 0:\n",
    "        return 0\n",
    "    else:\n",
    "        return n % 10 + sum_of_digits(n // 10)\n",
    "        \n",
    "print(sum_of_digits(131))\n"
   ]
  },
  {
   "cell_type": "code",
   "execution_count": 48,
   "id": "fe5fbc43-1356-4663-90f1-dfd547e48b1e",
   "metadata": {},
   "outputs": [
    {
     "ename": "TypeError",
     "evalue": "rev() missing 1 required positional argument: 'r'",
     "output_type": "error",
     "traceback": [
      "\u001b[1;31m---------------------------------------------------------------------------\u001b[0m",
      "\u001b[1;31mTypeError\u001b[0m                                 Traceback (most recent call last)",
      "Cell \u001b[1;32mIn[48], line 6\u001b[0m\n\u001b[0;32m      4\u001b[0m     \u001b[38;5;28;01melse\u001b[39;00m:\n\u001b[0;32m      5\u001b[0m         \u001b[38;5;28;01mreturn\u001b[39;00m n\u001b[38;5;241m%\u001b[39m\u001b[38;5;241m10\u001b[39m \u001b[38;5;241m+\u001b[39m rev(r\u001b[38;5;241m*\u001b[39m\u001b[38;5;241m10\u001b[39m \u001b[38;5;241m+\u001b[39m n) \u001b[38;5;241m+\u001b[39m rev(n\u001b[38;5;241m/\u001b[39m\u001b[38;5;241m/\u001b[39m\u001b[38;5;241m10\u001b[39m)\n\u001b[1;32m----> 6\u001b[0m \u001b[38;5;28mprint\u001b[39m(rev(\u001b[38;5;241m123\u001b[39m,\u001b[38;5;241m1\u001b[39m))\n",
      "Cell \u001b[1;32mIn[48], line 5\u001b[0m, in \u001b[0;36mrev\u001b[1;34m(n, r)\u001b[0m\n\u001b[0;32m      3\u001b[0m     \u001b[38;5;28;01mreturn\u001b[39;00m \u001b[38;5;241m0\u001b[39m\n\u001b[0;32m      4\u001b[0m \u001b[38;5;28;01melse\u001b[39;00m:\n\u001b[1;32m----> 5\u001b[0m     \u001b[38;5;28;01mreturn\u001b[39;00m n\u001b[38;5;241m%\u001b[39m\u001b[38;5;241m10\u001b[39m \u001b[38;5;241m+\u001b[39m rev(r\u001b[38;5;241m*\u001b[39m\u001b[38;5;241m10\u001b[39m \u001b[38;5;241m+\u001b[39m n) \u001b[38;5;241m+\u001b[39m rev(n\u001b[38;5;241m/\u001b[39m\u001b[38;5;241m/\u001b[39m\u001b[38;5;241m10\u001b[39m)\n",
      "\u001b[1;31mTypeError\u001b[0m: rev() missing 1 required positional argument: 'r'"
     ]
    }
   ],
   "source": [
    "def rev(n,r=0):\n",
    "    if n == 0:\n",
    "        return 0\n",
    "    else:\n",
    "        return \n",
    "print(rev(123,0))"
   ]
  },
  {
   "cell_type": "code",
   "execution_count": 5,
   "id": "ccdb436e-aa17-4837-aa9d-c9c22b3eac42",
   "metadata": {},
   "outputs": [
    {
     "name": "stdout",
     "output_type": "stream",
     "text": [
      "6\n"
     ]
    }
   ],
   "source": [
    "def sum(n):\n",
    "    if n==0:\n",
    "        return 0\n",
    "    else:\n",
    "        return n%10 + sum(n//10)\n",
    "print(sum(123))"
   ]
  },
  {
   "cell_type": "code",
   "execution_count": 10,
   "id": "57a83f80-aab3-48e6-83c9-0133101811c5",
   "metadata": {},
   "outputs": [
    {
     "name": "stdout",
     "output_type": "stream",
     "text": [
      "321\n"
     ]
    }
   ],
   "source": [
    "def rev(n,r):\n",
    "    if n==0:\n",
    "        return r\n",
    "    else:\n",
    "        return rev(n//10,r*10+n%10)\n",
    "print(rev(123,0))"
   ]
  },
  {
   "cell_type": "code",
   "execution_count": 12,
   "id": "26f07776-009a-4d69-a61e-7361fec0f22e",
   "metadata": {},
   "outputs": [
    {
     "ename": "SyntaxError",
     "evalue": "invalid syntax (282794349.py, line 5)",
     "output_type": "error",
     "traceback": [
      "\u001b[1;36m  Cell \u001b[1;32mIn[12], line 5\u001b[1;36m\u001b[0m\n\u001b[1;33m    return st(for i in a,i+r)\u001b[0m\n\u001b[1;37m              ^\u001b[0m\n\u001b[1;31mSyntaxError\u001b[0m\u001b[1;31m:\u001b[0m invalid syntax\n"
     ]
    }
   ],
   "source": [
    "def st(a,r):\n",
    "    if n==0:\n",
    "        return r\n",
    "    else:\n",
    "        return st(for i in a,i+r)\n",
    "st(\"Ashu\",' ')"
   ]
  },
  {
   "cell_type": "code",
   "execution_count": 6,
   "id": "5f7937b8-f5f8-4967-966b-8610f0d1b3a2",
   "metadata": {},
   "outputs": [
    {
     "name": "stdout",
     "output_type": "stream",
     "text": [
      "Transaction Started\n",
      "Hellow\n",
      "Transaction Completed\n"
     ]
    }
   ],
   "source": [
    "def greet(new):\n",
    "    def wrap():\n",
    "        print(\"Transaction Started\")\n",
    "        new()\n",
    "        print(\"Transaction Completed\")\n",
    "    return wrap\n",
    "\n",
    "@greet\n",
    "def hel():\n",
    "    print(\"Hellow\")\n",
    "\n",
    "hel()\n",
    "    "
   ]
  },
  {
   "cell_type": "code",
   "execution_count": 2,
   "id": "a13853bd-d7b2-4e65-a1cc-fed3c81418e7",
   "metadata": {},
   "outputs": [
    {
     "name": "stdout",
     "output_type": "stream",
     "text": [
      "6\n",
      "he\n",
      "My course name is Data Engineering\n"
     ]
    }
   ],
   "source": [
    "def wow(he):\n",
    "    def hu(n,sum):\n",
    "        while(n!=0):\n",
    "            digit = n%10\n",
    "            sum = sum + digit\n",
    "            n//=10\n",
    "        print(sum)\n",
    "        he()\n",
    "        print(\"My course name is Data Engineering\")\n",
    "    return hu\n",
    "\n",
    "@wow\n",
    "def go():\n",
    "    print(\"he\")\n",
    "\n",
    "go(123,0)"
   ]
  },
  {
   "cell_type": "code",
   "execution_count": 8,
   "id": "4eac0e37-b743-4bfc-b683-f684aa0b6dfc",
   "metadata": {},
   "outputs": [
    {
     "name": "stdout",
     "output_type": "stream",
     "text": [
      "hsotuhsA\n",
      "Wow 23 \n",
      "Function completed\n"
     ]
    }
   ],
   "source": [
    "def greet(fun):\n",
    "    def great(n,sum):\n",
    "        rev = ''\n",
    "        for i in n:\n",
    "            rev = i + rev\n",
    "        print(rev)\n",
    "        fun()\n",
    "        print(\"Function completed\")\n",
    "    return great\n",
    "\n",
    "@greet\n",
    "def new(a):\n",
    "    print(f\"Wow {a} \")\n",
    "\n",
    "new('Ashutosh',0)"
   ]
  },
  {
   "cell_type": "code",
   "execution_count": 11,
   "id": "f0561eca-926e-4bf7-adda-4776840f637b",
   "metadata": {},
   "outputs": [
    {
     "name": "stdout",
     "output_type": "stream",
     "text": [
      "My name is Ashutosh and my age is 20 \n",
      "Not an armstrong No.\n"
     ]
    }
   ],
   "source": [
    "def how(first):\n",
    "    def greaa(name,age):\n",
    "        print(f\"My name is {name} and my age is {age} \")\n",
    "        first()\n",
    "    return greaa\n",
    "\n",
    "@how\n",
    "def sec(n):\n",
    "    temp = n\n",
    "    while(n!=0):\n",
    "        rev = 0\n",
    "        digit = n%10\n",
    "        rev = digit**3 + rev\n",
    "        n//=10\n",
    "    if(temp == n):\n",
    "        print(\"Armstrong\")\n",
    "    else:\n",
    "        print(\"Not an armstrong No.\")\n",
    "\n",
    "sec(\"Ashutosh\",20)"
   ]
  },
  {
   "cell_type": "code",
   "execution_count": 1,
   "id": "73eed393-3c30-4799-ba1c-1e5fca452e29",
   "metadata": {},
   "outputs": [
    {
     "name": "stdout",
     "output_type": "stream",
     "text": [
      "Ashu\n",
      "uvx\n"
     ]
    }
   ],
   "source": [
    "l = [\"Ashu\",\"xyz\",\"wor\",\"uvx\"]\n",
    "for i in l:\n",
    "    if(i[0]=='A' or i[0]=='u'):\n",
    "        print(i)\n",
    "    "
   ]
  },
  {
   "cell_type": "code",
   "execution_count": 6,
   "id": "56adc113-6164-42e7-9254-115b76dcf1b6",
   "metadata": {},
   "outputs": [
    {
     "name": "stdout",
     "output_type": "stream",
     "text": [
      "3715891200\n"
     ]
    }
   ],
   "source": [
    "n = 1\n",
    "p = 1\n",
    "while(n<=20):\n",
    "    if(n%2==0):\n",
    "        p = p * n\n",
    "    n+=1\n",
    "print(p)"
   ]
  },
  {
   "cell_type": "code",
   "execution_count": 8,
   "id": "722798b6-5713-4d33-8821-ccfe6c02eabe",
   "metadata": {},
   "outputs": [
    {
     "name": "stdout",
     "output_type": "stream",
     "text": [
      "7x1 =7 \n",
      "7x2 =14 \n",
      "7x3 =21 \n",
      "7x4 =28 \n",
      "7x5 =35 \n",
      "7x6 =42 \n",
      "7x7 =49 \n",
      "7x8 =56 \n",
      "7x9 =63 \n",
      "7x10 =70 \n",
      "7x11 =77 \n",
      "7x12 =84 \n",
      "7x13 =91 \n",
      "7x14 =98 \n",
      "7x15 =105 \n",
      "7x16 =112 \n",
      "7x17 =119 \n",
      "7x18 =126 \n",
      "7x19 =133 \n"
     ]
    }
   ],
   "source": [
    "n = 7\n",
    "for i in range(1,20):\n",
    "    print(f\"{n}x{i} ={n*i} \")"
   ]
  },
  {
   "cell_type": "code",
   "execution_count": 9,
   "id": "88a0c1f2-56f3-4292-a911-57d586f01a96",
   "metadata": {},
   "outputs": [
    {
     "name": "stdin",
     "output_type": "stream",
     "text": [
      " sadh\n",
      " adjad\n",
      " fakask\n",
      " stop\n"
     ]
    },
    {
     "name": "stdout",
     "output_type": "stream",
     "text": [
      "['adjad', 'fakask', 'stop']\n"
     ]
    }
   ],
   "source": [
    "n = input()\n",
    "a = []\n",
    "while(n!='stop'):\n",
    "    n = input()\n",
    "    a.append(n)\n",
    "print(a)"
   ]
  },
  {
   "cell_type": "code",
   "execution_count": 12,
   "id": "0790db42-1951-4ea3-851c-43cca15d9ac2",
   "metadata": {},
   "outputs": [
    {
     "name": "stdin",
     "output_type": "stream",
     "text": [
      " 5\n"
     ]
    },
    {
     "name": "stdout",
     "output_type": "stream",
     "text": [
      "120\n"
     ]
    }
   ],
   "source": [
    "n = int(input())\n",
    "fact = 1\n",
    "i = 1\n",
    "while(i<=n):\n",
    "    fact = fact * i\n",
    "    i+=1\n",
    "print(fact)"
   ]
  },
  {
   "cell_type": "code",
   "execution_count": 13,
   "id": "5ada5a0b-6f39-4e7f-aba7-5fee8332c405",
   "metadata": {},
   "outputs": [
    {
     "name": "stdout",
     "output_type": "stream",
     "text": [
      "15400\n"
     ]
    }
   ],
   "source": [
    "a = [1,2,3,4,56,66,88,12]\n",
    "sum = 0\n",
    "for i in a:\n",
    "    if(i%2==0):\n",
    "        i = i**2\n",
    "        sum = sum + i \n",
    "print(sum)"
   ]
  },
  {
   "cell_type": "code",
   "execution_count": 17,
   "id": "3c647585-c328-4c72-b6fd-370396855c35",
   "metadata": {},
   "outputs": [
    {
     "name": "stdout",
     "output_type": "stream",
     "text": [
      "20\n"
     ]
    }
   ],
   "source": [
    "a = [1,2,3,4]\n",
    "b = [1,2,3,4]\n",
    "sum = 0\n",
    "for i in zip(a,b):\n",
    "    for x in i:\n",
    "        sum = sum + x\n",
    "print(sum)"
   ]
  },
  {
   "cell_type": "code",
   "execution_count": 26,
   "id": "f93cd7ac-264b-40d1-95b3-ed29c02de62f",
   "metadata": {},
   "outputs": [
    {
     "name": "stdin",
     "output_type": "stream",
     "text": [
      " ddeee\n"
     ]
    },
    {
     "name": "stdout",
     "output_type": "stream",
     "text": [
      "eeedd\n"
     ]
    }
   ],
   "source": [
    "n = input()\n",
    "rev = ''\n",
    "for i in n:\n",
    "    rev = i + rev\n",
    "print(rev)"
   ]
  },
  {
   "cell_type": "code",
   "execution_count": 27,
   "id": "59ab2479-d6af-44ce-9e68-ce1fd35a7f0c",
   "metadata": {},
   "outputs": [
    {
     "name": "stdout",
     "output_type": "stream",
     "text": [
      "[1, 9, 25, 49]\n"
     ]
    }
   ],
   "source": [
    "a = [1,2,3,4,5,6,7,8,8,10]\n",
    "l = []\n",
    "for i in a:\n",
    "    if(i%2!=0):\n",
    "        i = i**2\n",
    "        l.append(i)\n",
    "print(l)"
   ]
  },
  {
   "cell_type": "code",
   "execution_count": 28,
   "id": "3d216546-419f-4896-a144-58459a7333d6",
   "metadata": {},
   "outputs": [
    {
     "name": "stdout",
     "output_type": "stream",
     "text": [
      "4\n"
     ]
    }
   ],
   "source": [
    "l = ['ashutosh','meenal','joined','ajdiadi']\n",
    "count = 0\n",
    "for i in l:\n",
    "    if(len(i)>5):\n",
    "        count = count +1\n",
    "print(count)"
   ]
  },
  {
   "cell_type": "code",
   "execution_count": 43,
   "id": "96fbbc62-0ff4-4f52-92f0-b3eef00db691",
   "metadata": {},
   "outputs": [
    {
     "name": "stdout",
     "output_type": "stream",
     "text": [
      "6\n",
      "1\n",
      "8\n",
      "6\n",
      "9\n",
      "9\n",
      "1\n",
      "6\n",
      "9\n",
      "1\n",
      "6\n",
      "9\n",
      "10\n",
      "5\n",
      "9\n",
      "5\n",
      "9\n",
      "9\n",
      "10\n",
      "8\n",
      "4\n",
      "6\n",
      "8\n",
      "3\n",
      "7\n"
     ]
    }
   ],
   "source": [
    "import random\n",
    "\n",
    "s = random.randint(1,10)\n",
    "while(s!=7):\n",
    "    s = random.randint(1,10)\n",
    "    print(s)"
   ]
  },
  {
   "cell_type": "code",
   "execution_count": 48,
   "id": "40ce248b-b634-4055-a3e7-342e6131b18f",
   "metadata": {},
   "outputs": [
    {
     "name": "stdout",
     "output_type": "stream",
     "text": [
      "(2, 2)\n",
      "(4, 4)\n",
      "(2, 2)\n"
     ]
    }
   ],
   "source": [
    "a = [(1,2),(2,2),(4,4),(3,3),(2,2)]\n",
    "for i in a:\n",
    "    if(i[0]%2==0 and i[1]%2==0):\n",
    "        print(i)"
   ]
  },
  {
   "cell_type": "code",
   "execution_count": null,
   "id": "5d410ddf-e4e5-43fb-9a86-8b9c26e60e56",
   "metadata": {},
   "outputs": [],
   "source": [
    "l = ['ashut']\n",
    "for i in l:\n",
    "    print(l.upper())"
   ]
  },
  {
   "cell_type": "code",
   "execution_count": null,
   "id": "ba3c2e1e-77b6-4f6a-89e4-5dfedc62aae5",
   "metadata": {},
   "outputs": [],
   "source": [
    "print(\"Jd\")"
   ]
  },
  {
   "cell_type": "code",
   "execution_count": 2,
   "id": "23b67182-e64f-4fdd-8b40-9f9158d38eb0",
   "metadata": {},
   "outputs": [
    {
     "name": "stdout",
     "output_type": "stream",
     "text": [
      "3\n"
     ]
    }
   ],
   "source": [
    "def c(a):\n",
    "    count = 0\n",
    "    for i in a:\n",
    "        if (i=='a' or i=='e' or i=='i' or i=='o' or i=='u'):\n",
    "            count = count + 1\n",
    "    print(count)\n",
    "c('ashutosh')"
   ]
  },
  {
   "cell_type": "code",
   "execution_count": 4,
   "id": "8969706e-34c9-49f1-b570-5ec70463eb94",
   "metadata": {},
   "outputs": [
    {
     "name": "stdout",
     "output_type": "stream",
     "text": [
      "uhsa\n"
     ]
    }
   ],
   "source": [
    "def rev(a):\n",
    "    rev = ''\n",
    "    for i in a:\n",
    "        rev = i+ rev\n",
    "    print(rev)\n",
    "rev('ashu')"
   ]
  },
  {
   "cell_type": "code",
   "execution_count": 10,
   "id": "f06bdbb4-101d-40c9-b44a-bef4f8c83895",
   "metadata": {},
   "outputs": [
    {
     "name": "stdout",
     "output_type": "stream",
     "text": [
      "Pali\n"
     ]
    }
   ],
   "source": [
    "def pal(n):\n",
    "    rev = ''\n",
    "    temp = n\n",
    "    for i in n:\n",
    "        rev = i + rev\n",
    "    if(rev == temp):\n",
    "        print(\"Pali\")\n",
    "    else:\n",
    "        print('Not')\n",
    "\n",
    "pal('naman')"
   ]
  },
  {
   "cell_type": "code",
   "execution_count": 14,
   "id": "11c6cc3c-ec5f-43ac-871d-c2fc5cdbd086",
   "metadata": {},
   "outputs": [
    {
     "name": "stdout",
     "output_type": "stream",
     "text": [
      "[30]\n"
     ]
    }
   ],
   "source": [
    "def sqr(a):\n",
    "    sum = 0\n",
    "    l = []\n",
    "    for i in a:\n",
    "        i = i**2\n",
    "        sum = sum + i\n",
    "    l.append(sum)\n",
    "    print(l)\n",
    "sqr([1,2,3,4])"
   ]
  },
  {
   "cell_type": "code",
   "execution_count": 15,
   "id": "2215ee40-d1af-4203-b0a0-a821ac39c614",
   "metadata": {},
   "outputs": [
    {
     "name": "stdout",
     "output_type": "stream",
     "text": [
      "4\n"
     ]
    }
   ],
   "source": [
    "def val(a,val):\n",
    "    count = 0\n",
    "    for i in a:\n",
    "        if(i==val):\n",
    "            count+=1\n",
    "    print(count)\n",
    "val([1,2,2,2,2,3],2)"
   ]
  },
  {
   "cell_type": "code",
   "execution_count": 1,
   "id": "63467d8b-effd-40bc-9d75-761dedbb46fb",
   "metadata": {},
   "outputs": [
    {
     "name": "stdout",
     "output_type": "stream",
     "text": [
      "My name is Ashutosh \n"
     ]
    }
   ],
   "source": [
    "class Person():\n",
    "    def __init__(self,name):\n",
    "        self.name = name\n",
    "    def new(self):\n",
    "        print(f\"My name is {self.name}\")\n",
    "\n",
    "class Child(Person):\n",
    "    def new1(self):\n",
    "        print(f\"My name is {self.name} \")\n",
    "\n",
    "a = Child(\"Ashutosh\")\n",
    "a.new1()\n"
   ]
  },
  {
   "cell_type": "code",
   "execution_count": 5,
   "id": "00d0db12-7da5-4afa-8225-851598ff813b",
   "metadata": {},
   "outputs": [],
   "source": [
    "class Bankac():\n",
    "    def __init__(self,i_d):\n",
    "        self.__i_d = i_d\n",
    "    def deposit(self,amount):\n",
    "        if amount>0:\n",
    "            self.__i_d +=amount\n",
    "    def withdraw(self,amount):\n",
    "        if 0<amount<=self.__i_d:\n",
    "            self.__i_d -=amount\n",
    "    def bal(self):\n",
    "        return self.__i_d"
   ]
  },
  {
   "cell_type": "code",
   "execution_count": 6,
   "id": "64fc30c4-99f7-4fa3-bce3-5763a90fad46",
   "metadata": {},
   "outputs": [
    {
     "data": {
      "text/plain": [
       "1300"
      ]
     },
     "execution_count": 6,
     "metadata": {},
     "output_type": "execute_result"
    }
   ],
   "source": [
    "a = Bankac(1000)\n",
    "a.deposit(500)\n",
    "a.withdraw(200)\n",
    "a.bal()"
   ]
  },
  {
   "cell_type": "code",
   "execution_count": null,
   "id": "33fdc2ca-cb08-442c-81ba-8452eaa8a6bd",
   "metadata": {},
   "outputs": [],
   "source": []
  }
 ],
 "metadata": {
  "kernelspec": {
   "display_name": "Python 3 (ipykernel)",
   "language": "python",
   "name": "python3"
  },
  "language_info": {
   "codemirror_mode": {
    "name": "ipython",
    "version": 3
   },
   "file_extension": ".py",
   "mimetype": "text/x-python",
   "name": "python",
   "nbconvert_exporter": "python",
   "pygments_lexer": "ipython3",
   "version": "3.11.7"
  }
 },
 "nbformat": 4,
 "nbformat_minor": 5
}
