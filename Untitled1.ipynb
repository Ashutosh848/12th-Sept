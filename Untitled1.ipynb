{
 "cells": [
  {
   "cell_type": "code",
   "execution_count": 1,
   "id": "0aeea2f4-0f76-4340-8dd8-95ebc46ed762",
   "metadata": {},
   "outputs": [
    {
     "name": "stdout",
     "output_type": "stream",
     "text": [
      "afad\n",
      "adj\n"
     ]
    }
   ],
   "source": [
    "a = ['afad','adj','kiwl']\n",
    "for i in a:\n",
    "    if(i[0]=='a' or i[0]=='e' or i[0]=='i' or i[0]=='o' or i[0]=='u'):\n",
    "        print(i)"
   ]
  },
  {
   "cell_type": "code",
   "execution_count": 3,
   "id": "0fc417f9-20d3-4451-bbfb-a3abfc3c9537",
   "metadata": {},
   "outputs": [
    {
     "name": "stdout",
     "output_type": "stream",
     "text": [
      "3715891200\n"
     ]
    }
   ],
   "source": [
    "n = 1\n",
    "p = 1\n",
    "while(n<=20):\n",
    "    if(n%2==0):\n",
    "        p = p*n\n",
    "    n = n+1\n",
    "print(p)"
   ]
  },
  {
   "cell_type": "code",
   "execution_count": 5,
   "id": "1b301701-1d99-4caa-a6ce-8b5405b06b4a",
   "metadata": {},
   "outputs": [
    {
     "name": "stdin",
     "output_type": "stream",
     "text": [
      " 3\n",
      " stop\n"
     ]
    },
    {
     "name": "stdout",
     "output_type": "stream",
     "text": [
      "['stop']\n"
     ]
    }
   ],
   "source": [
    "n = int(input())\n",
    "i = 1\n",
    "a = []\n",
    "\n",
    "while(i<=n):\n",
    "    val = input()\n",
    "    a.append(val)\n",
    "    if(val == 'stop'):\n",
    "        break\n",
    "    i = i+1\n",
    "print(a)"
   ]
  },
  {
   "cell_type": "code",
   "execution_count": 8,
   "id": "00e13e4f-6d86-4899-afb2-09edf1ea13d2",
   "metadata": {},
   "outputs": [
    {
     "name": "stdout",
     "output_type": "stream",
     "text": [
      "120\n",
      "[4, 16, 36, 64]\n"
     ]
    }
   ],
   "source": [
    "a = [2,4,5,6,8]\n",
    "sum =0\n",
    "l = []\n",
    "for i in a:\n",
    "    if(i%2==0):\n",
    "        i = i**2\n",
    "        sum = sum + i\n",
    "        l.append(i)\n",
    "print(sum)\n",
    "print(l)"
   ]
  },
  {
   "cell_type": "code",
   "execution_count": 10,
   "id": "01b3bde7-2dbd-4437-9c7b-7d4544cfd0b6",
   "metadata": {},
   "outputs": [
    {
     "name": "stdout",
     "output_type": "stream",
     "text": [
      "7\n"
     ]
    }
   ],
   "source": [
    "a = ['jaidiajd','adjijsdiai','ashutosh','asdjiw','asdoaiwa','aldkakdaodi','kaso','ad','askjdakdiw','ald']\n",
    "count = 0\n",
    "for i in a:\n",
    "    if(len(i)>5):\n",
    "        count = count + 1\n",
    "print(count)"
   ]
  },
  {
   "cell_type": "code",
   "execution_count": 12,
   "id": "49133092-a3ae-4435-ae84-ef12d5db1784",
   "metadata": {},
   "outputs": [
    {
     "name": "stdin",
     "output_type": "stream",
     "text": [
      " 4\n",
      " 2\n",
      " 4\n",
      " 2\n",
      " 1\n",
      " 7\n"
     ]
    },
    {
     "name": "stdout",
     "output_type": "stream",
     "text": [
      "stop\n"
     ]
    }
   ],
   "source": [
    "n = int(input())\n",
    "while(n!=7):\n",
    "    n = int(input())\n",
    "print('stop')"
   ]
  },
  {
   "cell_type": "code",
   "execution_count": 14,
   "id": "0136af23-059b-40ad-829d-c86c816f696c",
   "metadata": {},
   "outputs": [
    {
     "name": "stdout",
     "output_type": "stream",
     "text": [
      "6\n"
     ]
    }
   ],
   "source": [
    "a = [1,2,3,4,13,29,76,8,9]\n",
    "max = 0\n",
    "for i in a:\n",
    "    if(i>max):\n",
    "        max = i\n",
    "print(a.index(max))"
   ]
  },
  {
   "cell_type": "code",
   "execution_count": 17,
   "id": "32493e49-4ffc-4115-a0b3-35e524b3569c",
   "metadata": {},
   "outputs": [
    {
     "name": "stdin",
     "output_type": "stream",
     "text": [
      " 123\n"
     ]
    },
    {
     "name": "stdout",
     "output_type": "stream",
     "text": [
      "not\n"
     ]
    }
   ],
   "source": [
    "n = input()\n",
    "rev = ''\n",
    "temp = int(n)\n",
    "\n",
    "for i in n:\n",
    "    rev = i + rev\n",
    "r1 = int(rev)\n",
    "if(r1 == temp):\n",
    "    print(\"PaL\")\n",
    "else:\n",
    "    print(\"not\")"
   ]
  },
  {
   "cell_type": "code",
   "execution_count": 23,
   "id": "6e81f54f-2a45-4a78-acb3-18a8709d33a5",
   "metadata": {},
   "outputs": [
    {
     "name": "stdout",
     "output_type": "stream",
     "text": [
      "4\n",
      "1\n"
     ]
    }
   ],
   "source": [
    "t = (1,2,3,4)\n",
    "max = 0\n",
    "min = t[0]\n",
    "for i in t:\n",
    "    if(i>max):\n",
    "        max = i\n",
    "    elif(i<min):\n",
    "        min = i\n",
    "print(max)\n",
    "print(min)"
   ]
  },
  {
   "cell_type": "code",
   "execution_count": 24,
   "id": "8cb714fc-a189-4535-9335-f45b24fbf1e8",
   "metadata": {},
   "outputs": [
    {
     "data": {
      "text/plain": [
       "7"
      ]
     },
     "execution_count": 24,
     "metadata": {},
     "output_type": "execute_result"
    }
   ],
   "source": [
    "def hu(a,b):\n",
    "    return a+b\n",
    "hu(3,4)\n"
   ]
  },
  {
   "cell_type": "code",
   "execution_count": 25,
   "id": "09115cf8-f95f-4434-bd5d-d2151bc1b0aa",
   "metadata": {},
   "outputs": [
    {
     "data": {
      "text/plain": [
       "9"
      ]
     },
     "execution_count": 25,
     "metadata": {},
     "output_type": "execute_result"
    }
   ],
   "source": [
    "def sq(n):\n",
    "    return n**2\n",
    "sq(3)"
   ]
  },
  {
   "cell_type": "code",
   "execution_count": 26,
   "id": "089bd8bd-501b-430a-9c52-941638e17e5b",
   "metadata": {},
   "outputs": [
    {
     "name": "stdout",
     "output_type": "stream",
     "text": [
      "[30]\n"
     ]
    }
   ],
   "source": [
    "def sum(a,sum,l):\n",
    "    for i in a:\n",
    "        i = i**2\n",
    "        sum = sum + i\n",
    "    l.append(sum)\n",
    "    print(l)\n",
    "sum([1,2,3,4],0,[])"
   ]
  },
  {
   "cell_type": "code",
   "execution_count": 27,
   "id": "293a52d2-c449-4646-baa3-e8dd96b4c69c",
   "metadata": {},
   "outputs": [
    {
     "data": {
      "text/plain": [
       "'Dahjda'"
      ]
     },
     "execution_count": 27,
     "metadata": {},
     "output_type": "execute_result"
    }
   ],
   "source": [
    "a = 'dahjda'\n",
    "a.capitalize()"
   ]
  },
  {
   "cell_type": "code",
   "execution_count": 28,
   "id": "05da7b38-bcff-4b44-b6eb-69028446c4d0",
   "metadata": {},
   "outputs": [
    {
     "name": "stdout",
     "output_type": "stream",
     "text": [
      "0\n",
      "1\n",
      "1\n",
      "2\n",
      "3\n",
      "5\n",
      "8\n",
      "13\n",
      "21\n",
      "34\n",
      "55\n",
      "89\n"
     ]
    }
   ],
   "source": [
    "a = 0\n",
    "b = 1\n",
    "\n",
    "while(a<=100):\n",
    "    print(a)\n",
    "    a,b = b,a+b"
   ]
  },
  {
   "cell_type": "code",
   "execution_count": null,
   "id": "dc43b1d3-2824-4058-b003-f53b50336fdc",
   "metadata": {},
   "outputs": [],
   "source": []
  }
 ],
 "metadata": {
  "kernelspec": {
   "display_name": "Python 3 (ipykernel)",
   "language": "python",
   "name": "python3"
  },
  "language_info": {
   "codemirror_mode": {
    "name": "ipython",
    "version": 3
   },
   "file_extension": ".py",
   "mimetype": "text/x-python",
   "name": "python",
   "nbconvert_exporter": "python",
   "pygments_lexer": "ipython3",
   "version": "3.11.7"
  }
 },
 "nbformat": 4,
 "nbformat_minor": 5
}
