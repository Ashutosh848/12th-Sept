{
 "cells": [
  {
   "cell_type": "code",
   "execution_count": 2,
   "id": "c0f19c0f-ec58-4830-b6b1-0f41508c083e",
   "metadata": {},
   "outputs": [
    {
     "name": "stdin",
     "output_type": "stream",
     "text": [
      " 1321\n"
     ]
    },
    {
     "name": "stdout",
     "output_type": "stream",
     "text": [
      "The sum is :-7\n"
     ]
    }
   ],
   "source": [
    "def add(n,sum):\n",
    "    while(n!=0):\n",
    "        digit = n%10\n",
    "        sum = sum + digit\n",
    "        n = n//10\n",
    "    print(f\"The sum is :-{sum}\")\n",
    "\n",
    "add(int(input()),0)"
   ]
  },
  {
   "cell_type": "code",
   "execution_count": 5,
   "id": "52bf193f-1594-4cb6-81f3-7813af4bc12f",
   "metadata": {},
   "outputs": [
    {
     "name": "stdout",
     "output_type": "stream",
     "text": [
      "Arm\n"
     ]
    }
   ],
   "source": [
    "def arm(n,rev):\n",
    "    temp = n\n",
    "    while(n!=0):\n",
    "        digit = n%10\n",
    "        rev = digit**3 + rev\n",
    "        n = n//10\n",
    "    if(rev == temp):\n",
    "        print(\"Arm\")\n",
    "    else:\n",
    "        print(\"Not\")\n",
    "\n",
    "arm(153,0)"
   ]
  },
  {
   "cell_type": "code",
   "execution_count": 6,
   "id": "595f1042-20fe-4830-b1af-29dda737c121",
   "metadata": {},
   "outputs": [
    {
     "name": "stdout",
     "output_type": "stream",
     "text": [
      "[1, 4, 9, 16, 25]\n"
     ]
    }
   ],
   "source": []
  },
  {
   "cell_type": "code",
   "execution_count": 7,
   "id": "c722583f-4d31-41f9-888f-12f6915edc39",
   "metadata": {},
   "outputs": [
    {
     "data": {
      "text/plain": [
       "9"
      ]
     },
     "execution_count": 7,
     "metadata": {},
     "output_type": "execute_result"
    }
   ],
   "source": [
    "'''Types of Arguments\n",
    "    -Positional Arguments\n",
    "    -Keyword Agruments\n",
    "    -default Arguments\n",
    "    -Variable variable length\n",
    "    -keyword variable length'''\n",
    "\n",
    "\n",
    "#Positional arguments\n",
    "# We do not pass the name of the variable\n",
    "#Only the value is to be passed\n",
    "def add(a,b):\n",
    "    return a+b\n",
    "add(4,5)\n"
   ]
  },
  {
   "cell_type": "code",
   "execution_count": 9,
   "id": "d208f93f-5783-44cb-9226-7fc9bf2de5f1",
   "metadata": {},
   "outputs": [
    {
     "name": "stdout",
     "output_type": "stream",
     "text": [
      "Hey! Ashutosh \n"
     ]
    }
   ],
   "source": [
    "def how(name,greet):\n",
    "    print(f\"{greet} {name} \")\n",
    "how(name = \"Ashutosh\",greet = \"Hey!\")"
   ]
  },
  {
   "cell_type": "code",
   "execution_count": 14,
   "id": "7eff9052-1e37-4be8-85dd-60859928fe9b",
   "metadata": {},
   "outputs": [
    {
     "name": "stdout",
     "output_type": "stream",
     "text": [
      " Hey! Ashutosh \n"
     ]
    }
   ],
   "source": [
    "def wow(name,greet = \"Helllow!\"):\n",
    "    print(f' {greet} {name} ')\n",
    "wow(\"Ashutosh\",greet = \"Hey!\")   "
   ]
  },
  {
   "cell_type": "code",
   "execution_count": 15,
   "id": "d3e553ce-aca8-4ccc-9e21-830ac9486498",
   "metadata": {},
   "outputs": [
    {
     "ename": "SyntaxError",
     "evalue": "invalid syntax (1884509044.py, line 1)",
     "output_type": "error",
     "traceback": [
      "\u001b[1;36m  Cell \u001b[1;32mIn[15], line 1\u001b[1;36m\u001b[0m\n\u001b[1;33m    def __init__(3,4):\u001b[0m\n\u001b[1;37m                 ^\u001b[0m\n\u001b[1;31mSyntaxError\u001b[0m\u001b[1;31m:\u001b[0m invalid syntax\n"
     ]
    }
   ],
   "source": [
    "def __init__(a):\n",
    "return 3+4"
   ]
  },
  {
   "cell_type": "code",
   "execution_count": 17,
   "id": "1bd48d3d-de01-475f-8629-5eb4d094856a",
   "metadata": {},
   "outputs": [
    {
     "data": {
      "text/plain": [
       "10"
      ]
     },
     "execution_count": 17,
     "metadata": {},
     "output_type": "execute_result"
    }
   ],
   "source": [
    "def ad(*n):\n",
    "    return sum(n)\n",
    "ad(1,2,3,4)"
   ]
  },
  {
   "cell_type": "code",
   "execution_count": null,
   "id": "f011a480-039b-446d-ae84-beecaa8b899f",
   "metadata": {},
   "outputs": [],
   "source": []
  }
 ],
 "metadata": {
  "kernelspec": {
   "display_name": "Python 3 (ipykernel)",
   "language": "python",
   "name": "python3"
  },
  "language_info": {
   "codemirror_mode": {
    "name": "ipython",
    "version": 3
   },
   "file_extension": ".py",
   "mimetype": "text/x-python",
   "name": "python",
   "nbconvert_exporter": "python",
   "pygments_lexer": "ipython3",
   "version": "3.11.7"
  }
 },
 "nbformat": 4,
 "nbformat_minor": 5
}
