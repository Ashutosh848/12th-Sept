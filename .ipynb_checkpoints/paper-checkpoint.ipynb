{
 "cells": [
  {
   "cell_type": "code",
   "execution_count": 10,
   "id": "89625d72-dd28-44af-ae7e-e6981dcefc93",
   "metadata": {},
   "outputs": [
    {
     "name": "stdin",
     "output_type": "stream",
     "text": [
      "Enter a value: 10\n"
     ]
    },
    {
     "name": "stdout",
     "output_type": "stream",
     "text": [
      "1\n",
      "2\n",
      "3\n",
      "4\n",
      "5\n",
      "6\n",
      "7\n",
      "8\n",
      "9\n",
      "10\n"
     ]
    }
   ],
   "source": [
    "n = int(input(\"Enter a value:\"))\n",
    "for i in range(1,n+1):\n",
    "    print(i)"
   ]
  },
  {
   "cell_type": "code",
   "execution_count": 24,
   "id": "c679c83f-f6e3-411d-915b-37587496c9ec",
   "metadata": {},
   "outputs": [
    {
     "name": "stdin",
     "output_type": "stream",
     "text": [
      "Enter a value 10\n"
     ]
    },
    {
     "name": "stdout",
     "output_type": "stream",
     "text": [
      "10,9,8,7,6,5,4,3,2,1,"
     ]
    }
   ],
   "source": [
    "n = int(input(\"Enter a value\"))\n",
    "for i in range(n,1-1,-1):\n",
    "    print(i,end = ',')"
   ]
  },
  {
   "cell_type": "code",
   "execution_count": 25,
   "id": "d39e8dba-efb6-4854-9793-bb83bfebdc94",
   "metadata": {},
   "outputs": [
    {
     "name": "stdin",
     "output_type": "stream",
     "text": [
      "Enter a value: 10\n"
     ]
    },
    {
     "name": "stdout",
     "output_type": "stream",
     "text": [
      "1,3,5,7,9,"
     ]
    }
   ],
   "source": [
    "n = int(input(\"Enter a value:\"))\n",
    "\n",
    "for i in range(1,n+1,2):\n",
    "    print(i,end=',')"
   ]
  },
  {
   "cell_type": "code",
   "execution_count": 28,
   "id": "dc3b8133-2edc-41ad-b4c2-cc88dd4d5e66",
   "metadata": {},
   "outputs": [
    {
     "name": "stdin",
     "output_type": "stream",
     "text": [
      "Enter a value: 10\n"
     ]
    },
    {
     "name": "stdout",
     "output_type": "stream",
     "text": [
      "1,0,1,0,1,0,1,0,1,"
     ]
    }
   ],
   "source": [
    "n = int(input(\"Enter a value:\"))\n",
    "for i in range(1,n):\n",
    "    if(i%2==0):\n",
    "        print(0,end=',')\n",
    "    else:\n",
    "        print(1,end=',')"
   ]
  },
  {
   "cell_type": "code",
   "execution_count": 29,
   "id": "8ba2aeba-3c11-4312-8b16-94286391f4c7",
   "metadata": {},
   "outputs": [
    {
     "name": "stdin",
     "output_type": "stream",
     "text": [
      "Enter a value: 10\n"
     ]
    },
    {
     "name": "stdout",
     "output_type": "stream",
     "text": [
      "1,2,3,0,1,2,3,0,1,2,"
     ]
    }
   ],
   "source": [
    "n = int(input(\"Enter a value:\"))\n",
    "for i in range(1,n+1):\n",
    "    i = i%4\n",
    "    print(i,end=',')"
   ]
  },
  {
   "cell_type": "code",
   "execution_count": null,
   "id": "e06436be-aeea-44d4-8bb5-e3b773401500",
   "metadata": {},
   "outputs": [],
   "source": [
    "n = int(input(\"Enter a value:\"))\n",
    "for i in range(1,n+1):\n",
    "    i = i%5\n",
    "    print(i,end = ',')\n",
    "\n",
    "\n",
    "    "
   ]
  },
  {
   "cell_type": "code",
   "execution_count": 40,
   "id": "62d54109-f00f-4d8c-bba4-8994017e0841",
   "metadata": {},
   "outputs": [
    {
     "name": "stdin",
     "output_type": "stream",
     "text": [
      "enter a value: 10\n"
     ]
    },
    {
     "name": "stdout",
     "output_type": "stream",
     "text": [
      "1,2,3,5,8,13,21,34,55,89,"
     ]
    }
   ],
   "source": [
    "n = int(input(\"enter a value:\"))\n",
    "num1 = 0\n",
    "num2 = 1\n",
    "count = 1\n",
    "nxt_num = num2\n",
    "while(count<=n):\n",
    "    print(nxt_num,end=',')\n",
    "    count+=1\n",
    "    num1,num2=num2,nxt_num\n",
    "    nxt_num = num1 + num2\n"
   ]
  },
  {
   "cell_type": "code",
   "execution_count": 47,
   "id": "5147a002-e4b8-452b-a285-b6927c638c9a",
   "metadata": {},
   "outputs": [
    {
     "name": "stdin",
     "output_type": "stream",
     "text": [
      "Enter a value: 10\n"
     ]
    },
    {
     "name": "stdout",
     "output_type": "stream",
     "text": [
      "1\n",
      "2\n",
      "4\n",
      "7\n",
      "13\n",
      "24\n",
      "44\n",
      "81\n",
      "149\n",
      "274\n"
     ]
    }
   ],
   "source": [
    "n = int(input(\"Enter a value:\"))\n",
    "num1= 0\n",
    "num2 = 0\n",
    "num3=1\n",
    "count= 1\n",
    "nxtnum=num3\n",
    "\n",
    "while(count<=n):\n",
    "    print(nxtnum)\n",
    "    count+=1\n",
    "    num1,num2,num3=num2,num3,nxtnum\n",
    "    nxtnum=num1+num2+num3\n",
    "    \n",
    "    "
   ]
  },
  {
   "cell_type": "code",
   "execution_count": 50,
   "id": "82a7b6c4-4ffb-4e58-bda4-4b5f59f7ce95",
   "metadata": {},
   "outputs": [
    {
     "name": "stdin",
     "output_type": "stream",
     "text": [
      "Enter a vlaue: 123\n"
     ]
    },
    {
     "name": "stdout",
     "output_type": "stream",
     "text": [
      "The sum of the digit is  6\n"
     ]
    }
   ],
   "source": [
    "n = int(input(\"Enter a vlaue:\"))\n",
    "sum = 0\n",
    "\n",
    "while(n!=0):\n",
    "    digit = n%10\n",
    "    sum = sum + digit\n",
    "    n = n//10\n",
    "print(\"The sum of the digit is \",sum)"
   ]
  },
  {
   "cell_type": "code",
   "execution_count": 8,
   "id": "b660e6f8-874f-454d-ae46-aa1bf1f4a24e",
   "metadata": {},
   "outputs": [
    {
     "name": "stdin",
     "output_type": "stream",
     "text": [
      "Enter a value: 123\n"
     ]
    },
    {
     "name": "stdout",
     "output_type": "stream",
     "text": [
      "3\n"
     ]
    }
   ],
   "source": [
    "n = int(input(\"Enter a value:\"))\n",
    "count = 0\n",
    "\n",
    "while(n!=0):\n",
    "    count = count +1\n",
    "    n=n//10\n",
    "print(count)    "
   ]
  },
  {
   "cell_type": "code",
   "execution_count": 9,
   "id": "88925efc-dc4b-4467-b919-c3d7ecc45cae",
   "metadata": {},
   "outputs": [
    {
     "name": "stdin",
     "output_type": "stream",
     "text": [
      "Enter a value: 123\n"
     ]
    },
    {
     "name": "stdout",
     "output_type": "stream",
     "text": [
      "321\n"
     ]
    }
   ],
   "source": [
    "n = int(input(\"Enter a value:\"))\n",
    "rev = 0\n",
    "while(n!=0):\n",
    "    digit = n%10\n",
    "    rev = rev*10 + digit\n",
    "    n=n//10\n",
    "print(rev)"
   ]
  },
  {
   "cell_type": "code",
   "execution_count": 19,
   "id": "99c9b03c-bde8-44f5-b276-06452df40562",
   "metadata": {},
   "outputs": [
    {
     "name": "stdin",
     "output_type": "stream",
     "text": [
      "Enter a value: 123\n"
     ]
    },
    {
     "name": "stdout",
     "output_type": "stream",
     "text": [
      "No palindrome\n"
     ]
    }
   ],
   "source": [
    "n = int(input(\"Enter a value:\"))\n",
    "temp = n\n",
    "rev = 0\n",
    "\n",
    "while(n!=0):\n",
    "    digit = n%10\n",
    "    rev = rev*10 + digit\n",
    "    n = n//10\n",
    "if(temp==rev):\n",
    "    print(\"Palindrome\")\n",
    "else:\n",
    "    print(\"No palindrome\")"
   ]
  },
  {
   "cell_type": "code",
   "execution_count": 23,
   "id": "66d1804d-83cf-424f-9038-186ca74c50de",
   "metadata": {},
   "outputs": [
    {
     "name": "stdin",
     "output_type": "stream",
     "text": [
      "Enter a num: 5\n"
     ]
    },
    {
     "name": "stdout",
     "output_type": "stream",
     "text": [
      "120\n"
     ]
    }
   ],
   "source": [
    "n = int(input(\"Enter a num:\"))\n",
    "fact = 1\n",
    "for i in range(1,n+1):\n",
    "    fact = fact*i\n",
    "print(fact)"
   ]
  },
  {
   "cell_type": "code",
   "execution_count": 12,
   "id": "fa15fa4f-1ba8-46d9-94d6-0b20d3e25b1a",
   "metadata": {},
   "outputs": [
    {
     "name": "stdin",
     "output_type": "stream",
     "text": [
      "Enter a value: 5\n"
     ]
    },
    {
     "name": "stdout",
     "output_type": "stream",
     "text": [
      " *\n",
      " * *\n",
      " * * *\n",
      " * * * *\n",
      " * * * * *\n",
      " * * * * * *\n"
     ]
    }
   ],
   "source": [
    "n = int(input(\"Enter a value:\"))\n",
    "\n",
    "for i in range(0,n+1):\n",
    "    for j in range(0,i+1):\n",
    "        print(\" *\",end='')\n",
    "    print()"
   ]
  },
  {
   "cell_type": "code",
   "execution_count": 14,
   "id": "f806852e-4d9e-4835-955d-3c746e2b3a9d",
   "metadata": {},
   "outputs": [
    {
     "name": "stdin",
     "output_type": "stream",
     "text": [
      "Enter a value: 5\n"
     ]
    },
    {
     "name": "stdout",
     "output_type": "stream",
     "text": [
      "* * * * * \n",
      "* * * * * \n",
      "* * * * * \n",
      "* * * * * \n",
      "* * * * * \n",
      "* * * * * \n"
     ]
    }
   ],
   "source": [
    "n = int(input(\"Enter a value:\"))\n",
    "\n",
    "for i in range(0,n+1):\n",
    "    for j in range(n):\n",
    "        print(\"* \",end = '')\n",
    "    print()"
   ]
  },
  {
   "cell_type": "code",
   "execution_count": 7,
   "id": "cf159df7-854c-4500-af19-dcf79d80923a",
   "metadata": {},
   "outputs": [
    {
     "name": "stdout",
     "output_type": "stream",
     "text": [
      "6\n"
     ]
    }
   ],
   "source": [
    "def sum(n):\n",
    "    sum = 0\n",
    "    while(n!=0):\n",
    "        digit = n%10\n",
    "        sum = sum+digit\n",
    "        n = n//10\n",
    "    print(sum)\n",
    "\n",
    "sum(123)"
   ]
  },
  {
   "cell_type": "code",
   "execution_count": 6,
   "id": "4bb6dc3b-2563-492c-b9e1-89137b70c984",
   "metadata": {},
   "outputs": [
    {
     "name": "stdout",
     "output_type": "stream",
     "text": [
      "3\n"
     ]
    }
   ],
   "source": [
    "def count(n):\n",
    "    count = 1\n",
    "    while(count<=n):\n",
    "        digit = n%10\n",
    "        count+=1\n",
    "        n//=10\n",
    "    print(count)\n",
    "\n",
    "count(234)"
   ]
  },
  {
   "cell_type": "code",
   "execution_count": 8,
   "id": "3b3fd55a-a6b6-4a66-93ab-d68c0f032fa2",
   "metadata": {},
   "outputs": [
    {
     "name": "stdout",
     "output_type": "stream",
     "text": [
      "321\n"
     ]
    }
   ],
   "source": [
    "def rev_num(n):\n",
    "    rev = 0\n",
    "    while(n!=0):\n",
    "        digit = n%10\n",
    "        rev = rev*10 + digit\n",
    "        n//=10\n",
    "    print(rev)\n",
    "\n",
    "rev_num(123)"
   ]
  },
  {
   "cell_type": "code",
   "execution_count": 12,
   "id": "2f83b1a0-6d7a-47e5-abf2-3646cd56af46",
   "metadata": {},
   "outputs": [
    {
     "name": "stdout",
     "output_type": "stream",
     "text": [
      "This is a palindrome No.:1331\n"
     ]
    }
   ],
   "source": [
    "def palin(n):\n",
    "    rev = 0\n",
    "    temp = n\n",
    "    while(n!=0):\n",
    "        digit = n%10\n",
    "        rev = rev*10 +digit\n",
    "        n//=10\n",
    "    if(rev==temp):\n",
    "        print(f\"This is a palindrome No.:{temp}\")\n",
    "    else:\n",
    "        print(f\"This is not a palindrome {temp} \")\n",
    "\n",
    "palin(1331)"
   ]
  },
  {
   "cell_type": "code",
   "execution_count": 17,
   "id": "5a1bfd21-f3a1-4c65-a976-27ff6c8b4271",
   "metadata": {},
   "outputs": [
    {
     "name": "stdout",
     "output_type": "stream",
     "text": [
      "This is an armstrong No 153 \n"
     ]
    }
   ],
   "source": [
    "def armstrong(n):\n",
    "    rev = 0\n",
    "    temp = n\n",
    "    while(n!=0):\n",
    "        digit = n%10\n",
    "        rev = digit **3 + rev\n",
    "        n//=10\n",
    "    if(rev == temp):\n",
    "        print(f\"This is an armstrong No {temp} \")\n",
    "    else:\n",
    "        print(\"This is not an armstrong no\")\n",
    "\n",
    "\n",
    "armstrong(153)"
   ]
  },
  {
   "cell_type": "code",
   "execution_count": 19,
   "id": "15cdc748-6840-46a0-8269-829e912d78dc",
   "metadata": {},
   "outputs": [
    {
     "name": "stdin",
     "output_type": "stream",
     "text": [
      "Enter a value: 2842\n"
     ]
    },
    {
     "name": "stdout",
     "output_type": "stream",
     "text": [
      "4\n"
     ]
    }
   ],
   "source": [
    "n = int(input(\"Enter a value:\"))\n",
    "count = 0\n",
    "while(n!=0):\n",
    "    count = count+1\n",
    "    n//=10\n",
    "print(count)"
   ]
  },
  {
   "cell_type": "code",
   "execution_count": 22,
   "id": "440eb5d6-0eb4-4583-9c08-76108f5c1df6",
   "metadata": {},
   "outputs": [
    {
     "name": "stdout",
     "output_type": "stream",
     "text": [
      "28372\n"
     ]
    }
   ],
   "source": [
    "def rev2(n):\n",
    "    rev = 0\n",
    "    while(n!=0):\n",
    "        digit = n%10\n",
    "        rev = rev*10 + digit\n",
    "        n = n//10\n",
    "    print(rev)\n",
    "\n",
    "rev2(27382)"
   ]
  },
  {
   "cell_type": "code",
   "execution_count": 25,
   "id": "1d4be856-8e09-42e3-a9ed-c8c6cae16c5a",
   "metadata": {},
   "outputs": [
    {
     "name": "stdout",
     "output_type": "stream",
     "text": [
      "This is not a palindorme no.\n"
     ]
    }
   ],
   "source": [
    "def palin(n):\n",
    "    rev = 0\n",
    "    temp = n\n",
    "    while(n!=0):\n",
    "        digit = n%10\n",
    "        rev = rev*10 + digit\n",
    "        n//=10\n",
    "    if(rev == temp):\n",
    "        print(f\"This is a palindrome No.{rev}\")\n",
    "    else:\n",
    "        print(\"This is not a palindorme no.\")\n",
    "\n",
    "palin(1321)"
   ]
  },
  {
   "cell_type": "code",
   "execution_count": 29,
   "id": "05c4c90d-4099-49a7-a033-559fea389766",
   "metadata": {},
   "outputs": [
    {
     "name": "stdout",
     "output_type": "stream",
     "text": [
      "The sum is = 12 \n"
     ]
    }
   ],
   "source": [
    "def sum(n):\n",
    "    sum = 0\n",
    "    while(n!=0):\n",
    "        digit = n%10\n",
    "        sum = sum + digit\n",
    "        n//=10\n",
    "    print(f\"The sum is = {sum} \")\n",
    "\n",
    "\n",
    "sum(273)"
   ]
  },
  {
   "cell_type": "code",
   "execution_count": 34,
   "id": "cf1fb54c-f88f-442c-981e-13349b92cd32",
   "metadata": {},
   "outputs": [
    {
     "name": "stdout",
     "output_type": "stream",
     "text": [
      "This is an armstrong No. 407 \n"
     ]
    }
   ],
   "source": [
    "def arm(n):\n",
    "    rev = 0\n",
    "    temp = n\n",
    "    while(n!=0):\n",
    "        digit = n%10\n",
    "        rev = digit**3 + rev\n",
    "        n//=10\n",
    "    if(rev == temp):\n",
    "        print(f\"This is an armstrong No. {rev} \")\n",
    "    else:\n",
    "        print(\"This is not an armstrong No.\")\n",
    "\n",
    "arm(407)"
   ]
  },
  {
   "cell_type": "code",
   "execution_count": 36,
   "id": "b40c8020-7c46-457c-8a53-8a65dcca395b",
   "metadata": {},
   "outputs": [
    {
     "name": "stdout",
     "output_type": "stream",
     "text": [
      "  *\n",
      "  * *\n",
      "  * * *\n",
      "  * * * *\n",
      "  * * * * *\n"
     ]
    }
   ],
   "source": [
    "def left(n):\n",
    "    for i in range(1,n+1):\n",
    "        print(\" \",end = '')\n",
    "        for j in range(i):\n",
    "            print(\" *\",end = '')\n",
    "        print()\n",
    "\n",
    "left(5)"
   ]
  },
  {
   "cell_type": "code",
   "execution_count": 43,
   "id": "dfd67758-4a93-49bd-aaa3-79ca89cb876b",
   "metadata": {},
   "outputs": [
    {
     "name": "stdout",
     "output_type": "stream",
     "text": [
      "    *\n",
      "   ***\n",
      "  *****\n",
      " *******\n",
      "*********\n"
     ]
    }
   ],
   "source": [
    "def right(n):\n",
    "    for i in range(1,n+1):\n",
    "        for j in range(n-i):\n",
    "            print(\" \",end = '')\n",
    "        for k in range(1,i*2):\n",
    "            print(\"*\",end = \"\")\n",
    "        print()\n",
    "\n",
    "right(5)"
   ]
  },
  {
   "cell_type": "code",
   "execution_count": 48,
   "id": "64caa0da-a7bf-443e-93c9-1b3d70ae31a0",
   "metadata": {},
   "outputs": [
    {
     "name": "stdout",
     "output_type": "stream",
     "text": [
      "Not Weird\n"
     ]
    }
   ],
   "source": [
    "def hack(n):\n",
    "    if(n%2!=0):\n",
    "        print(\"Weird\")\n",
    "    elif(n%2==0)&(n>=2)&(n<=5):\n",
    "        print(\"Not Weird\")\n",
    "    elif(n%2==0)&(n>=6)&(n<=20):\n",
    "        print(\"Weird\")\n",
    "    elif(n%2==0)&(n>20):\n",
    "        print(\"Not Weird\")\n",
    "\n",
    "hack(24)"
   ]
  },
  {
   "cell_type": "code",
   "execution_count": 49,
   "id": "77f639c9-3996-4e3f-baaa-949cd9dfc871",
   "metadata": {},
   "outputs": [
    {
     "name": "stdin",
     "output_type": "stream",
     "text": [
      "Enter a value 3\n",
      "Enter a value 3\n"
     ]
    },
    {
     "name": "stdout",
     "output_type": "stream",
     "text": [
      "6\n",
      "0\n",
      "9\n"
     ]
    }
   ],
   "source": [
    "a = int(input(\"Enter a value\"))\n",
    "b = int(input(\"Enter a value\"))\n",
    "print(a+b)\n",
    "print(a-b)\n",
    "print(a*b)\n"
   ]
  },
  {
   "cell_type": "code",
   "execution_count": 51,
   "id": "425a84d9-7019-4fa9-b19a-c040ba06181f",
   "metadata": {},
   "outputs": [
    {
     "name": "stdin",
     "output_type": "stream",
     "text": [
      "Enter a value= 5\n"
     ]
    },
    {
     "name": "stdout",
     "output_type": "stream",
     "text": [
      "1\n",
      "4\n",
      "9\n",
      "16\n",
      "25\n"
     ]
    }
   ],
   "source": [
    "n = int(input(\"Enter a value=\"))\n",
    "\n",
    "for i in range(1,n+1):\n",
    "    i=i**2\n",
    "    print(i)"
   ]
  },
  {
   "cell_type": "code",
   "execution_count": 52,
   "id": "3dfb8207-c8c3-4fa8-918c-b50346b343f2",
   "metadata": {},
   "outputs": [
    {
     "name": "stdin",
     "output_type": "stream",
     "text": [
      "Enter a value: 5\n"
     ]
    },
    {
     "name": "stdout",
     "output_type": "stream",
     "text": [
      "12345"
     ]
    }
   ],
   "source": [
    "n = int(input(\"Enter a value:\"))\n",
    "\n",
    "for i in range(1,n+1):\n",
    "    print(i,end = '')"
   ]
  },
  {
   "cell_type": "code",
   "execution_count": 103,
   "id": "9c1c7e8f-0dd0-468f-873e-805782977fe2",
   "metadata": {},
   "outputs": [
    {
     "data": {
      "text/plain": [
       "[43, 9301]"
      ]
     },
     "execution_count": 103,
     "metadata": {},
     "output_type": "execute_result"
    }
   ],
   "source": [
    "list = [1,23,43,56,29,91,9301,31]\n",
    "list[2::4]"
   ]
  },
  {
   "cell_type": "code",
   "execution_count": 105,
   "id": "4548a98b-a4d6-40b7-9f0b-b53f4350f6a4",
   "metadata": {},
   "outputs": [
    {
     "name": "stdout",
     "output_type": "stream",
     "text": [
      "<class 'set'>\n"
     ]
    }
   ],
   "source": [
    "dict = (12,23,3)\n",
    "print(type)"
   ]
  },
  {
   "cell_type": "code",
   "execution_count": 5,
   "id": "bf34da18-c2cf-4566-bbfa-286ccf9bf776",
   "metadata": {},
   "outputs": [
    {
     "name": "stdout",
     "output_type": "stream",
     "text": [
      "     * \n",
      "    * * \n",
      "   * * * \n",
      "  * * * * \n",
      " * * * * * \n",
      "  * * * * \n",
      "   * * * \n",
      "    * * \n",
      "     * \n"
     ]
    }
   ],
   "source": [
    "n = 5\n",
    "for r in range(1,2*n):\n",
    "    if(r<=n):\n",
    "        total = r\n",
    "    else:\n",
    "        total = 2*n-r\n",
    "    nfs = n - total\n",
    "    for s in range(nfs+1):\n",
    "        print(\" \",end = '')\n",
    "    for c in range(1,total+1):\n",
    "        print(\"* \",end = '')\n",
    "    print()\n",
    "    "
   ]
  },
  {
   "cell_type": "code",
   "execution_count": 6,
   "id": "19bf7e5d-848d-4f81-8cc6-4306d1b953e3",
   "metadata": {},
   "outputs": [
    {
     "ename": "SyntaxError",
     "evalue": "expected ':' (4074710335.py, line 1)",
     "output_type": "error",
     "traceback": [
      "\u001b[1;36m  Cell \u001b[1;32mIn[6], line 1\u001b[1;36m\u001b[0m\n\u001b[1;33m    for i in range(1,2)\u001b[0m\n\u001b[1;37m                       ^\u001b[0m\n\u001b[1;31mSyntaxError\u001b[0m\u001b[1;31m:\u001b[0m expected ':'\n"
     ]
    }
   ],
   "source": []
  },
  {
   "cell_type": "code",
   "execution_count": 1,
   "id": "7d2c58d6-7776-4f23-a635-8730f0a1ca81",
   "metadata": {},
   "outputs": [],
   "source": [
    "import requests\n",
    "url = \"http://192.168.1.2:90/HMS/GS_Reports/GS_OPD/GS_Collection.aspx?UW=Y#\"\n"
   ]
  },
  {
   "cell_type": "code",
   "execution_count": 4,
   "id": "1d9f7136-8d1a-41eb-bc13-3bcef48c3747",
   "metadata": {},
   "outputs": [],
   "source": [
    "head = ({\"User-Agent\":\"Mozilla/5.0 (Windows NT 10.0; Win64; x64) AppleWebKit/537.36 (KHTML, like Gecko) Chrome/127.0.0.0 Safari/537.36\"})"
   ]
  },
  {
   "cell_type": "code",
   "execution_count": 5,
   "id": "c4ad9cc6-5945-430c-ae95-40aac58e9d71",
   "metadata": {},
   "outputs": [],
   "source": [
    "web = requests.get(url,headers = head)\n"
   ]
  },
  {
   "cell_type": "code",
   "execution_count": 6,
   "id": "d2524585-063d-4332-894d-2e9f3ed5ddac",
   "metadata": {},
   "outputs": [
    {
     "data": {
      "text/plain": [
       "<Response [200]>"
      ]
     },
     "execution_count": 6,
     "metadata": {},
     "output_type": "execute_result"
    }
   ],
   "source": [
    "web"
   ]
  },
  {
   "cell_type": "code",
   "execution_count": 7,
   "id": "79b054b2-59f8-4fb3-8607-e0c6e0da05c6",
   "metadata": {},
   "outputs": [
    {
     "data": {
      "text/plain": [
       "b'\\r\\n<!DOCTYPE html PUBLIC \"-//W3C//DTD XHTML 1.0 Transitional//EN\" \"http://www.w3.org/TR/xhtml1/DTD/xhtml1-transitional.dtd\">\\r\\n<html xmlns=\"http://www.w3.org/1999/xhtml\">\\r\\n<head><title>\\r\\n\\r\\n</title><link href=\"HMS/GS_CSS/UpdateProgress.css\" rel=\"stylesheet\" type=\"text/css\" /><link href=\"HMS/GS_CSS/jquery-ui-1.8.16.custom.css\" rel=\"stylesheet\" type=\"text/css\" />\\r\\n    <script type=\"text/javascript\" src=\"HMS/GS_JS/Jquery.js\"></script>\\r\\n    <script src=\"HMS/GS_JS/jquery-ui-1.8.16.custom.min.js\" type=\"text/javascript\"></script>\\r\\n    <link href=\"HMS/GS_CSS/login_page/demo.css\" rel=\"stylesheet\" type=\"text/css\" />\\r\\n    <script src=\"/HMS/GS_JS/jquery.alphanumeric.pack.js\" type=\"text/javascript\"></script>\\r\\n    <script language=\"javascript\" type=\"text/javascript\">\\r\\n        $(function () {\\r\\n            $(\".alphanumeric\").alphanumeric({ allow: \"@_\" });\\r\\n\\r\\n            var fullDate = new Date();\\r\\n            var twoDigitMonth = fullDate.getMonth() + 1 + \"\";\\r\\n            if (twoDigitMonth.length == 1) twoDigitMonth = \"0\" + twoDigitMonth;\\r\\n            var twoDigitDate = fullDate.getDate() + \"\";\\r\\n            if (twoDigitDate.length == 1) twoDigitDate = \"0\" + twoDigitDate;\\r\\n            var currentDate = twoDigitDate + \"/\" + twoDigitMonth + \"/\" + fullDate.getFullYear();\\r\\n\\r\\n            $(\"#hdn_ddt\").val(currentDate);\\r\\n        });\\r\\n\\r\\n        function fn_openmodel(serkey, otptime) {\\r\\n            $(\\'#hdn_serkey\\').val(serkey);\\r\\n\\r\\n            setTimeout(function () {\\r\\n                var modal = $find(\"popup_OTP\");\\r\\n                modal.show();\\r\\n            }, 200);\\r\\n\\r\\n            var timeset = (parseInt(otptime) * 60 * 1000);\\r\\n            setTimeout(function () {\\r\\n                window.location = \"default.aspx\";\\r\\n            }, timeset);\\r\\n        }\\r\\n\\r\\n        function AllreadyLoginUser()\\r\\n        {\\r\\n            if(confirm(\"User Already login on Another system..\\\\n Do you want to continue...?\"))\\r\\n            {\\r\\n                $(\\'#btn_loginNew\\').click();\\r\\n            }\\r\\n        }\\r\\n\\r\\n        function validateOTP() {\\r\\n            if (Page_ClientValidate(\"CheckOTP\")) {\\r\\n                var result;\\r\\n                $.ajax({\\r\\n                    type: \"POST\",\\r\\n                    url: \"default.aspx/LoginOTPCheck\",\\r\\n                    contentType: \"application/json; charset=utf-8\",\\r\\n                    dataType: \"json\",\\r\\n                    data: \\'{\"sysOTP\":\"\\' + $(\\'#hdn_serkey\\').val() + \\'\",\"usrOTP\":\"\\' + $(\\'#txt_OTP\\').val() + \\'\"}\\',\\r\\n                    async: false,\\r\\n                    success: function (json) {\\r\\n                        var obj = eval(\"(\" + json.d + \")\");\\r\\n                        if (obj.Table1[0].OTPresult == \"true\") {\\r\\n                            var modal = $find(\"popup_OTP\");\\r\\n                            modal.hide();\\r\\n                            result = true;\\r\\n                            return result;\\r\\n                        }\\r\\n                        else {\\r\\n                            alert(\"Please insert valid OTP No. !!!\");\\r\\n                            result = false;\\r\\n                            return result;\\r\\n                        }\\r\\n                    } .bind(this),\\r\\n                    error: function () {\\r\\n                        alert(\"Some Error Occourd Try Again Later!!!\");\\r\\n                        result = false;\\r\\n                        return result;\\r\\n                    } .bind(this)\\r\\n                });\\r\\n                return result;\\r\\n            }\\r\\n        }\\r\\n\\r\\n        function fn_BackDate_Alert() {\\r\\n            var Currentdate = new Date();\\r\\n            var CurrDate = Currentdate.getDate();\\r\\n            var CurrMonth = Currentdate.getMonth() + 1;\\r\\n            var CurrYear = Currentdate.getFullYear();\\r\\n            var finalDate = CurrMonth + \\'/\\' + CurrDate + \\'/\\' + CurrYear;\\r\\n\\r\\n            var appDt = document.getElementById(\\'hdn_dt\\').value.split(\\'/\\');\\r\\n            var txtFinalDt = appDt[1] + \\'/\\' + appDt[0] + \\'/\\' + appDt[2];\\r\\n            if (Date.parse(txtFinalDt) < Date.parse(finalDate) || Date.parse(txtFinalDt) > Date.parse(finalDate)) {\\r\\n                var dialogMessage = \"<div id=\\'bh_dialog_container\\' style=\\'float:left;\\'><div style=\\'float:right;font-size:15px;margin-top:10px;font-weight:bold;\\'>Dear User,<br/>&nbsp;&nbsp;&nbsp;&nbsp;&nbsp;&nbsp;Your System\\'s Date & time is not matching with the server\\'s date & time settings. Please make proper settings before login.</div></div>\";\\r\\n                $(\\'#dialog\\').attr(\"title\", \"Login Alert\");\\r\\n                $(\\'#dialog\\').html(dialogMessage);\\r\\n                $(\\'#dialog\\').dialog({\\r\\n                    resizable: false,\\r\\n                    height: 150,\\r\\n                    width: 400\\r\\n                }).bind(\\'dialogclose\\', function (event, ui) { window.location = \"default.aspx\"; });\\r\\n                $(\\'#dialog\\').parent().css(\\'z-index\\', \\'1000001\\');\\r\\n                $(\\'body\\')._addClass(\\'asas\\').append(\"<div id=\\'bh_dialog\\' class=\\'modalBackground\\' style=\\'position:fixed;left:0;top:0;width:1343px;height:725px;\\'></div>\");\\r\\n            }\\r\\n        }\\r\\n\\r\\n        function fn_USerBackDate_Alert() {\\r\\n            var dialogMessage = \"<div id=\\'bh_dialog_container\\' style=\\'float:left;\\'><div style=\\'float:right;font-size:15px;margin-top:10px;font-weight:bold;\\'>Dear User,<br/>&nbsp;&nbsp;&nbsp;&nbsp;&nbsp;&nbsp;Your System\\'s Date & time is not matching with the server\\'s date & time settings. Please make proper settings before login.</div></div>\";\\r\\n            $(\\'#dialog\\').attr(\"title\", \"Login Alert\");\\r\\n            $(\\'#dialog\\').html(dialogMessage);\\r\\n            $(\\'#dialog\\').dialog({\\r\\n                resizable: false,\\r\\n                height: 150,\\r\\n                width: 400\\r\\n            }).bind(\\'dialogclose\\', function (event, ui) { window.location = \"default.aspx\"; });\\r\\n            $(\\'#dialog\\').parent().css(\\'z-index\\', \\'1000001\\');\\r\\n            $(\\'body\\')._addClass(\\'asas\\').append(\"<div id=\\'bh_dialog\\' class=\\'modalBackground\\' style=\\'position:fixed;left:0;top:0;width:1343px;height:725px;\\'></div>\");\\r\\n        }\\r\\n\\r\\n        function fn_Name_Alert() {\\r\\n            var dialogMessage = \"<div id=\\'bh_dialog_container\\' style=\\'float:left;\\'><div style=\\'float:right;font-size:15px;margin-top:10px;font-weight:bold;\\'>Dear User,<br/>&nbsp;&nbsp;&nbsp;&nbsp;&nbsp;&nbsp;The User Code or Company Name is incorrect. Please make correct entry.</div></div>\";\\r\\n            $(\\'#dialog\\').attr(\"title\", \"Login Alert\");\\r\\n            $(\\'#dialog\\').html(dialogMessage);\\r\\n            $(\\'#dialog\\').dialog({\\r\\n                resizable: false,\\r\\n                height: 130,\\r\\n                width: 400\\r\\n            }).bind(\\'dialogclose\\', function (event, ui) { $(\\'input:text\\').not(\\'.ghms_reqno\\').val(\\'\\'); $(\\'#bh_dialog\\').remove(); $(\\'.defaultFocus\\').focus(); });\\r\\n            $(\\'#dialog\\').parent().css(\\'z-index\\', \\'1000001\\');\\r\\n            $(\\'body\\')._addClass(\\'asas\\').append(\"<div id=\\'bh_dialog\\' class=\\'modalBackground\\' style=\\'position:fixed;left:0;top:0;width:1343px;height:725px;\\'></div>\");\\r\\n        }\\r\\n\\r\\n        function fn_VersionDLL() {\\r\\n            var dialogMessage = \"<div id=\\'bh_dialog_container\\' style=\\'float:left;\\'><div style=\\'float:right;font-size:15px;margin-top:10px;font-weight:bold;\\'>Dear User,<br/>&nbsp;&nbsp;&nbsp;&nbsp;&nbsp;&nbsp;Your software and DB version are not match. Please contect to your IT department and update application</div></div>\";\\r\\n            $(\\'#dialog\\').attr(\"title\", \"Login Alert\");\\r\\n            $(\\'#dialog\\').html(dialogMessage);\\r\\n            $(\\'#dialog\\').dialog({\\r\\n                resizable: false,\\r\\n                height: 150,\\r\\n                width: 400\\r\\n            }).bind(\\'dialogclose\\', function (event, ui) { $(\\'input:text\\').not(\\'.ghms_reqno\\').val(\\'\\'); $(\\'#bh_dialog\\').remove(); $(\\'.defaultFocus\\').focus(); });\\r\\n            $(\\'#dialog\\').parent().css(\\'z-index\\', \\'1000001\\');\\r\\n            $(\\'body\\')._addClass(\\'asas\\').append(\"<div id=\\'bh_dialog\\' class=\\'modalBackground\\' style=\\'position:fixed;left:0;top:0;width:1343px;height:725px;\\'></div>\");\\r\\n        }\\r\\n\\r\\n        function fn_Password_Alert() {\\r\\n            var dialogMessage = \"<div id=\\'bh_dialog_container\\' style=\\'float:left;\\'><div style=\\'float:right;font-size:15px;margin-top:10px;font-weight:bold;\\'>Dear User,<br/>&nbsp;&nbsp;&nbsp;&nbsp;&nbsp;&nbsp;The Password is incorrect. Please make correct entry.</div></div>\";\\r\\n            $(\\'#dialog\\').attr(\"title\", \"Login Alert\");\\r\\n            $(\\'#dialog\\').html(dialogMessage);\\r\\n            $(\\'#dialog\\').dialog({\\r\\n                resizable: false,\\r\\n                height: 130,\\r\\n                width: 400\\r\\n            }).bind(\\'dialogclose\\', function (event, ui) { $(\\'input:text\\').not(\\'.ghms_reqno\\').val(\\'\\'); $(\\'#bh_dialog\\').remove(); $(\\'.defaultFocus\\').focus(); });\\r\\n            $(\\'#dialog\\').parent().css(\\'z-index\\', \\'1000001\\');\\r\\n            $(\\'body\\')._addClass(\\'asas\\').append(\"<div id=\\'bh_dialog\\' class=\\'modalBackground\\' style=\\'position:fixed;left:0;top:0;width:1343px;height:725px;\\'></div>\");\\r\\n        }\\r\\n        function fn_Regnotregister() {\\r\\n            var dialogMessage = \"<div id=\\'bh_dialog_container\\' style=\\'float:left;\\'><div style=\\'float:right;font-size:15px;margin-top:10px;font-weight:bold;\\'>Dear User,<br/>&nbsp;&nbsp;&nbsp;&nbsp;&nbsp;&nbsp;Your software is not yet registered.<br/>Kindly contact ASMI GLOBAL SOFTWARES PVT LTD Technical Assistance on :-<br/> 89528-54321<br/>97825-11333</div></div>\";\\r\\n            $(\\'#dialog\\').attr(\"title\", \"Login Alert\");\\r\\n            $(\\'#dialog\\').html(dialogMessage);\\r\\n            $(\\'#dialog\\').dialog({\\r\\n                resizable: false,\\r\\n                height: 165,\\r\\n                width: 400\\r\\n            }).bind(\\'dialogclose\\', function (event, ui) { $(\\'input:text\\').not(\\'.ghms_reqno\\').val(\\'\\'); $(\\'#bh_dialog\\').remove(); $(\\'.defaultFocus\\').focus(); });\\r\\n            $(\\'#dialog\\').parent().css(\\'z-index\\', \\'1000001\\');\\r\\n            $(\\'body\\')._addClass(\\'asas\\').append(\"<div id=\\'bh_dialog\\' class=\\'modalBackground\\' style=\\'position:fixed;left:0;top:0;width:1343px;height:725px;\\'></div>\");\\r\\n        }\\r\\n        function fn_DemoExpired() {\\r\\n            var dialogMessage = \"<div id=\\'bh_dialog_container\\' style=\\'float:left;\\'><div style=\\'float:right;font-size:15px;margin-top:10px;font-weight:bold;\\'>Dear User,<br/>&nbsp;&nbsp;&nbsp;&nbsp;&nbsp;&nbsp;Your Software is current in Temporary Registration. Kindly contact our customer relations Dept On 9782511333 and Licence your software.</div></div>\";\\r\\n            $(\\'#dialog\\').attr(\"title\", \"Login Alert\");\\r\\n            $(\\'#dialog\\').html(dialogMessage);\\r\\n            $(\\'#dialog\\').dialog({\\r\\n                resizable: false,\\r\\n                height: 130,\\r\\n                width: 400\\r\\n            }).bind(\\'dialogclose\\', function (event, ui) { $(\\'input:text\\').not(\\'.ghms_reqno\\').val(\\'\\'); $(\\'#bh_dialog\\').remove(); $(\\'.defaultFocus\\').focus(); });\\r\\n            $(\\'#dialog\\').parent().css(\\'z-index\\', \\'1000001\\');\\r\\n            $(\\'body\\')._addClass(\\'asas\\').append(\"<div id=\\'bh_dialog\\' class=\\'modalBackground\\' style=\\'position:fixed;left:0;top:0;width:1343px;height:725px;\\'></div>\");\\r\\n        }\\r\\n        function fn_RegistrationExpired(date) {\\r\\n            var dialogMessage = \"<div id=\\'bh_dialog_container\\' style=\\'float:left;\\'><div style=\\'float:right;font-size:15px;margin-top:10px;font-weight:bold;\\'>Dear User,<br/>&nbsp;&nbsp;&nbsp;&nbsp;&nbsp;&nbsp;Your Software License Renewal Charges is due for renewal by \"+date+\". Kindly contact our customer relations Dept On 9782511333 for renewal.</div></div>\";\\r\\n            $(\\'#dialog\\').attr(\"title\", \"Login Alert\");\\r\\n            $(\\'#dialog\\').html(dialogMessage);\\r\\n            $(\\'#dialog\\').dialog({\\r\\n                resizable: false,\\r\\n                height: 150,\\r\\n                width: 400\\r\\n            }).bind(\\'dialogclose\\', function (event, ui) { $(\\'input:text\\').not(\\'.ghms_reqno\\').val(\\'\\'); $(\\'#bh_dialog\\').remove(); $(\\'.defaultFocus\\').focus(); });\\r\\n            $(\\'#dialog\\').parent().css(\\'z-index\\', \\'1000001\\');\\r\\n            $(\\'body\\')._addClass(\\'asas\\').append(\"<div id=\\'bh_dialog\\' class=\\'modalBackground\\' style=\\'position:fixed;left:0;top:0;width:1343px;height:725px;\\'></div>\");\\r\\n        } \\r\\n\\r\\n        function fn_RegistrationExpiredBefore(date) {\\r\\n            var dialogMessage = \"<div id=\\'bh_dialog_container\\' style=\\'float:left;\\'><div style=\\'float:right;font-size:15px;margin-top:10px;font-weight:bold;\\'>Dear User,<br/>&nbsp;&nbsp;&nbsp;&nbsp;&nbsp;&nbsp;Your Software License Renewal Charges is due for renewal by \" + date + \". Kindly contact our customer relations Dept On 9782511333 for renewal.</div></div>\";\\r\\n            $(\\'#dialog\\').attr(\"title\", \"Login Alert\");\\r\\n            $(\\'#dialog\\').html(dialogMessage);\\r\\n            $(\\'#dialog\\').dialog({\\r\\n                resizable: false,\\r\\n                height: 150,\\r\\n                width: 400\\r\\n            }).bind(\\'dialogclose\\', function (event, ui) {\\r\\n                $(\\'#bh_dialog\\').remove();\\r\\n                $(\\'#btn_loginNew1\\').click();\\r\\n            });\\r\\n            $(\\'#dialog\\').parent().css(\\'z-index\\', \\'1000001\\');\\r\\n            $(\\'body\\')._addClass(\\'asas\\').append(\"<div id=\\'bh_dialog\\' class=\\'modalBackground\\' style=\\'position:fixed;left:0;top:0;width:1343px;height:725px;\\'></div>\");\\r\\n        }\\r\\n\\r\\n        function fn_DemoExpiredBefore() {\\r\\n            var dialogMessage = \"<div id=\\'bh_dialog_container\\' style=\\'float:left;\\'><div style=\\'float:right;font-size:15px;margin-top:10px;font-weight:bold;\\'>Dear User,<br/>&nbsp;&nbsp;&nbsp;&nbsp;&nbsp;&nbsp;Your Software is current in Temporary Registration. Kindly contact our customer relations Dept On 9782511333 and Licence your software.</div></div>\";\\r\\n            $(\\'#dialog\\').attr(\"title\", \"Login Alert\");\\r\\n            $(\\'#dialog\\').html(dialogMessage);\\r\\n            $(\\'#dialog\\').dialog({\\r\\n                resizable: false,\\r\\n                height: 130,\\r\\n                width: 400\\r\\n            }).bind(\\'dialogclose\\', function (event, ui) {\\r\\n                $(\\'#bh_dialog\\').remove();\\r\\n               // return true;\\r\\n                $(\\'#btn_loginNew1\\').click();\\r\\n               // $(\\'input:text\\').not(\\'.ghms_reqno\\').val(\\'\\');\\r\\n                //$(\\'.defaultFocus\\').focus();\\r\\n            });\\r\\n            $(\\'#dialog\\').parent().css(\\'z-index\\', \\'1000001\\');\\r\\n            $(\\'body\\')._addClass(\\'asas\\').append(\"<div id=\\'bh_dialog\\' class=\\'modalBackground\\' style=\\'position:fixed;left:0;top:0;width:1343px;height:725px;\\'></div>\");\\r\\n\\r\\n            \\r\\n        }\\r\\n        //function fn_RegistrationExpired() {\\r\\n        //    var dialogMessage = \"<div id=\\'bh_dialog_container\\' style=\\'float:left;\\'><div style=\\'float:right;font-size:15px;margin-top:10px;font-weight:bold;\\'>Dear User,<br/>&nbsp;&nbsp;&nbsp;&nbsp;&nbsp;&nbsp;Your Registration  is expired..Please Contact to Vendor.</div></div>\";\\r\\n        //    $(\\'#dialog\\').attr(\"title\", \"Login Alert\");\\r\\n        //    $(\\'#dialog\\').html(dialogMessage);\\r\\n        //    $(\\'#dialog\\').dialog({\\r\\n        //        resizable: false,\\r\\n        //        height: 130,\\r\\n        //        width: 400\\r\\n        //    }).bind(\\'dialogclose\\', function (event, ui) { $(\\'input:text\\').not(\\'.ghms_reqno\\').val(\\'\\'); $(\\'#bh_dialog\\').remove(); $(\\'.defaultFocus\\').focus(); });\\r\\n        //    $(\\'#dialog\\').parent().css(\\'z-index\\', \\'1000001\\');\\r\\n        //    $(\\'body\\')._addClass(\\'asas\\').append(\"<div id=\\'bh_dialog\\' class=\\'modalBackground\\' style=\\'position:fixed;left:0;top:0;width:1343px;height:725px;\\'></div>\");\\r\\n        //}\\r\\n\\r\\n        function fn_staticIP_Alert() {\\r\\n            var dialogMessage = \"<div id=\\'bh_dialog_container\\' style=\\'float:left;\\'><div style=\\'float:right;font-size:15px;margin-top:10px;font-weight:bold;\\'>Dear User,<br/>&nbsp;&nbsp;&nbsp;&nbsp;&nbsp;&nbsp;You have no access for static IP to login software.</div></div>\";\\r\\n            $(\\'#dialog\\').attr(\"title\", \"Login Alert\");\\r\\n            $(\\'#dialog\\').html(dialogMessage);\\r\\n            $(\\'#dialog\\').dialog({\\r\\n                resizable: false,\\r\\n                height: 130,\\r\\n                width: 400\\r\\n            }).bind(\\'dialogclose\\', function (event, ui) { $(\\'input:text\\').not(\\'.ghms_reqno\\').val(\\'\\'); $(\\'#bh_dialog\\').remove(); $(\\'.defaultFocus\\').focus(); });\\r\\n            $(\\'#dialog\\').parent().css(\\'z-index\\', \\'1000001\\');\\r\\n            $(\\'body\\')._addClass(\\'asas\\').append(\"<div id=\\'bh_dialog\\' class=\\'modalBackground\\' style=\\'position:fixed;left:0;top:0;width:1343px;height:725px;\\'></div>\");\\r\\n        }\\r\\n\\r\\n        function fn_bioThumb_Alert() {\\r\\n            var dialogMessage = \"<div id=\\'bh_dialog_container\\' style=\\'float:left;\\'><div style=\\'float:right;font-size:15px;margin-top:10px;font-weight:bold;\\'>Dear User,<br/>&nbsp;&nbsp;&nbsp;&nbsp;&nbsp;&nbsp;You are not login by biometric thumb impression first login in biometric thumb then login software.</div></div>\";\\r\\n            $(\\'#dialog\\').attr(\"title\", \"Login Alert\");\\r\\n            $(\\'#dialog\\').html(dialogMessage);\\r\\n            $(\\'#dialog\\').dialog({\\r\\n                resizable: false,\\r\\n                height: 130,\\r\\n                width: 400\\r\\n            }).bind(\\'dialogclose\\', function (event, ui) { $(\\'input:text\\').not(\\'.ghms_reqno\\').val(\\'\\'); $(\\'#bh_dialog\\').remove(); $(\\'.defaultFocus\\').focus(); });\\r\\n            $(\\'#dialog\\').parent().css(\\'z-index\\', \\'1000001\\');\\r\\n            $(\\'body\\')._addClass(\\'asas\\').append(\"<div id=\\'bh_dialog\\' class=\\'modalBackground\\' style=\\'position:fixed;left:0;top:0;width:1343px;height:725px;\\'></div>\");\\r\\n        }\\r\\n\\r\\n        function fn_OTP_Alert() {\\r\\n            var dialogMessage = \"<div id=\\'bh_dialog_container\\' style=\\'float:left;\\'><div style=\\'float:right;font-size:15px;margin-top:10px;font-weight:bold;\\'>Dear User,<br/>&nbsp;&nbsp;&nbsp;&nbsp;&nbsp;&nbsp;Template is not Set for Messages. Please contact Your Admin!!</div></div>\";\\r\\n            $(\\'#dialog\\').attr(\"title\", \"Login Alert\");\\r\\n            $(\\'#dialog\\').html(dialogMessage);\\r\\n            $(\\'#dialog\\').dialog({\\r\\n                resizable: false,\\r\\n                height: 130,\\r\\n                width: 400\\r\\n            }).bind(\\'dialogclose\\', function (event, ui) { $(\\'input:text\\').not(\\'.ghms_reqno\\').val(\\'\\'); $(\\'#bh_dialog\\').remove(); $(\\'.defaultFocus\\').focus(); });\\r\\n            $(\\'#dialog\\').parent().css(\\'z-index\\', \\'1000001\\');\\r\\n            $(\\'body\\')._addClass(\\'asas\\').append(\"<div id=\\'bh_dialog\\' class=\\'modalBackground\\' style=\\'position:fixed;left:0;top:0;width:1343px;height:725px;\\'></div>\");\\r\\n        }\\r\\n\\r\\n        function fn_NoCompAccess_Alert() {\\r\\n            var dialogMessage = \"<div id=\\'bh_dialog_container\\' style=\\'float:left;\\'><div style=\\'float:right;font-size:15px;margin-top:10px;font-weight:bold;\\'>Dear User,<br/>&nbsp;&nbsp;&nbsp;&nbsp;&nbsp;&nbsp;You have no access to login software from this computer.</div></div>\";\\r\\n            $(\\'#dialog\\').attr(\"title\", \"Login Alert\");\\r\\n            $(\\'#dialog\\').html(dialogMessage);\\r\\n            $(\\'#dialog\\').dialog({\\r\\n                resizable: false,\\r\\n                height: 130,\\r\\n                width: 400\\r\\n            }).bind(\\'dialogclose\\', function (event, ui) { $(\\'input:text\\').not(\\'.ghms_reqno\\').val(\\'\\'); $(\\'#bh_dialog\\').remove(); $(\\'.defaultFocus\\').focus(); });\\r\\n            $(\\'#dialog\\').parent().css(\\'z-index\\', \\'1000001\\');\\r\\n            $(\\'body\\')._addClass(\\'asas\\').append(\"<div id=\\'bh_dialog\\' class=\\'modalBackground\\' style=\\'position:fixed;left:0;top:0;width:1343px;height:725px;\\'></div>\");\\r\\n        }\\r\\n\\r\\n        function fn_PassExpired_Alert() {\\r\\n            var dialogMessage = \"<div id=\\'bh_dialog_container\\' style=\\'float:left;\\'><div style=\\'float:right;font-size:15px;margin-top:10px;font-weight:bold;\\'>Dear User,<br/>&nbsp;&nbsp;&nbsp;&nbsp;&nbsp;&nbsp;Your password has been expired. Please change your password then login again.</div></div>\";\\r\\n            $(\\'#dialog\\').attr(\"title\", \"Login Alert\");\\r\\n            $(\\'#dialog\\').html(dialogMessage);\\r\\n            $(\\'#dialog\\').dialog({\\r\\n                resizable: false,\\r\\n                height: 130,\\r\\n                width: 400\\r\\n            }).bind(\\'dialogclose\\', function (event, ui) { $(\\'input:text\\').not(\\'.ghms_reqno\\').val(\\'\\'); $(\\'#bh_dialog\\').remove(); $(\\'.defaultFocus\\').focus(); });\\r\\n            $(\\'#dialog\\').parent().css(\\'z-index\\', \\'1000001\\');\\r\\n            $(\\'body\\')._addClass(\\'asas\\').append(\"<div id=\\'bh_dialog\\' class=\\'modalBackground\\' style=\\'position:fixed;left:0;top:0;width:1343px;height:725px;\\'></div>\");\\r\\n        }\\r\\n\\r\\n        function fn_PassChange_Alert() {\\r\\n            var dialogMessage = \"<div id=\\'bh_dialog_container\\' style=\\'float:left;\\'><div style=\\'float:right;font-size:15px;margin-top:10px;font-weight:bold;\\'>Dear User,<br/>&nbsp;&nbsp;&nbsp;&nbsp;&nbsp;&nbsp;User Name And Password is incorrect. Please make correct entry.</div></div>\";\\r\\n            $(\\'#dialog\\').attr(\"title\", \"Login Alert\");\\r\\n            $(\\'#dialog\\').html(dialogMessage);\\r\\n            $(\\'#dialog\\').dialog({\\r\\n                resizable: false,\\r\\n                height: 130,\\r\\n                width: 400\\r\\n            }).bind(\\'dialogclose\\', function (event, ui) { window.location = \"default.aspx\"; });\\r\\n            $(\\'#dialog\\').parent().css(\\'z-index\\', \\'1000001\\');\\r\\n            $(\\'body\\')._addClass(\\'asas\\').append(\"<div id=\\'bh_dialog\\' class=\\'modalBackground\\' style=\\'position:fixed;left:0;top:0;width:1343px;height:725px;\\'></div>\");\\r\\n        }\\r\\n\\r\\n        function fn_PassUpdate_Alert() {\\r\\n            var dialogMessage = \"<div id=\\'bh_dialog_container\\' style=\\'float:left;\\'><div style=\\'float:right;font-size:15px;margin-top:10px;font-weight:bold;\\'>Dear User,<br/>&nbsp;&nbsp;&nbsp;&nbsp;&nbsp;&nbsp;Your Password Updated Successfuly...!!!</div></div>\";\\r\\n            $(\\'#dialog\\').attr(\"title\", \"Login Alert\");\\r\\n            $(\\'#dialog\\').html(dialogMessage);\\r\\n            $(\\'#dialog\\').dialog({\\r\\n                resizable: false,\\r\\n                height: 130,\\r\\n                width: 400\\r\\n            }).bind(\\'dialogclose\\', function (event, ui) { window.location = \"default.aspx\"; });\\r\\n            $(\\'#dialog\\').parent().css(\\'z-index\\', \\'1000001\\');\\r\\n            $(\\'body\\')._addClass(\\'asas\\').append(\"<div id=\\'bh_dialog\\' class=\\'modalBackground\\' style=\\'position:fixed;left:0;top:0;width:1343px;height:725px;\\'></div>\");\\r\\n        }\\r\\n\\r\\n        function fn_cancel() {\\r\\n            $(\\'#txt_usrcode\\').val(\\'\\');\\r\\n            $(\\'#txt_oldpswrd\\').val(\\'\\');\\r\\n            $(\\'#txt_newpsrd\\').val(\\'\\');\\r\\n            $(\\'#txt_confirmpsrwd\\').val(\\'\\');\\r\\n            var model = $find(\"popup1\");\\r\\n            modal.hide();\\r\\n        }\\r\\n\\r\\n        function fn_Passpopup() {\\r\\n            setTimeout(function () {\\r\\n                var modal = $find(\"popup1\");\\r\\n                modal.show();\\r\\n            }, 200);\\r\\n        }\\r\\n        //Manju Lalwani On 16/08/2017\\r\\n        function ConfirmSave()\\r\\n        {\\r\\n            alert(1);\\r\\n            var ok = confirm(\\'User Already Login on Another System..\\\\nDo you want to Continue..??\\');\\r\\n            if (ok)\\r\\n                return true;\\r\\n            else\\r\\n                return false;\\r\\n        }\\r\\n        //End On 16/08/2017\\r\\n\\r\\n        function fn_nomenuaccess() {\\r\\n            var dialogMessage = \"<div id=\\'bh_dialog_container\\' style=\\'float:left;\\'><div style=\\'float:right;font-size:15px;margin-top:10px;font-weight:bold;\\'>You have no menu  access <br/>&nbsp;&nbsp;&nbsp;&nbsp;&nbsp;&nbsp;Kindly Contact Support Person.</div></div>\";\\r\\n            $(\\'#dialog\\').attr(\"title\", \"Login Alert\");\\r\\n            $(\\'#dialog\\').html(dialogMessage);\\r\\n            $(\\'#dialog\\').dialog({\\r\\n                resizable: false,\\r\\n                height: 130,\\r\\n                width: 400\\r\\n            }).bind(\\'dialogclose\\', function (event, ui) { $(\\'input:text\\').not(\\'.ghms_reqno\\').val(\\'\\'); $(\\'#bh_dialog\\').remove(); $(\\'.defaultFocus\\').focus(); });\\r\\n            $(\\'#dialog\\').parent().css(\\'z-index\\', \\'1000001\\');\\r\\n            $(\\'body\\')._addClass(\\'asas\\').append(\"<div id=\\'bh_dialog\\' class=\\'modalBackground\\' style=\\'position:fixed;left:0;top:0;width:1343px;height:725px;\\'></div>\");\\r\\n        }\\r\\n\\r\\n    </script>\\r\\n    <style type=\"text/css\">\\r\\n        .ghms_popup1\\r\\n        {\\r\\n            background-color: #ffffff;\\r\\n            border: 1px solid rgba(0, 0, 0, 0.4);\\r\\n            border-radius: 2px;\\r\\n            box-shadow: 0 0 15px #436a56;\\r\\n            float: left;\\r\\n            padding: 10px;\\r\\n            position: relative;\\r\\n        }\\r\\n        .ghms_heading1\\r\\n        {\\r\\n            float: left;\\r\\n            margin-bottom: 10px;\\r\\n            padding: 2px 0 2px 1%;\\r\\n            width: 99%;\\r\\n            background: #3b8686 linear-gradient(rgba(0, 0, 0, 0), rgba(0, 0, 0, 0.2)) repeat scroll 0 0;\\r\\n            border-radius: 7px;\\r\\n        }\\r\\n        .ghms_heading1 h3\\r\\n        {\\r\\n            color: #fff;\\r\\n            float: left;\\r\\n            letter-spacing: 1px;\\r\\n            line-height: 25px;\\r\\n            text-align: left;\\r\\n            text-shadow: 0 1px 1px #333;\\r\\n            font-size: 15px;\\r\\n        }\\r\\n        *\\r\\n        {\\r\\n            margin: 0;\\r\\n            padding: 0;\\r\\n        }\\r\\n        .ghms_comman_list2\\r\\n        {\\r\\n            float: left;\\r\\n            margin-bottom: 8px;\\r\\n            width: 100%;\\r\\n        }\\r\\n        p\\r\\n        {\\r\\n            text-align: right;\\r\\n            float: left;\\r\\n            font-weight: bold;\\r\\n            margin: 0 15px 0 0;\\r\\n            line-height: 13px;\\r\\n        }\\r\\n        p.width1\\r\\n        {\\r\\n            width: 105px;\\r\\n            font: 12px HelveticaNeue,Helvetica,Arial !important;\\r\\n        }\\r\\n        input.input10\\r\\n        {\\r\\n            width: 110px;\\r\\n            border-radius: 2px;\\r\\n            display: block;\\r\\n            float: left;\\r\\n            height: 25px;\\r\\n            padding-left: 2px;\\r\\n            padding-right: 2px;\\r\\n            background-color: #fff;\\r\\n            border: 1px solid #bbb;\\r\\n            box-shadow: 0 0 0 white, 0 4px 5px -5px rgba(0, 0, 0, 0.35) inset;\\r\\n            color: #1a1010;\\r\\n            font: 12px HelveticaNeue,Helvetica,Arial;\\r\\n        }\\r\\n        .ghms_big_button4\\r\\n        {\\r\\n            float: left;\\r\\n            margin-left: 25%;\\r\\n        }\\r\\n        input.button_effect_big[type=\"submit\"], input.button_effect_big[type=\"button\"]\\r\\n        {\\r\\n            font: bold 14px HelveticaNeue,Helvetica,Arial,sans-serif;\\r\\n            height: 30px;\\r\\n            padding-left: 20px;\\r\\n            padding-right: 20px;\\r\\n        }\\r\\n        .ghms_big_button2\\r\\n        {\\r\\n            float: left;\\r\\n            margin-left: 20px;\\r\\n        }\\r\\n        .ghms_big_button3\\r\\n        {\\r\\n            float: left;\\r\\n            margin-left: 35%;\\r\\n        }\\r\\n        input.button_effect_big[type=\"submit\"], input.button_effect_big[type=\"button\"], input.button_small[type=\"button\"], input.button_small[type=\"submit\"], a.button_small, input.button_small_resolution[type=\"button\"], input.button_small_resolution[type=\"submit\"], a.button_small, a.button_small_resolution\\r\\n        {\\r\\n            background-color: #79bd9a;\\r\\n            background-image: linear-gradient(rgba(0, 0, 0, 0), rgba(0, 0, 0, 0.2));\\r\\n            border: 1px solid rgba(0, 0, 0, 0.4);\\r\\n            border-radius: 2px;\\r\\n            box-shadow: 0 1px 0 rgba(255, 255, 255, 0.7) inset, 0 1px 0 white;\\r\\n            color: rgba(255, 255, 255, 0.85) !important;\\r\\n            cursor: pointer;\\r\\n            text-shadow: 0 1px 2px rgba(0, 0, 0, 0.5) !important;\\r\\n        }\\r\\n        \\r\\n        #wrapper p.button input\\r\\n        {\\r\\n            background: #52af9c none repeat scroll 0 0;\\r\\n            border: 1px solid rgb(28, 108, 122);\\r\\n            border-radius: 3px;\\r\\n            box-shadow: 0 1px 6px 4px rgba(0, 0, 0, 0.07) inset, 0 0 0 3px rgb(254, 254, 254), 0 5px 3px 3px rgb(210, 210, 210);\\r\\n            color: #fff;\\r\\n            cursor: pointer;\\r\\n            font-family: \"BebasNeueRegular\" , \"Arial Narrow\" ,Arial,sans-serif;\\r\\n            font-size: 17px;\\r\\n            margin-bottom: 10px;\\r\\n            padding: 2px;\\r\\n            text-shadow: 0 1px 1px rgba(0, 0, 0, 0.5);\\r\\n            transition: all 0.2s linear 0s;\\r\\n            width: 100%;\\r\\n        }\\r\\n        input.input7\\r\\n        {\\r\\n            width: 255px;\\r\\n            background-color: #ffffff;\\r\\n            border: 1px solid #bbbbbb;\\r\\n            box-shadow: 0 0 0 white, 0 4px 5px -5px rgba(0, 0, 0, 0.35) inset;\\r\\n            color: #1a1010;\\r\\n            border-radius: 2px;\\r\\n            display: block;\\r\\n            float: left;\\r\\n            height: 25px;\\r\\n            padding-left: 2px;\\r\\n            padding-right: 2px;\\r\\n            font: 12px HelveticaNeue,Helvetica,Arial !important;\\r\\n        }\\r\\n    </style>\\r\\n</head>\\r\\n<body>\\r\\n    <form name=\"form1\" method=\"post\" action=\"./default.aspx?ReturnUrl=%2fHMS%2fGS_Reports%2fGS_OPD%2fGS_Collection.aspx%3fUW%3dY&amp;UW=Y\" onsubmit=\"javascript:return WebForm_OnSubmit();\" id=\"form1\" autocomplete=\"off\">\\r\\n<div>\\r\\n<input type=\"hidden\" name=\"__LASTFOCUS\" id=\"__LASTFOCUS\" value=\"\" />\\r\\n<input type=\"hidden\" name=\"__EVENTTARGET\" id=\"__EVENTTARGET\" value=\"\" />\\r\\n<input type=\"hidden\" name=\"__EVENTARGUMENT\" id=\"__EVENTARGUMENT\" value=\"\" />\\r\\n<input type=\"hidden\" name=\"__VIEWSTATE\" id=\"__VIEWSTATE\" value=\"/wEPDwUKLTMyMzcyMjYyNw8WAh4TVmFsaWRhdGVSZXF1ZXN0TW9kZQIBFgICAw8WAh4MYXV0b2NvbXBsZXRlBQNvZmYWAgIRDxYCHglpbm5lcmh0bWwFDUhPUEUgSE9TUElUQUxkGAEFHl9fQ29udHJvbHNSZXF1aXJlUG9zdEJhY2tLZXlfXxYBBRBjaGtQZXJzaXN0Q29va2lljxM/KDGwtsJfRfHgx1iNEZXZhUsz1AYhnlzyqEy6eF8=\" />\\r\\n</div>\\r\\n\\r\\n<script type=\"text/javascript\">\\r\\n//<![CDATA[\\r\\nvar theForm = document.forms[\\'form1\\'];\\r\\nif (!theForm) {\\r\\n    theForm = document.form1;\\r\\n}\\r\\nfunction __doPostBack(eventTarget, eventArgument) {\\r\\n    if (!theForm.onsubmit || (theForm.onsubmit() != false)) {\\r\\n        theForm.__EVENTTARGET.value = eventTarget;\\r\\n        theForm.__EVENTARGUMENT.value = eventArgument;\\r\\n        theForm.submit();\\r\\n    }\\r\\n}\\r\\n//]]>\\r\\n</script>\\r\\n\\r\\n\\r\\n<script src=\"/WebResource.axd?d=p0Fwk6z9xSLl4OjS9wmiTowvPp4PeCoPyVlS0UtUC75r4oAOZBf4W_Eo321XXYvZlVydoDl4fTccDGj6rjhPPtBfT86xAlsIhuGbU8bnH9E1&amp;t=638458322066303468\" type=\"text/javascript\"></script>\\r\\n\\r\\n\\r\\n<script src=\"/ScriptResource.axd?d=Ft1_3SkUQ1uMMGNuSazlOdKrgGG5tL0X1lqomyAWdjtKhkE79uI7LQ9k2nAOf1LxyUbER9MVmerMim0tiUa1neFaeOzf55zqBBabynWMUok9AMGFRZnAGJlijoZ2ccZw0DYe3fRP8ZSV7ziGqfDUsoHPqN56IwO4as1b4WP7qZ41&amp;t=57c02dcc\" type=\"text/javascript\"></script>\\r\\n<script src=\"/ScriptResource.axd?d=hptOjdQ7KnF0sFT-lSQXyOrgl_NtEVsh8VsZquPK5z0N7e0cNQp7tCVb13i0qTx56cZMLy-SZAtApRDHD81RQftO9OsUsjzTjTjjP0jBo2XTBZlhkFKSEQnhSKOZxPm-4Rn4tobllhCMS2m2BQD9LQ2&amp;t=397b6a7\" type=\"text/javascript\"></script>\\r\\n<script type=\"text/javascript\">\\r\\n//<![CDATA[\\r\\nif (typeof(Sys) === \\'undefined\\') throw new Error(\\'ASP.NET Ajax client-side framework failed to load.\\');\\r\\n//]]>\\r\\n</script>\\r\\n\\r\\n<script src=\"/ScriptResource.axd?d=5pqAK1g-QkyOy7WSiGOskPx8-VPx-31mikdqV9XvCp5Zuq6fFSs9UeZtqHsIXl8HlZfeNJa3SLuurOAUws2jzJJHNK3VE8RglMznpMYG7Uz1IeJRZwyB1Ml29LQ3LNQTve3AKA57Gi8XO87W5fxsXQ2&amp;t=397b6a7\" type=\"text/javascript\"></script>\\r\\n<script src=\"/ScriptResource.axd?d=KDTpI1JJea5j8YPE7YWr9i_NHE6Lgqsj_iDrat0PLrVPdC589a6I4tXwIL4Bg7l72LBmsubxqYQ3ObslNjs16L8F1AKZaRNRGBO9HlNudvybx7RSd2IyV58RtGXtseejP_D1kX6M8ziZ1GPsMW__tg2&amp;t=397b6a7\" type=\"text/javascript\"></script>\\r\\n<script src=\"/ScriptResource.axd?d=zv7jeiQ1-rSXZC67RO-Jhr7j4zcEYmgYGX4OEnBsSYqw-T8EL_NOZYrUkIHzZUuI8cipFj25UjQ9-X7ewUBo_s6vCqHtfLbrdG6KkDOaC5E-JH0M0jrrX1W1WUcAaZUO8RiJVSfOV1oiC9kCCd97Sw2&amp;t=397b6a7\" type=\"text/javascript\"></script>\\r\\n<script src=\"/ScriptResource.axd?d=f4oLWVlJd47rJvQpIgrinMuRCMEUNGgIhp3g3Pgp-Gj3-DFfuypN2CDLZKbt3OAkJjMprS09Ym8bnDDiCfdSxXGr_jss3ucXHTRH6N_IFUBU4xqnLW-11vpcG9T6pZD932swZ1A5ZRHcDWUv3ajJsg2&amp;t=397b6a7\" type=\"text/javascript\"></script>\\r\\n<script src=\"/ScriptResource.axd?d=j5wLX8PPqJIdylMqJ9NLQwwF2aIGLvojsMo86h0PpULgYVQavOCbUq-NuE9JhTvdT1RjrnA1mrY7o1eb03pWGhj_AGFMN-2zZV1aiY2JZd2EE8AdWlEnzDwYg8Kr7dehGU6L0jtO3mSkc4gH9WWziA2&amp;t=397b6a7\" type=\"text/javascript\"></script>\\r\\n<script src=\"/ScriptResource.axd?d=Cxp12BU8EYcmppE_0akZoX0iYXt0wxO17oc_oReO-wj-3tELlUBNLp3b9bqwn17iNm6JQBpHxeFuVnW0QDZLHdDkk_zCXbDQOMCV7FSsUJSCjIJg4Y_3PqIP8apNRyvBKwhAv_GmWpJ4pq0o8jHC9tUhPpYs_EnfgfbB6pxuO1g1&amp;t=397b6a7\" type=\"text/javascript\"></script>\\r\\n<script src=\"/ScriptResource.axd?d=sYe1TsF3YwYMeHmyHxZoYM2NhvTonwXzcoSp4fWPigU8SHbqUVIht2GpB5xxXE6YthqejyO5vctNETEwbrRn3mpxyxC01v9h1fNPhE5CA3Cf6ncYe7NRfBAYq85osX8Kq34uwodU7jJQrIjusF8EVAWXAgVPqp22qvFsz5JAJsA1&amp;t=397b6a7\" type=\"text/javascript\"></script>\\r\\n<script src=\"/ScriptResource.axd?d=ZoRn-OLP_rO9t7XL78IKclKSdRjXWR9kO4X6HDU8yAetgh_WzWHGj0OxMQmvU_KDsLAQXV0g1Odk2D4PJWaixE6vdb4pQ7Ki674_JFJd56R5AurOovgaoDc5o2QSXEjxM9sxf3G5szhKpDqdyM9hA-P1sa3viZ_q1wD28iW6_qo1&amp;t=397b6a7\" type=\"text/javascript\"></script>\\r\\n<script src=\"/ScriptResource.axd?d=mP6O8HZWLi4Kf0rgXWsWgHBPLLvFWtITdgSAJj9BnHKDc0Eb8Z-BVtuCJTW5zEQyDgzgwGadA3mxgAsu_AsN8Tqc1WyCHSEmoJdPCb9vVBrkkdBKbCazaVRN6OIeeOxwM9Ex6HiXxlFWEA89Oc-b_YULplogVWT3AYmamvfH7K01&amp;t=397b6a7\" type=\"text/javascript\"></script>\\r\\n<script src=\"/ScriptResource.axd?d=sE7oSg2Efo-8p-OGLyLeBcyP8L0CQUhY6uPBYxvRS2IzKzUyPOQU8q6AaVhpY2cwTZeZIEjuu3CijSwiTnlpzhsoP8WGp80VImHYQVzcUTyRgeGuGYLSa9jvYV86TeCbxZ7QDghNe0dsL6HD9LWlzPUTnoS7GjUHIyTkBp3oxRQ1&amp;t=397b6a7\" type=\"text/javascript\"></script>\\r\\n<script src=\"/ScriptResource.axd?d=wOlBNKZtRZAXb6kM-zLR6bQze4UBcnqu6RYYdhmlNtPII8IOcgQZ-MVzRGroOAuIrKD37f900G_LAvzbENj04M1hdnBzDJ5QML2mSO8jXImiMkpYtlEvWS1IpN_92DLCKTrCCfERUuk0Omc5PDhBBcTmZto5ScDkLtSa-K7FSgo1&amp;t=397b6a7\" type=\"text/javascript\"></script>\\r\\n<script src=\"/ScriptResource.axd?d=4ncCGQeWSCqhqYeDemvIh8UzsIYpwAR0--nCChTMsjWpOWDU3ajdD7y2LI86oMiBgIqi-S4Ubsc90lAHNEhMQR6l7j-lxnbAqRK988lU74UvgZes9aw07ZqvrzBimWI7ORkXRfdVTidCh6qFKTjYJlMiMQ4-6RlM_8RwEUglxMw1&amp;t=397b6a7\" type=\"text/javascript\"></script>\\r\\n<script src=\"/WebResource.axd?d=uy1Xyx95NbMsxBNnvHyqLP0FDvdB0WHjOZJsr7ZVEIk2G3-oJvpuERxqxzOsc5AoFleei5mwi2-Lukc4XdYI1d8ZI-riz00QIaKtfi6DfTI1&amp;t=638458322066303468\" type=\"text/javascript\"></script>\\r\\n<script type=\"text/javascript\">\\r\\n//<![CDATA[\\r\\nfunction WebForm_OnSubmit() {\\r\\nif (typeof(ValidatorOnSubmit) == \"function\" && ValidatorOnSubmit() == false) return false;\\r\\nreturn true;\\r\\n}\\r\\n//]]>\\r\\n</script>\\r\\n\\r\\n<div>\\r\\n\\r\\n\\t<input type=\"hidden\" name=\"__VIEWSTATEGENERATOR\" id=\"__VIEWSTATEGENERATOR\" value=\"CA0B0334\" />\\r\\n</div>\\r\\n    <script type=\"text/javascript\">\\r\\n//<![CDATA[\\r\\nSys.WebForms.PageRequestManager._initialize(\\'ScriptManager1\\', \\'form1\\', [\\'tUpdatePanel1\\',\\'\\'], [], [], 90, \\'\\');\\r\\n//]]>\\r\\n</script>\\r\\n\\r\\n    <div class=\"container\" style=\"height: 550px;\">\\r\\n        <!-- Codrops top bar -->\\r\\n        <input type=\"hidden\" name=\"hdn_usrcode\" id=\"hdn_usrcode\" />\\r\\n        <input type=\"hidden\" name=\"hdn_password\" id=\"hdn_password\" />\\r\\n        <input type=\"hidden\" name=\"hdn_serkey\" id=\"hdn_serkey\" />\\r\\n        <input type=\"hidden\" name=\"hdn_dt\" id=\"hdn_dt\" value=\"03/08/2024\" />\\r\\n        <input type=\"hidden\" name=\"hdn_backDateFlag\" id=\"hdn_backDateFlag\" value=\"N\" />\\r\\n        <input type=\"hidden\" name=\"hdn_ddt\" id=\"hdn_ddt\" />\\r\\n        <span style=\"display: none\"><input id=\"chkPersistCookie\" type=\"checkbox\" name=\"chkPersistCookie\" checked=\"checked\" /></span>\\r\\n        <header>\\r\\n            <h1 id=\"CompHead\">HOPE HOSPITAL</h1> \\r\\n        </header>\\r\\n        <div id=\"container_demo\">\\r\\n            <div id=\"wrapper\">\\r\\n                <div id=\"login\" class=\"animate form\">\\r\\n                    <h1>\\r\\n                        Log in</h1>\\r\\n                    <p>\\r\\n                        <input name=\"txt_CompanyName\" type=\"text\" id=\"txt_CompanyName\" tabindex=\"1\" maxlength=\"20\" class=\"ghms_reqno\" placeholder=\"Enter Company Name\" value=\"HH\" />\\r\\n                        <span id=\"RequiredFieldValidator1\" style=\"color:Red;visibility:hidden;\">*</span>\\r\\n                        <span id=\"RequiredFieldValidator2\" style=\"color:Red;visibility:hidden;\">*</span>\\r\\n                    </p>\\r\\n                    <p>\\r\\n                        <input name=\"txtUserName\" type=\"text\" id=\"txtUserName\" class=\"defaultFocus\" maxlength=\"15\" tabindex=\"2\" placeholder=\"Enter User Code\" />\\r\\n                        <span id=\"vUserName\" style=\"color:Red;visibility:hidden;\">*</span>\\r\\n                    </p>\\r\\n                    <p>\\r\\n                        <input name=\"txtUserPass\" type=\"password\" id=\"txtUserPass\" class=\"alphanumeric\" maxlength=\"15\" tabindex=\"3\" placeholder=\"Enter Password\" />\\r\\n                        <span id=\"vUserPass\" style=\"color:Red;visibility:hidden;\">*</span>\\r\\n                    </p>\\r\\n                    <p class=\"login button\">\\r\\n                        <input type=\"submit\" name=\"ImageButton1\" value=\"Login\" onclick=\"javascript:WebForm_DoPostBackWithOptions(new WebForm_PostBackOptions(&quot;ImageButton1&quot;, &quot;&quot;, true, &quot;login&quot;, &quot;&quot;, false, false))\" id=\"ImageButton1\" tabindex=\"4\" class=\"ghms_reqno\" style=\"width:60px;margin-right: 10px;\" />\\r\\n                           <input type=\"submit\" name=\"btn_loginNew\" value=\"Login\" id=\"btn_loginNew\" tabindex=\"4\" class=\"ghms_reqno\" style=\"width:60px;margin-right: 10px;display:none;\" />\\r\\n                        <input type=\"submit\" name=\"btn_loginNew1\" value=\"Login\" id=\"btn_loginNew1\" tabindex=\"4\" class=\"ghms_reqno\" style=\"width:60px;margin-right: 10px;display:none;\" />\\r\\n                    </p>\\r\\n                    <p class=\"login button\">\\r\\n                        <input type=\"button\" value=\"Change Password\" class=\"ghms_reqno\" onclick=\"fn_Passpopup();\" />\\r\\n                    </p>\\r\\n                </div>\\r\\n            </div>\\r\\n        </div>\\r\\n    </div>\\r\\n    <div class=\"div_bottom\">\\r\\n    </div>\\r\\n    <div id=\"dialog\" title=\"Basic dialog\">\\r\\n    </div>\\r\\n    <a href=\"#\" id=\"A2\" style=\"display: none; visibility: hidden;\" onclick=\"return false\">dummy</a>\\r\\n    \\r\\n    <div id=\"pnl_chkOTP\" style=\"display: none;\">\\r\\n\\t\\r\\n        <div id=\"UpdatePanel1\">\\r\\n\\t\\t\\r\\n                <div class=\"ghms_popup1\" style=\"width: 300px;\">\\r\\n                    <div class=\"ghms_heading1\">\\r\\n                        <h3>\\r\\n                            OTP Verification</h3>\\r\\n                    </div>\\r\\n                    <div class=\"ghms_comman_list2\">\\r\\n                        <p class=\"width1\">\\r\\n                            OTP No.</p>\\r\\n                        <input name=\"txt_OTP\" type=\"text\" id=\"txt_OTP\" class=\"input10\" />\\r\\n                        <span id=\"RequiredFieldValidator11\" style=\"color:Red;visibility:hidden;\">*</span>\\r\\n                    </div>\\r\\n                    <div class=\"ghms_big_button4\">\\r\\n                        <input type=\"submit\" name=\"btn_OTPcheck\" value=\"OK\" onclick=\"javascript: return validateOTP();WebForm_DoPostBackWithOptions(new WebForm_PostBackOptions(&quot;btn_OTPcheck&quot;, &quot;&quot;, true, &quot;CheckOTP&quot;, &quot;&quot;, false, false))\" id=\"btn_OTPcheck\" class=\"button_effect_big\" />\\r\\n                        <div id=\"ValidationSummary1\" style=\"color:Red;display:none;\">\\r\\n\\r\\n\\t\\t</div>\\r\\n                    </div>\\r\\n                    <div class=\"ghms_big_button2\">\\r\\n                        <input type=\"button\" value=\"Cancel\" class=\"button_effect_big\" onclick=\"javascript:window.location=\\'default.aspx\\';\" />\\r\\n                    </div>\\r\\n                </div>\\r\\n            \\r\\n\\t</div>\\r\\n    \\r\\n</div>\\r\\n    <a href=\"#\" id=\"A1\" style=\"display: none; visibility: hidden;\" onclick=\"return false\">dummy</a>\\r\\n    \\r\\n    <div id=\"pnl\" style=\"display: none;\">\\r\\n\\t\\r\\n        <div class=\"ghms_popup1\" style=\"width: 400px;\">\\r\\n            <div class=\"ghms_heading1\">\\r\\n                <h3>\\r\\n                    User Password Change</h3>\\r\\n            </div>\\r\\n            <div class=\"ghms_comman_list2\">\\r\\n                <p class=\"width1\">\\r\\n                    User Code</p>\\r\\n                <input name=\"txt_usrcode\" type=\"text\" maxlength=\"12\" id=\"txt_usrcode\" class=\"input7\" />\\r\\n                <span id=\"RequiredFieldValidator4\" style=\"color:Red;visibility:hidden;\">*</span>\\r\\n            </div>\\r\\n            <div class=\"ghms_comman_list2\">\\r\\n                <p class=\"width1\">\\r\\n                    Old Password</p>\\r\\n                <input name=\"txt_oldpswrd\" type=\"password\" maxlength=\"50\" id=\"txt_oldpswrd\" class=\"input7\" />\\r\\n                <span id=\"RequiredFieldValidator5\" style=\"color:Red;visibility:hidden;\">*</span>\\r\\n            </div>\\r\\n            <div class=\"ghms_comman_list2\">\\r\\n                <p class=\"width1\">\\r\\n                    New Password</p>\\r\\n                <input name=\"txt_newpsrd\" type=\"password\" maxlength=\"50\" id=\"txt_newpsrd\" class=\"input7\" />\\r\\n                <span id=\"RequiredFieldValidator6\" style=\"color:Red;visibility:hidden;\">*</span>\\r\\n            </div>\\r\\n            <div class=\"ghms_comman_list2\">\\r\\n                <p class=\"width1\">\\r\\n                    Confirm Password</p>\\r\\n                <input name=\"txt_confirmpsrwd\" type=\"password\" maxlength=\"50\" id=\"txt_confirmpsrwd\" class=\"input7\" />\\r\\n                <span id=\"RequiredFieldValidator7\" style=\"color:Red;visibility:hidden;\">*</span>\\r\\n                <span id=\"CompareValidator1\" style=\"color:Red;visibility:hidden;\">*</span>\\r\\n                <div id=\"ValidationSummary2\" style=\"color:Red;display:none;\">\\r\\n\\r\\n\\t</div>\\r\\n            </div>\\r\\n            <div class=\"ghms_big_button3\">\\r\\n                <input type=\"submit\" name=\"btn_save\" value=\"Ok\" onclick=\"javascript:WebForm_DoPostBackWithOptions(new WebForm_PostBackOptions(&quot;btn_save&quot;, &quot;&quot;, true, &quot;save&quot;, &quot;&quot;, false, false))\" id=\"btn_save\" class=\"button_effect_big\" />\\r\\n            </div>\\r\\n              \\r\\n            <div class=\"ghms_big_button2\">\\r\\n                <input type=\"submit\" name=\"btn_ChngPwdcancel\" value=\"Cancel\" onclick=\"fn_cancel();\" id=\"btn_ChngPwdcancel\" class=\"button_effect_big\" />\\r\\n            </div>\\r\\n        </div>\\r\\n    \\r\\n</div>\\r\\n    \\r\\n<script type=\"text/javascript\">\\r\\n//<![CDATA[\\r\\nvar Page_ValidationSummaries =  new Array(document.getElementById(\"ValidationSummary1\"), document.getElementById(\"ValidationSummary2\"));\\r\\nvar Page_Validators =  new Array(document.getElementById(\"RequiredFieldValidator1\"), document.getElementById(\"RequiredFieldValidator2\"), document.getElementById(\"vUserName\"), document.getElementById(\"vUserPass\"), document.getElementById(\"RequiredFieldValidator11\"), document.getElementById(\"RequiredFieldValidator4\"), document.getElementById(\"RequiredFieldValidator5\"), document.getElementById(\"RequiredFieldValidator6\"), document.getElementById(\"RequiredFieldValidator7\"), document.getElementById(\"CompareValidator1\"));\\r\\n//]]>\\r\\n</script>\\r\\n\\r\\n<script type=\"text/javascript\">\\r\\n//<![CDATA[\\r\\nvar RequiredFieldValidator1 = document.all ? document.all[\"RequiredFieldValidator1\"] : document.getElementById(\"RequiredFieldValidator1\");\\r\\nRequiredFieldValidator1.controltovalidate = \"txt_CompanyName\";\\r\\nRequiredFieldValidator1.errormessage = \"*\";\\r\\nRequiredFieldValidator1.validationGroup = \"login\";\\r\\nRequiredFieldValidator1.evaluationfunction = \"RequiredFieldValidatorEvaluateIsValid\";\\r\\nRequiredFieldValidator1.initialvalue = \"\";\\r\\nvar RequiredFieldValidator2 = document.all ? document.all[\"RequiredFieldValidator2\"] : document.getElementById(\"RequiredFieldValidator2\");\\r\\nRequiredFieldValidator2.controltovalidate = \"txt_CompanyName\";\\r\\nRequiredFieldValidator2.errormessage = \"Please Insert Company Name\";\\r\\nRequiredFieldValidator2.validationGroup = \"save\";\\r\\nRequiredFieldValidator2.evaluationfunction = \"RequiredFieldValidatorEvaluateIsValid\";\\r\\nRequiredFieldValidator2.initialvalue = \"\";\\r\\nvar vUserName = document.all ? document.all[\"vUserName\"] : document.getElementById(\"vUserName\");\\r\\nvUserName.controltovalidate = \"txtUserName\";\\r\\nvUserName.errormessage = \"*\";\\r\\nvUserName.validationGroup = \"login\";\\r\\nvUserName.evaluationfunction = \"RequiredFieldValidatorEvaluateIsValid\";\\r\\nvUserName.initialvalue = \"\";\\r\\nvar vUserPass = document.all ? document.all[\"vUserPass\"] : document.getElementById(\"vUserPass\");\\r\\nvUserPass.controltovalidate = \"txtUserPass\";\\r\\nvUserPass.errormessage = \"*\";\\r\\nvUserPass.validationGroup = \"login\";\\r\\nvUserPass.evaluationfunction = \"RequiredFieldValidatorEvaluateIsValid\";\\r\\nvUserPass.initialvalue = \"\";\\r\\nvar RequiredFieldValidator11 = document.all ? document.all[\"RequiredFieldValidator11\"] : document.getElementById(\"RequiredFieldValidator11\");\\r\\nRequiredFieldValidator11.controltovalidate = \"txt_OTP\";\\r\\nRequiredFieldValidator11.errormessage = \"Please insert OTP No. !!!\";\\r\\nRequiredFieldValidator11.validationGroup = \"CheckOTP\";\\r\\nRequiredFieldValidator11.evaluationfunction = \"RequiredFieldValidatorEvaluateIsValid\";\\r\\nRequiredFieldValidator11.initialvalue = \"\";\\r\\nvar ValidationSummary1 = document.all ? document.all[\"ValidationSummary1\"] : document.getElementById(\"ValidationSummary1\");\\r\\nValidationSummary1.showmessagebox = \"True\";\\r\\nValidationSummary1.showsummary = \"False\";\\r\\nValidationSummary1.validationGroup = \"CheckOTP\";\\r\\nvar RequiredFieldValidator4 = document.all ? document.all[\"RequiredFieldValidator4\"] : document.getElementById(\"RequiredFieldValidator4\");\\r\\nRequiredFieldValidator4.controltovalidate = \"txt_usrcode\";\\r\\nRequiredFieldValidator4.errormessage = \"Please Insert User Code\";\\r\\nRequiredFieldValidator4.validationGroup = \"save\";\\r\\nRequiredFieldValidator4.evaluationfunction = \"RequiredFieldValidatorEvaluateIsValid\";\\r\\nRequiredFieldValidator4.initialvalue = \"\";\\r\\nvar RequiredFieldValidator5 = document.all ? document.all[\"RequiredFieldValidator5\"] : document.getElementById(\"RequiredFieldValidator5\");\\r\\nRequiredFieldValidator5.controltovalidate = \"txt_oldpswrd\";\\r\\nRequiredFieldValidator5.errormessage = \"Please Insert Old Password\";\\r\\nRequiredFieldValidator5.validationGroup = \"save\";\\r\\nRequiredFieldValidator5.evaluationfunction = \"RequiredFieldValidatorEvaluateIsValid\";\\r\\nRequiredFieldValidator5.initialvalue = \"\";\\r\\nvar RequiredFieldValidator6 = document.all ? document.all[\"RequiredFieldValidator6\"] : document.getElementById(\"RequiredFieldValidator6\");\\r\\nRequiredFieldValidator6.controltovalidate = \"txt_newpsrd\";\\r\\nRequiredFieldValidator6.errormessage = \"Please Insert New Password\";\\r\\nRequiredFieldValidator6.validationGroup = \"save\";\\r\\nRequiredFieldValidator6.evaluationfunction = \"RequiredFieldValidatorEvaluateIsValid\";\\r\\nRequiredFieldValidator6.initialvalue = \"\";\\r\\nvar RequiredFieldValidator7 = document.all ? document.all[\"RequiredFieldValidator7\"] : document.getElementById(\"RequiredFieldValidator7\");\\r\\nRequiredFieldValidator7.controltovalidate = \"txt_confirmpsrwd\";\\r\\nRequiredFieldValidator7.errormessage = \"Please Insert Confirm Password\";\\r\\nRequiredFieldValidator7.validationGroup = \"save\";\\r\\nRequiredFieldValidator7.evaluationfunction = \"RequiredFieldValidatorEvaluateIsValid\";\\r\\nRequiredFieldValidator7.initialvalue = \"\";\\r\\nvar CompareValidator1 = document.all ? document.all[\"CompareValidator1\"] : document.getElementById(\"CompareValidator1\");\\r\\nCompareValidator1.controltovalidate = \"txt_newpsrd\";\\r\\nCompareValidator1.errormessage = \"Password And Confirm Password Not Match\";\\r\\nCompareValidator1.validationGroup = \"save\";\\r\\nCompareValidator1.evaluationfunction = \"CompareValidatorEvaluateIsValid\";\\r\\nCompareValidator1.controltocompare = \"txt_confirmpsrwd\";\\r\\nCompareValidator1.controlhookup = \"txt_confirmpsrwd\";\\r\\nvar ValidationSummary2 = document.all ? document.all[\"ValidationSummary2\"] : document.getElementById(\"ValidationSummary2\");\\r\\nValidationSummary2.showmessagebox = \"True\";\\r\\nValidationSummary2.showsummary = \"False\";\\r\\nValidationSummary2.validationGroup = \"save\";\\r\\n//]]>\\r\\n</script>\\r\\n\\r\\n\\r\\n<script type=\"text/javascript\">\\r\\n//<![CDATA[\\r\\nfn_BackDate_Alert()\\r\\nvar Page_ValidationActive = false;\\r\\nif (typeof(ValidatorOnLoad) == \"function\") {\\r\\n    ValidatorOnLoad();\\r\\n}\\r\\n\\r\\nfunction ValidatorOnSubmit() {\\r\\n    if (Page_ValidationActive) {\\r\\n        return ValidatorCommonOnSubmit();\\r\\n    }\\r\\n    else {\\r\\n        return true;\\r\\n    }\\r\\n}\\r\\n        \\r\\n(function(id) {\\r\\n    var e = document.getElementById(id);\\r\\n    if (e) {\\r\\n        e.dispose = function() {\\r\\n            Array.remove(Page_ValidationSummaries, document.getElementById(id));\\r\\n        }\\r\\n        e = null;\\r\\n    }\\r\\n})(\\'ValidationSummary1\\');\\r\\n\\r\\n(function(id) {\\r\\n    var e = document.getElementById(id);\\r\\n    if (e) {\\r\\n        e.dispose = function() {\\r\\n            Array.remove(Page_ValidationSummaries, document.getElementById(id));\\r\\n        }\\r\\n        e = null;\\r\\n    }\\r\\n})(\\'ValidationSummary2\\');\\r\\nWebForm_AutoFocus(\\'txtUserName\\');\\r\\ndocument.getElementById(\\'RequiredFieldValidator1\\').dispose = function() {\\r\\n    Array.remove(Page_Validators, document.getElementById(\\'RequiredFieldValidator1\\'));\\r\\n}\\r\\n\\r\\ndocument.getElementById(\\'RequiredFieldValidator2\\').dispose = function() {\\r\\n    Array.remove(Page_Validators, document.getElementById(\\'RequiredFieldValidator2\\'));\\r\\n}\\r\\n\\r\\ndocument.getElementById(\\'vUserName\\').dispose = function() {\\r\\n    Array.remove(Page_Validators, document.getElementById(\\'vUserName\\'));\\r\\n}\\r\\n\\r\\ndocument.getElementById(\\'vUserPass\\').dispose = function() {\\r\\n    Array.remove(Page_Validators, document.getElementById(\\'vUserPass\\'));\\r\\n}\\r\\nSys.Application.add_init(function() {\\r\\n    $create(Sys.Extended.UI.ModalPopupBehavior, {\"BackgroundCssClass\":\"modalBackground\",\"DropShadow\":true,\"PopupControlID\":\"pnl_chkOTP\",\"dynamicServicePath\":\"/default.aspx\",\"id\":\"popup_OTP\"}, null, null, $get(\"A2\"));\\r\\n});\\r\\n\\r\\ndocument.getElementById(\\'RequiredFieldValidator11\\').dispose = function() {\\r\\n    Array.remove(Page_Validators, document.getElementById(\\'RequiredFieldValidator11\\'));\\r\\n}\\r\\nSys.Application.add_init(function() {\\r\\n    $create(Sys.Extended.UI.ModalPopupBehavior, {\"BackgroundCssClass\":\"modalBackground\",\"PopupControlID\":\"pnl\",\"dynamicServicePath\":\"/default.aspx\",\"id\":\"popup1\"}, null, null, $get(\"A1\"));\\r\\n});\\r\\n\\r\\ndocument.getElementById(\\'RequiredFieldValidator4\\').dispose = function() {\\r\\n    Array.remove(Page_Validators, document.getElementById(\\'RequiredFieldValidator4\\'));\\r\\n}\\r\\n\\r\\ndocument.getElementById(\\'RequiredFieldValidator5\\').dispose = function() {\\r\\n    Array.remove(Page_Validators, document.getElementById(\\'RequiredFieldValidator5\\'));\\r\\n}\\r\\n\\r\\ndocument.getElementById(\\'RequiredFieldValidator6\\').dispose = function() {\\r\\n    Array.remove(Page_Validators, document.getElementById(\\'RequiredFieldValidator6\\'));\\r\\n}\\r\\n\\r\\ndocument.getElementById(\\'RequiredFieldValidator7\\').dispose = function() {\\r\\n    Array.remove(Page_Validators, document.getElementById(\\'RequiredFieldValidator7\\'));\\r\\n}\\r\\n\\r\\ndocument.getElementById(\\'CompareValidator1\\').dispose = function() {\\r\\n    Array.remove(Page_Validators, document.getElementById(\\'CompareValidator1\\'));\\r\\n}\\r\\n//]]>\\r\\n</script>\\r\\n</form>\\r\\n</body>\\r\\n</html>\\r\\n'"
      ]
     },
     "execution_count": 7,
     "metadata": {},
     "output_type": "execute_result"
    }
   ],
   "source": [
    "web.content"
   ]
  },
  {
   "cell_type": "code",
   "execution_count": 10,
   "id": "c2a7b775-8014-4fe8-a1f7-712c3b8a5562",
   "metadata": {},
   "outputs": [
    {
     "data": {
      "text/html": [
       "<div>\n",
       "<style scoped>\n",
       "    .dataframe tbody tr th:only-of-type {\n",
       "        vertical-align: middle;\n",
       "    }\n",
       "\n",
       "    .dataframe tbody tr th {\n",
       "        vertical-align: top;\n",
       "    }\n",
       "\n",
       "    .dataframe thead th {\n",
       "        text-align: right;\n",
       "    }\n",
       "</style>\n",
       "<table border=\"1\" class=\"dataframe\">\n",
       "  <thead>\n",
       "    <tr style=\"text-align: right;\">\n",
       "      <th></th>\n",
       "      <th>Row ID</th>\n",
       "      <th>Order ID</th>\n",
       "      <th>Order Date</th>\n",
       "      <th>Ship Date</th>\n",
       "      <th>Ship Mode</th>\n",
       "      <th>Customer ID</th>\n",
       "      <th>Customer Name</th>\n",
       "      <th>Segment</th>\n",
       "      <th>City</th>\n",
       "      <th>State</th>\n",
       "      <th>...</th>\n",
       "      <th>Product ID</th>\n",
       "      <th>Category</th>\n",
       "      <th>Sub-Category</th>\n",
       "      <th>Product Name</th>\n",
       "      <th>Sales</th>\n",
       "      <th>Quantity</th>\n",
       "      <th>Discount</th>\n",
       "      <th>Profit</th>\n",
       "      <th>Shipping Cost</th>\n",
       "      <th>Order Priority</th>\n",
       "    </tr>\n",
       "  </thead>\n",
       "  <tbody>\n",
       "    <tr>\n",
       "      <th>0</th>\n",
       "      <td>32298</td>\n",
       "      <td>CA-2012-124891</td>\n",
       "      <td>31-07-2012</td>\n",
       "      <td>31-07-2012</td>\n",
       "      <td>Same Day</td>\n",
       "      <td>RH-19495</td>\n",
       "      <td>Rick Hansen</td>\n",
       "      <td>Consumer</td>\n",
       "      <td>New York City</td>\n",
       "      <td>New York</td>\n",
       "      <td>...</td>\n",
       "      <td>TEC-AC-10003033</td>\n",
       "      <td>Technology</td>\n",
       "      <td>Accessories</td>\n",
       "      <td>Plantronics CS510 - Over-the-Head monaural Wir...</td>\n",
       "      <td>2309.650</td>\n",
       "      <td>7</td>\n",
       "      <td>0.0</td>\n",
       "      <td>762.1845</td>\n",
       "      <td>933.570</td>\n",
       "      <td>Critical</td>\n",
       "    </tr>\n",
       "    <tr>\n",
       "      <th>1</th>\n",
       "      <td>26341</td>\n",
       "      <td>IN-2013-77878</td>\n",
       "      <td>05-02-2013</td>\n",
       "      <td>07-02-2013</td>\n",
       "      <td>Second Class</td>\n",
       "      <td>JR-16210</td>\n",
       "      <td>Justin Ritter</td>\n",
       "      <td>Corporate</td>\n",
       "      <td>Wollongong</td>\n",
       "      <td>New South Wales</td>\n",
       "      <td>...</td>\n",
       "      <td>FUR-CH-10003950</td>\n",
       "      <td>Furniture</td>\n",
       "      <td>Chairs</td>\n",
       "      <td>Novimex Executive Leather Armchair, Black</td>\n",
       "      <td>3709.395</td>\n",
       "      <td>9</td>\n",
       "      <td>0.1</td>\n",
       "      <td>-288.7650</td>\n",
       "      <td>923.630</td>\n",
       "      <td>Critical</td>\n",
       "    </tr>\n",
       "    <tr>\n",
       "      <th>2</th>\n",
       "      <td>25330</td>\n",
       "      <td>IN-2013-71249</td>\n",
       "      <td>17-10-2013</td>\n",
       "      <td>18-10-2013</td>\n",
       "      <td>First Class</td>\n",
       "      <td>CR-12730</td>\n",
       "      <td>Craig Reiter</td>\n",
       "      <td>Consumer</td>\n",
       "      <td>Brisbane</td>\n",
       "      <td>Queensland</td>\n",
       "      <td>...</td>\n",
       "      <td>TEC-PH-10004664</td>\n",
       "      <td>Technology</td>\n",
       "      <td>Phones</td>\n",
       "      <td>Nokia Smart Phone, with Caller ID</td>\n",
       "      <td>5175.171</td>\n",
       "      <td>9</td>\n",
       "      <td>0.1</td>\n",
       "      <td>919.9710</td>\n",
       "      <td>915.490</td>\n",
       "      <td>Medium</td>\n",
       "    </tr>\n",
       "    <tr>\n",
       "      <th>3</th>\n",
       "      <td>13524</td>\n",
       "      <td>ES-2013-1579342</td>\n",
       "      <td>28-01-2013</td>\n",
       "      <td>30-01-2013</td>\n",
       "      <td>First Class</td>\n",
       "      <td>KM-16375</td>\n",
       "      <td>Katherine Murray</td>\n",
       "      <td>Home Office</td>\n",
       "      <td>Berlin</td>\n",
       "      <td>Berlin</td>\n",
       "      <td>...</td>\n",
       "      <td>TEC-PH-10004583</td>\n",
       "      <td>Technology</td>\n",
       "      <td>Phones</td>\n",
       "      <td>Motorola Smart Phone, Cordless</td>\n",
       "      <td>2892.510</td>\n",
       "      <td>5</td>\n",
       "      <td>0.1</td>\n",
       "      <td>-96.5400</td>\n",
       "      <td>910.160</td>\n",
       "      <td>Medium</td>\n",
       "    </tr>\n",
       "    <tr>\n",
       "      <th>4</th>\n",
       "      <td>47221</td>\n",
       "      <td>SG-2013-4320</td>\n",
       "      <td>05-11-2013</td>\n",
       "      <td>06-11-2013</td>\n",
       "      <td>Same Day</td>\n",
       "      <td>RH-9495</td>\n",
       "      <td>Rick Hansen</td>\n",
       "      <td>Consumer</td>\n",
       "      <td>Dakar</td>\n",
       "      <td>Dakar</td>\n",
       "      <td>...</td>\n",
       "      <td>TEC-SHA-10000501</td>\n",
       "      <td>Technology</td>\n",
       "      <td>Copiers</td>\n",
       "      <td>Sharp Wireless Fax, High-Speed</td>\n",
       "      <td>2832.960</td>\n",
       "      <td>8</td>\n",
       "      <td>0.0</td>\n",
       "      <td>311.5200</td>\n",
       "      <td>903.040</td>\n",
       "      <td>Critical</td>\n",
       "    </tr>\n",
       "    <tr>\n",
       "      <th>...</th>\n",
       "      <td>...</td>\n",
       "      <td>...</td>\n",
       "      <td>...</td>\n",
       "      <td>...</td>\n",
       "      <td>...</td>\n",
       "      <td>...</td>\n",
       "      <td>...</td>\n",
       "      <td>...</td>\n",
       "      <td>...</td>\n",
       "      <td>...</td>\n",
       "      <td>...</td>\n",
       "      <td>...</td>\n",
       "      <td>...</td>\n",
       "      <td>...</td>\n",
       "      <td>...</td>\n",
       "      <td>...</td>\n",
       "      <td>...</td>\n",
       "      <td>...</td>\n",
       "      <td>...</td>\n",
       "      <td>...</td>\n",
       "      <td>...</td>\n",
       "    </tr>\n",
       "    <tr>\n",
       "      <th>51285</th>\n",
       "      <td>29002</td>\n",
       "      <td>IN-2014-62366</td>\n",
       "      <td>19-06-2014</td>\n",
       "      <td>19-06-2014</td>\n",
       "      <td>Same Day</td>\n",
       "      <td>KE-16420</td>\n",
       "      <td>Katrina Edelman</td>\n",
       "      <td>Corporate</td>\n",
       "      <td>Kure</td>\n",
       "      <td>Hiroshima</td>\n",
       "      <td>...</td>\n",
       "      <td>OFF-FA-10000746</td>\n",
       "      <td>Office Supplies</td>\n",
       "      <td>Fasteners</td>\n",
       "      <td>Advantus Thumb Tacks, 12 Pack</td>\n",
       "      <td>65.100</td>\n",
       "      <td>5</td>\n",
       "      <td>0.0</td>\n",
       "      <td>4.5000</td>\n",
       "      <td>0.010</td>\n",
       "      <td>Medium</td>\n",
       "    </tr>\n",
       "    <tr>\n",
       "      <th>51286</th>\n",
       "      <td>35398</td>\n",
       "      <td>US-2014-102288</td>\n",
       "      <td>20-06-2014</td>\n",
       "      <td>24-06-2014</td>\n",
       "      <td>Standard Class</td>\n",
       "      <td>ZC-21910</td>\n",
       "      <td>Zuschuss Carroll</td>\n",
       "      <td>Consumer</td>\n",
       "      <td>Houston</td>\n",
       "      <td>Texas</td>\n",
       "      <td>...</td>\n",
       "      <td>OFF-AP-10002906</td>\n",
       "      <td>Office Supplies</td>\n",
       "      <td>Appliances</td>\n",
       "      <td>Hoover Replacement Belt for Commercial Guardsm...</td>\n",
       "      <td>0.444</td>\n",
       "      <td>1</td>\n",
       "      <td>0.8</td>\n",
       "      <td>-1.1100</td>\n",
       "      <td>0.010</td>\n",
       "      <td>Medium</td>\n",
       "    </tr>\n",
       "    <tr>\n",
       "      <th>51287</th>\n",
       "      <td>40470</td>\n",
       "      <td>US-2013-155768</td>\n",
       "      <td>02-12-2013</td>\n",
       "      <td>02-12-2013</td>\n",
       "      <td>Same Day</td>\n",
       "      <td>LB-16795</td>\n",
       "      <td>Laurel Beltran</td>\n",
       "      <td>Home Office</td>\n",
       "      <td>Oxnard</td>\n",
       "      <td>California</td>\n",
       "      <td>...</td>\n",
       "      <td>OFF-EN-10001219</td>\n",
       "      <td>Office Supplies</td>\n",
       "      <td>Envelopes</td>\n",
       "      <td>#10- 4 1/8\" x 9 1/2\" Security-Tint Envelopes</td>\n",
       "      <td>22.920</td>\n",
       "      <td>3</td>\n",
       "      <td>0.0</td>\n",
       "      <td>11.2308</td>\n",
       "      <td>0.010</td>\n",
       "      <td>High</td>\n",
       "    </tr>\n",
       "    <tr>\n",
       "      <th>51288</th>\n",
       "      <td>9596</td>\n",
       "      <td>MX-2012-140767</td>\n",
       "      <td>18-02-2012</td>\n",
       "      <td>22-02-2012</td>\n",
       "      <td>Standard Class</td>\n",
       "      <td>RB-19795</td>\n",
       "      <td>Ross Baird</td>\n",
       "      <td>Home Office</td>\n",
       "      <td>Valinhos</td>\n",
       "      <td>São Paulo</td>\n",
       "      <td>...</td>\n",
       "      <td>OFF-BI-10000806</td>\n",
       "      <td>Office Supplies</td>\n",
       "      <td>Binders</td>\n",
       "      <td>Acco Index Tab, Economy</td>\n",
       "      <td>13.440</td>\n",
       "      <td>2</td>\n",
       "      <td>0.0</td>\n",
       "      <td>2.4000</td>\n",
       "      <td>0.003</td>\n",
       "      <td>Medium</td>\n",
       "    </tr>\n",
       "    <tr>\n",
       "      <th>51289</th>\n",
       "      <td>6147</td>\n",
       "      <td>MX-2012-134460</td>\n",
       "      <td>22-05-2012</td>\n",
       "      <td>26-05-2012</td>\n",
       "      <td>Second Class</td>\n",
       "      <td>MC-18100</td>\n",
       "      <td>Mick Crebagga</td>\n",
       "      <td>Consumer</td>\n",
       "      <td>Tipitapa</td>\n",
       "      <td>Managua</td>\n",
       "      <td>...</td>\n",
       "      <td>OFF-PA-10004155</td>\n",
       "      <td>Office Supplies</td>\n",
       "      <td>Paper</td>\n",
       "      <td>Eaton Computer Printout Paper, 8.5 x 11</td>\n",
       "      <td>61.380</td>\n",
       "      <td>3</td>\n",
       "      <td>0.0</td>\n",
       "      <td>1.8000</td>\n",
       "      <td>0.002</td>\n",
       "      <td>High</td>\n",
       "    </tr>\n",
       "  </tbody>\n",
       "</table>\n",
       "<p>51290 rows × 23 columns</p>\n",
       "</div>"
      ],
      "text/plain": [
       "       Row ID         Order ID  Order Date   Ship Date       Ship Mode  \\\n",
       "0       32298   CA-2012-124891  31-07-2012  31-07-2012        Same Day   \n",
       "1       26341    IN-2013-77878  05-02-2013  07-02-2013    Second Class   \n",
       "2       25330    IN-2013-71249  17-10-2013  18-10-2013     First Class   \n",
       "3       13524  ES-2013-1579342  28-01-2013  30-01-2013     First Class   \n",
       "4       47221     SG-2013-4320  05-11-2013  06-11-2013        Same Day   \n",
       "...       ...              ...         ...         ...             ...   \n",
       "51285   29002    IN-2014-62366  19-06-2014  19-06-2014        Same Day   \n",
       "51286   35398   US-2014-102288  20-06-2014  24-06-2014  Standard Class   \n",
       "51287   40470   US-2013-155768  02-12-2013  02-12-2013        Same Day   \n",
       "51288    9596   MX-2012-140767  18-02-2012  22-02-2012  Standard Class   \n",
       "51289    6147   MX-2012-134460  22-05-2012  26-05-2012    Second Class   \n",
       "\n",
       "      Customer ID     Customer Name      Segment           City  \\\n",
       "0        RH-19495       Rick Hansen     Consumer  New York City   \n",
       "1        JR-16210     Justin Ritter    Corporate     Wollongong   \n",
       "2        CR-12730      Craig Reiter     Consumer       Brisbane   \n",
       "3        KM-16375  Katherine Murray  Home Office         Berlin   \n",
       "4         RH-9495       Rick Hansen     Consumer          Dakar   \n",
       "...           ...               ...          ...            ...   \n",
       "51285    KE-16420   Katrina Edelman    Corporate           Kure   \n",
       "51286    ZC-21910  Zuschuss Carroll     Consumer        Houston   \n",
       "51287    LB-16795    Laurel Beltran  Home Office         Oxnard   \n",
       "51288    RB-19795        Ross Baird  Home Office       Valinhos   \n",
       "51289    MC-18100     Mick Crebagga     Consumer       Tipitapa   \n",
       "\n",
       "                 State  ...        Product ID         Category Sub-Category  \\\n",
       "0             New York  ...   TEC-AC-10003033       Technology  Accessories   \n",
       "1      New South Wales  ...   FUR-CH-10003950        Furniture       Chairs   \n",
       "2           Queensland  ...   TEC-PH-10004664       Technology       Phones   \n",
       "3               Berlin  ...   TEC-PH-10004583       Technology       Phones   \n",
       "4                Dakar  ...  TEC-SHA-10000501       Technology      Copiers   \n",
       "...                ...  ...               ...              ...          ...   \n",
       "51285        Hiroshima  ...   OFF-FA-10000746  Office Supplies    Fasteners   \n",
       "51286            Texas  ...   OFF-AP-10002906  Office Supplies   Appliances   \n",
       "51287       California  ...   OFF-EN-10001219  Office Supplies    Envelopes   \n",
       "51288        São Paulo  ...   OFF-BI-10000806  Office Supplies      Binders   \n",
       "51289          Managua  ...   OFF-PA-10004155  Office Supplies        Paper   \n",
       "\n",
       "                                            Product Name     Sales Quantity  \\\n",
       "0      Plantronics CS510 - Over-the-Head monaural Wir...  2309.650        7   \n",
       "1              Novimex Executive Leather Armchair, Black  3709.395        9   \n",
       "2                      Nokia Smart Phone, with Caller ID  5175.171        9   \n",
       "3                         Motorola Smart Phone, Cordless  2892.510        5   \n",
       "4                         Sharp Wireless Fax, High-Speed  2832.960        8   \n",
       "...                                                  ...       ...      ...   \n",
       "51285                      Advantus Thumb Tacks, 12 Pack    65.100        5   \n",
       "51286  Hoover Replacement Belt for Commercial Guardsm...     0.444        1   \n",
       "51287       #10- 4 1/8\" x 9 1/2\" Security-Tint Envelopes    22.920        3   \n",
       "51288                            Acco Index Tab, Economy    13.440        2   \n",
       "51289            Eaton Computer Printout Paper, 8.5 x 11    61.380        3   \n",
       "\n",
       "      Discount    Profit  Shipping Cost  Order Priority  \n",
       "0          0.0  762.1845        933.570        Critical  \n",
       "1          0.1 -288.7650        923.630        Critical  \n",
       "2          0.1  919.9710        915.490          Medium  \n",
       "3          0.1  -96.5400        910.160          Medium  \n",
       "4          0.0  311.5200        903.040        Critical  \n",
       "...        ...       ...            ...             ...  \n",
       "51285      0.0    4.5000          0.010          Medium  \n",
       "51286      0.8   -1.1100          0.010          Medium  \n",
       "51287      0.0   11.2308          0.010            High  \n",
       "51288      0.0    2.4000          0.003          Medium  \n",
       "51289      0.0    1.8000          0.002            High  \n",
       "\n",
       "[51290 rows x 23 columns]"
      ]
     },
     "execution_count": 10,
     "metadata": {},
     "output_type": "execute_result"
    }
   ],
   "source": [
    "import pandas as pd\n",
    "df = pd.read_csv(\"C://Users//delli//OneDrive//Desktop//Global Superstore.csv\")\n",
    "df"
   ]
  },
  {
   "cell_type": "code",
   "execution_count": 10,
   "id": "f26dcd11-d290-44e7-a578-29518627958a",
   "metadata": {},
   "outputs": [
    {
     "name": "stdin",
     "output_type": "stream",
     "text": [
      "Enter a value: 2\n",
      "Enter a value: 2\n",
      "Enter a value: 3\n"
     ]
    },
    {
     "name": "stdout",
     "output_type": "stream",
     "text": [
      "[4, 9]\n"
     ]
    }
   ],
   "source": [
    "n = int(input(\"Enter a value:\"))\n",
    "a = []\n",
    "for i in range(n):\n",
    "    val = int(input(\"Enter a value:\"))\n",
    "    a.append(val**2)\n",
    "print(a)\n",
    "\n"
   ]
  },
  {
   "cell_type": "code",
   "execution_count": null,
   "id": "0a02a67b-46ff-4aa5-a630-0e59075edaa3",
   "metadata": {},
   "outputs": [],
   "source": []
  }
 ],
 "metadata": {
  "kernelspec": {
   "display_name": "Python 3 (ipykernel)",
   "language": "python",
   "name": "python3"
  },
  "language_info": {
   "codemirror_mode": {
    "name": "ipython",
    "version": 3
   },
   "file_extension": ".py",
   "mimetype": "text/x-python",
   "name": "python",
   "nbconvert_exporter": "python",
   "pygments_lexer": "ipython3",
   "version": "3.11.7"
  }
 },
 "nbformat": 4,
 "nbformat_minor": 5
}
