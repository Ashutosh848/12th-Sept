{
 "cells": [
  {
   "cell_type": "code",
   "execution_count": 2,
   "id": "dd040597-da7d-4fc8-918d-17b4ff180beb",
   "metadata": {},
   "outputs": [
    {
     "data": {
      "text/plain": [
       "6"
      ]
     },
     "execution_count": 2,
     "metadata": {},
     "output_type": "execute_result"
    }
   ],
   "source": [
    "a=lambda x,y:x+y\n",
    "a(2,4)"
   ]
  },
  {
   "cell_type": "code",
   "execution_count": 5,
   "id": "c3f37640-f3c3-482c-a39f-16558a353196",
   "metadata": {},
   "outputs": [
    {
     "data": {
      "text/plain": [
       "'ASHTU'"
      ]
     },
     "execution_count": 5,
     "metadata": {},
     "output_type": "execute_result"
    }
   ],
   "source": [
    "b = lambda a:a.upper()\n",
    "b('ashtu')"
   ]
  },
  {
   "cell_type": "code",
   "execution_count": 20,
   "id": "13a47de9-d465-4cde-99fb-808c20d46405",
   "metadata": {},
   "outputs": [
    {
     "data": {
      "text/plain": [
       "dict_keys(['name', 'r'])"
      ]
     },
     "execution_count": 20,
     "metadata": {},
     "output_type": "execute_result"
    }
   ],
   "source": [
    "f = lambda d: d.keys()\n",
    "f({'name':'ashutosh','r':'e'})"
   ]
  },
  {
   "cell_type": "code",
   "execution_count": 25,
   "id": "f5bad007-5789-40c2-bafe-2ae6b4d2ffe7",
   "metadata": {},
   "outputs": [
    {
     "data": {
      "text/plain": [
       "720"
      ]
     },
     "execution_count": 25,
     "metadata": {},
     "output_type": "execute_result"
    }
   ],
   "source": []
  },
  {
   "cell_type": "code",
   "execution_count": 43,
   "id": "91e16412-3b74-4ac5-b006-7c947eb8292a",
   "metadata": {},
   "outputs": [
    {
     "name": "stdout",
     "output_type": "stream",
     "text": [
      "5\n"
     ]
    }
   ],
   "source": [
    "def sum_of_digits(n):\n",
    "    if n == 0:\n",
    "        return 0\n",
    "    else:\n",
    "        return n % 10 + sum_of_digits(n // 10)\n",
    "        \n",
    "print(sum_of_digits(131))\n"
   ]
  },
  {
   "cell_type": "code",
   "execution_count": 48,
   "id": "fe5fbc43-1356-4663-90f1-dfd547e48b1e",
   "metadata": {},
   "outputs": [
    {
     "ename": "TypeError",
     "evalue": "rev() missing 1 required positional argument: 'r'",
     "output_type": "error",
     "traceback": [
      "\u001b[1;31m---------------------------------------------------------------------------\u001b[0m",
      "\u001b[1;31mTypeError\u001b[0m                                 Traceback (most recent call last)",
      "Cell \u001b[1;32mIn[48], line 6\u001b[0m\n\u001b[0;32m      4\u001b[0m     \u001b[38;5;28;01melse\u001b[39;00m:\n\u001b[0;32m      5\u001b[0m         \u001b[38;5;28;01mreturn\u001b[39;00m n\u001b[38;5;241m%\u001b[39m\u001b[38;5;241m10\u001b[39m \u001b[38;5;241m+\u001b[39m rev(r\u001b[38;5;241m*\u001b[39m\u001b[38;5;241m10\u001b[39m \u001b[38;5;241m+\u001b[39m n) \u001b[38;5;241m+\u001b[39m rev(n\u001b[38;5;241m/\u001b[39m\u001b[38;5;241m/\u001b[39m\u001b[38;5;241m10\u001b[39m)\n\u001b[1;32m----> 6\u001b[0m \u001b[38;5;28mprint\u001b[39m(rev(\u001b[38;5;241m123\u001b[39m,\u001b[38;5;241m1\u001b[39m))\n",
      "Cell \u001b[1;32mIn[48], line 5\u001b[0m, in \u001b[0;36mrev\u001b[1;34m(n, r)\u001b[0m\n\u001b[0;32m      3\u001b[0m     \u001b[38;5;28;01mreturn\u001b[39;00m \u001b[38;5;241m0\u001b[39m\n\u001b[0;32m      4\u001b[0m \u001b[38;5;28;01melse\u001b[39;00m:\n\u001b[1;32m----> 5\u001b[0m     \u001b[38;5;28;01mreturn\u001b[39;00m n\u001b[38;5;241m%\u001b[39m\u001b[38;5;241m10\u001b[39m \u001b[38;5;241m+\u001b[39m rev(r\u001b[38;5;241m*\u001b[39m\u001b[38;5;241m10\u001b[39m \u001b[38;5;241m+\u001b[39m n) \u001b[38;5;241m+\u001b[39m rev(n\u001b[38;5;241m/\u001b[39m\u001b[38;5;241m/\u001b[39m\u001b[38;5;241m10\u001b[39m)\n",
      "\u001b[1;31mTypeError\u001b[0m: rev() missing 1 required positional argument: 'r'"
     ]
    }
   ],
   "source": [
    "def rev(n,r=0):\n",
    "    if n == 0:\n",
    "        return 0\n",
    "    else:\n",
    "        return \n",
    "print(rev(123,0))"
   ]
  },
  {
   "cell_type": "code",
   "execution_count": 5,
   "id": "ccdb436e-aa17-4837-aa9d-c9c22b3eac42",
   "metadata": {},
   "outputs": [
    {
     "name": "stdout",
     "output_type": "stream",
     "text": [
      "6\n"
     ]
    }
   ],
   "source": [
    "def sum(n):\n",
    "    if n==0:\n",
    "        return 0\n",
    "    else:\n",
    "        return n%10 + sum(n//10)\n",
    "print(sum(123))"
   ]
  },
  {
   "cell_type": "code",
   "execution_count": 10,
   "id": "57a83f80-aab3-48e6-83c9-0133101811c5",
   "metadata": {},
   "outputs": [
    {
     "name": "stdout",
     "output_type": "stream",
     "text": [
      "321\n"
     ]
    }
   ],
   "source": [
    "def rev(n,r):\n",
    "    if n==0:\n",
    "        return r\n",
    "    else:\n",
    "        return rev(n//10,r*10+n%10)\n",
    "print(rev(123,0))"
   ]
  },
  {
   "cell_type": "code",
   "execution_count": 12,
   "id": "26f07776-009a-4d69-a61e-7361fec0f22e",
   "metadata": {},
   "outputs": [
    {
     "ename": "SyntaxError",
     "evalue": "invalid syntax (282794349.py, line 5)",
     "output_type": "error",
     "traceback": [
      "\u001b[1;36m  Cell \u001b[1;32mIn[12], line 5\u001b[1;36m\u001b[0m\n\u001b[1;33m    return st(for i in a,i+r)\u001b[0m\n\u001b[1;37m              ^\u001b[0m\n\u001b[1;31mSyntaxError\u001b[0m\u001b[1;31m:\u001b[0m invalid syntax\n"
     ]
    }
   ],
   "source": [
    "def st(a,r):\n",
    "    if n==0:\n",
    "        return r\n",
    "    else:\n",
    "        return st(for i in a,i+r)\n",
    "st(\"Ashu\",' ')"
   ]
  },
  {
   "cell_type": "code",
   "execution_count": 6,
   "id": "5f7937b8-f5f8-4967-966b-8610f0d1b3a2",
   "metadata": {},
   "outputs": [
    {
     "name": "stdout",
     "output_type": "stream",
     "text": [
      "Transaction Started\n",
      "Hellow\n",
      "Transaction Completed\n"
     ]
    }
   ],
   "source": [
    "def greet(new):\n",
    "    def wrap():\n",
    "        print(\"Transaction Started\")\n",
    "        new()\n",
    "        print(\"Transaction Completed\")\n",
    "    return wrap\n",
    "\n",
    "@greet\n",
    "def hel():\n",
    "    print(\"Hellow\")\n",
    "\n",
    "hel()\n",
    "    "
   ]
  },
  {
   "cell_type": "code",
   "execution_count": 2,
   "id": "a13853bd-d7b2-4e65-a1cc-fed3c81418e7",
   "metadata": {},
   "outputs": [
    {
     "name": "stdout",
     "output_type": "stream",
     "text": [
      "6\n",
      "he\n",
      "My course name is Data Engineering\n"
     ]
    }
   ],
   "source": [
    "def wow(he):\n",
    "    def hu(n,sum):\n",
    "        while(n!=0):\n",
    "            digit = n%10\n",
    "            sum = sum + digit\n",
    "            n//=10\n",
    "        print(sum)\n",
    "        he()\n",
    "        print(\"My course name is Data Engineering\")\n",
    "    return hu\n",
    "\n",
    "@wow\n",
    "def go():\n",
    "    print(\"he\")\n",
    "\n",
    "go(123,0)"
   ]
  },
  {
   "cell_type": "code",
   "execution_count": 8,
   "id": "4eac0e37-b743-4bfc-b683-f684aa0b6dfc",
   "metadata": {},
   "outputs": [
    {
     "name": "stdout",
     "output_type": "stream",
     "text": [
      "hsotuhsA\n",
      "Wow 23 \n",
      "Function completed\n"
     ]
    }
   ],
   "source": [
    "def greet(fun):\n",
    "    def great(n,sum):\n",
    "        rev = ''\n",
    "        for i in n:\n",
    "            rev = i + rev\n",
    "        print(rev)\n",
    "        fun()\n",
    "        print(\"Function completed\")\n",
    "    return great\n",
    "\n",
    "@greet\n",
    "def new(a):\n",
    "    print(f\"Wow {a} \")\n",
    "\n",
    "new('Ashutosh',0)"
   ]
  },
  {
   "cell_type": "code",
   "execution_count": 11,
   "id": "f0561eca-926e-4bf7-adda-4776840f637b",
   "metadata": {},
   "outputs": [
    {
     "name": "stdout",
     "output_type": "stream",
     "text": [
      "My name is Ashutosh and my age is 20 \n",
      "Not an armstrong No.\n"
     ]
    }
   ],
   "source": [
    "def how(first):\n",
    "    def greaa(name,age):\n",
    "        print(f\"My name is {name} and my age is {age} \")\n",
    "        first()\n",
    "    return greaa\n",
    "\n",
    "@how\n",
    "def sec(n):\n",
    "    temp = n\n",
    "    while(n!=0):\n",
    "        rev = 0\n",
    "        digit = n%10\n",
    "        rev = digit**3 + rev\n",
    "        n//=10\n",
    "    if(temp == n):\n",
    "        print(\"Armstrong\")\n",
    "    else:\n",
    "        print(\"Not an armstrong No.\")\n",
    "\n",
    "sec(\"Ashutosh\",20)"
   ]
  },
  {
   "cell_type": "code",
   "execution_count": null,
   "id": "73eed393-3c30-4799-ba1c-1e5fca452e29",
   "metadata": {},
   "outputs": [],
   "source": []
  }
 ],
 "metadata": {
  "kernelspec": {
   "display_name": "Python 3 (ipykernel)",
   "language": "python",
   "name": "python3"
  },
  "language_info": {
   "codemirror_mode": {
    "name": "ipython",
    "version": 3
   },
   "file_extension": ".py",
   "mimetype": "text/x-python",
   "name": "python",
   "nbconvert_exporter": "python",
   "pygments_lexer": "ipython3",
   "version": "3.11.7"
  }
 },
 "nbformat": 4,
 "nbformat_minor": 5
}
