{
 "cells": [
  {
   "cell_type": "code",
   "execution_count": 1,
   "id": "65088cb4-dc19-494a-8729-9401e6decbd8",
   "metadata": {
    "scrolled": true
   },
   "outputs": [
    {
     "name": "stdout",
     "output_type": "stream",
     "text": [
      "2\n"
     ]
    }
   ],
   "source": [
    "def loda(a,count):\n",
    "    for i in a:\n",
    "        if(i=='a' or i=='e' or i=='i' or i=='o' or i=='u'):\n",
    "            count = count + 1\n",
    "    print(count)\n",
    "loda(\"Suraj\",0)\n",
    "    "
   ]
  },
  {
   "cell_type": "code",
   "execution_count": 2,
   "id": "c2adcf39-29da-4a6b-8326-fbb0799e0759",
   "metadata": {},
   "outputs": [
    {
     "name": "stdout",
     "output_type": "stream",
     "text": [
      "kapeeD\n"
     ]
    }
   ],
   "source": [
    "def bsdk(a,rev):\n",
    "    for i in a:\n",
    "        rev = i + rev\n",
    "    print(rev)\n",
    "bsdk(\"Deepak\",'')"
   ]
  },
  {
   "cell_type": "code",
   "execution_count": 9,
   "id": "b2d7d78d-5667-4bf5-a61f-cfc67e182ee8",
   "metadata": {},
   "outputs": [
    {
     "name": "stdout",
     "output_type": "stream",
     "text": [
      "True hai mc\n"
     ]
    }
   ],
   "source": [
    "def meetha(a,rev):\n",
    "    temp = a\n",
    "    for i in a:\n",
    "        rev = i + rev\n",
    "    if(rev == temp):\n",
    "        print(\"True hai mc\")\n",
    "    else:\n",
    "        print(\"Chutiya hai\")\n",
    "meetha(\"naman\",'')"
   ]
  },
  {
   "cell_type": "code",
   "execution_count": 8,
   "id": "69868265-e1a2-4b70-a574-5fcd0f87be12",
   "metadata": {},
   "outputs": [
    {
     "name": "stdout",
     "output_type": "stream",
     "text": [
      "7\n"
     ]
    }
   ],
   "source": [
    "def fuck(a,sum):\n",
    "    for i in a:\n",
    "        sum = sum + i\n",
    "    print(sum)\n",
    "fuck([1,2,4],0)"
   ]
  },
  {
   "cell_type": "code",
   "execution_count": 18,
   "id": "28d2edc1-78ff-40d1-8bd8-2d911c208fda",
   "metadata": {},
   "outputs": [
    {
     "name": "stdout",
     "output_type": "stream",
     "text": [
      "12\n"
     ]
    }
   ],
   "source": [
    "def jhaatu(a):\n",
    "    min = a[0]\n",
    "    for i in a:\n",
    "        if(i<min):\n",
    "            min = i\n",
    "    print(min)\n",
    "jhaatu([12,34,54])"
   ]
  },
  {
   "cell_type": "code",
   "execution_count": 28,
   "id": "a0b48ce1-0ce0-4f6c-9b22-189d12ea632a",
   "metadata": {},
   "outputs": [
    {
     "name": "stdout",
     "output_type": "stream",
     "text": [
      "1\n",
      "5\n",
      "7\n",
      "11\n",
      "13\n",
      "17\n",
      "19\n",
      "23\n",
      "25\n",
      "29\n",
      "31\n",
      "35\n",
      "37\n",
      "41\n",
      "43\n",
      "47\n",
      "49\n"
     ]
    }
   ],
   "source": [
    "def uo():\n",
    "    for i in range(1,51):\n",
    "        if (i%2!=0 and i%3!=0):\n",
    "            print(i)\n",
    "uo()\n",
    "\n"
   ]
  },
  {
   "cell_type": "code",
   "execution_count": 30,
   "id": "ce9215ee-17f2-4eeb-9de4-edb7c9e8a4b3",
   "metadata": {},
   "outputs": [
    {
     "name": "stdout",
     "output_type": "stream",
     "text": [
      "5\n"
     ]
    }
   ],
   "source": [
    "def sum_sq(n,sum):\n",
    "    for i in n:\n",
    "        i = i**2\n",
    "        sum = sum + i\n",
    "    print(sum)\n",
    "\n",
    "sum_sq([1,2],0)"
   ]
  },
  {
   "cell_type": "code",
   "execution_count": 31,
   "id": "0647d73f-3b1e-4d12-ba16-e07fe3646df9",
   "metadata": {},
   "outputs": [
    {
     "name": "stdout",
     "output_type": "stream",
     "text": [
      "Ashu\n",
      "Deepu\n"
     ]
    }
   ],
   "source": [
    "def ch(a):\n",
    "    for i in a:\n",
    "        print(i.capitalize())\n",
    "\n",
    "ch(['ashu','deepu'])\n"
   ]
  },
  {
   "cell_type": "code",
   "execution_count": 32,
   "id": "7b6af5ec-c75b-4642-91d8-3af65efbcfb6",
   "metadata": {},
   "outputs": [
    {
     "name": "stdout",
     "output_type": "stream",
     "text": [
      "{1, 2, 3, 4, 5, 6, 7}\n"
     ]
    }
   ],
   "source": [
    "def d(l):\n",
    "    s = set(l)\n",
    "    print(s)\n",
    "d([1,2,3,4,4,5,6,6,7,7])"
   ]
  },
  {
   "cell_type": "code",
   "execution_count": null,
   "id": "f374b985-e661-4b81-9399-f25133dd5d43",
   "metadata": {},
   "outputs": [],
   "source": []
  }
 ],
 "metadata": {
  "kernelspec": {
   "display_name": "Python 3 (ipykernel)",
   "language": "python",
   "name": "python3"
  },
  "language_info": {
   "codemirror_mode": {
    "name": "ipython",
    "version": 3
   },
   "file_extension": ".py",
   "mimetype": "text/x-python",
   "name": "python",
   "nbconvert_exporter": "python",
   "pygments_lexer": "ipython3",
   "version": "3.11.7"
  }
 },
 "nbformat": 4,
 "nbformat_minor": 5
}
