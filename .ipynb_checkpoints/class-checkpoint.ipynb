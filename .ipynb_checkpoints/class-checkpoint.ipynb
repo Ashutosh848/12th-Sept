{
 "cells": [
  {
   "cell_type": "code",
   "execution_count": 21,
   "id": "04db382d-ad79-4bc8-91bf-5bedc4f6a66c",
   "metadata": {},
   "outputs": [
    {
     "name": "stdout",
     "output_type": "stream",
     "text": [
      "Ashutosh\n",
      "hsotuhsA\n",
      "\n",
      "h\n",
      "hut\n",
      "\n",
      "A\n",
      "hsotuhsA\n",
      "hs\n",
      "hsotu\n"
     ]
    }
   ],
   "source": [
    "\n",
    "s = \"Ashutosh\"\n",
    "print(s)\n",
    "print(s[::-1])\n",
    "print(s[0:3:-2])\n",
    "print(s[2:4:2])\n",
    "print(s[2:5:1])\n",
    "print(s[-1:-2])\n",
    "print(s[0])\n",
    "print(s[::-1])\n",
    "print(s[-1:-3:-1])\n",
    "print(s[-1:-6:-1])"
   ]
  },
  {
   "cell_type": "code",
   "execution_count": 48,
   "id": "8e8e6820-de72-43cd-8e0c-42320388e854",
   "metadata": {},
   "outputs": [
    {
     "name": "stdout",
     "output_type": "stream",
     "text": [
      "{'name': 'Ashutosh Tiwari', 'Course': 'Data Engineering', 'Age': 20, 'Gender': 'Male'}\n",
      "Ashutosh Tiwari\n"
     ]
    },
    {
     "data": {
      "text/plain": [
       "dict_values(['Ashutosh Tiwari', 20, 'Male', 'Jaipur', 'No'])"
      ]
     },
     "execution_count": 48,
     "metadata": {},
     "output_type": "execute_result"
    }
   ],
   "source": [
    "d = dict(name = \"Ashutosh Tiwari\",Course = \"Data Engineering\",Age = 20,Gender = \"Male\")\n",
    "print(d)\n",
    "print(d.get('name'))\n",
    "d.update({'City':'Jaipur','martial_Status':'No'})\n",
    "d\n",
    "list(d.items())\n",
    "\n",
    "d.keys()\n",
    "d.pop('Course')\n",
    "d\n",
    "d.values()"
   ]
  },
  {
   "cell_type": "code",
   "execution_count": 2,
   "id": "0ea60358-b7c8-4e72-9175-c72a0d3b514a",
   "metadata": {},
   "outputs": [
    {
     "name": "stdout",
     "output_type": "stream",
     "text": [
      "{'name': 'Ashutosh Tiwari', 'Course': 'Data Engineering', 'Age': 20, 'Gender': 'Male'}\n"
     ]
    }
   ],
   "source": []
  },
  {
   "cell_type": "code",
   "execution_count": null,
   "id": "6d1f9cbe-f858-4207-920f-ff37eac1c5a2",
   "metadata": {},
   "outputs": [],
   "source": [
    "\n"
   ]
  }
 ],
 "metadata": {
  "kernelspec": {
   "display_name": "Python 3 (ipykernel)",
   "language": "python",
   "name": "python3"
  },
  "language_info": {
   "codemirror_mode": {
    "name": "ipython",
    "version": 3
   },
   "file_extension": ".py",
   "mimetype": "text/x-python",
   "name": "python",
   "nbconvert_exporter": "python",
   "pygments_lexer": "ipython3",
   "version": "3.11.7"
  }
 },
 "nbformat": 4,
 "nbformat_minor": 5
}
