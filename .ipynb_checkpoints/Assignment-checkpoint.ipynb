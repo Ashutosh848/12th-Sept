{
 "cells": [
  {
   "cell_type": "code",
   "execution_count": 2,
   "id": "1097b373-bf91-48af-ada7-b58978f127f8",
   "metadata": {},
   "outputs": [
    {
     "name": "stdout",
     "output_type": "stream",
     "text": [
      "l\n",
      "e\n",
      "l\n",
      "d\n"
     ]
    }
   ],
   "source": [
    "a = (\"Hello world\")\n",
    "print(a[2])\n",
    "print(a[1])\n",
    "print(a[-2])\n",
    "print(a[-1])\n"
   ]
  },
  {
   "cell_type": "code",
   "execution_count": 5,
   "id": "2f5c740b-234f-4c9d-92a9-fa0c074fb224",
   "metadata": {},
   "outputs": [
    {
     "name": "stdout",
     "output_type": "stream",
     "text": [
      "H\n",
      "dlrow\n",
      "dlrow olleH\n",
      "dlro\n",
      "\n",
      "\n"
     ]
    }
   ],
   "source": [
    "print(a[0:1:1])\n",
    "print(a[-1:5:-1])\n",
    "print(a[::-1])\n",
    "print(a[-1:-5:-1])\n",
    "print(a[-8:-3:-2])\n",
    "print(a[-6:-1:-3])\n"
   ]
  },
  {
   "cell_type": "code",
   "execution_count": 13,
   "id": "e07a71ae-c1b4-4112-874d-46fb314f12cb",
   "metadata": {},
   "outputs": [
    {
     "name": "stdout",
     "output_type": "stream",
     "text": [
      "{'name': 'Ashutosh', 'course': 'Data Engineering', 'Age': 20, 'Weight': 60, 'Institute': 'Regex'}\n"
     ]
    },
    {
     "data": {
      "text/plain": [
       "{'name': 'Ashutosh Tiwari',\n",
       " 'course': 'Data Engineering',\n",
       " 'Age': 20,\n",
       " 'Weight': 60,\n",
       " 'Institute': 'Regex'}"
      ]
     },
     "execution_count": 13,
     "metadata": {},
     "output_type": "execute_result"
    }
   ],
   "source": [
    "d = dict(name = 'Ashutosh',course = \"Data Engineering\",Age = 20,Weight = 60,Institute = 'Regex')\n",
    "print(d)\n",
    "\n",
    "d.get('name')\n",
    "d['course']\n",
    "d['name']='Ashutosh Tiwari'\n",
    "d"
   ]
  },
  {
   "cell_type": "code",
   "execution_count": 23,
   "id": "4e3869f5-9cd9-4639-b62d-ded326d42c53",
   "metadata": {},
   "outputs": [
    {
     "name": "stdout",
     "output_type": "stream",
     "text": [
      "{'name': 'Ashutosh Tiwari', 'course': 'Data Engineering', 'Age': 20, 'Weight': 60, 'Institute': 'Regex', 1: 1, 2: 2, 3: 3, 4: 4}\n",
      "{'name': 'Ashutosh Tiwari', 'course': 'Data Engineering', 'Age': 20, 'Weight': 60, 'Institute': 'Regex', 1: 1, 2: 2, 3: 3}\n",
      "{'name': 'Ashutosh Tiwari', 'course': 'Data Engineering', 'Age': 20, 'Weight': 60, 'Institute': 'Regex', 1: 1, 2: 2}\n",
      "{'name': 'Ashutosh Tiwari', 'course': 'Data Engineering', 'Age': 20, 'Weight': 60, 'Institute': 'Regex', 1: 1, 2: 2}\n",
      "{}\n"
     ]
    }
   ],
   "source": [
    "new_d = {1:1,2:2,3:3,4:4}\n",
    "d.update(new_d)\n",
    "print(d)\n",
    "d.keys()\n",
    "d.values()\n",
    "d.items()\n",
    "d.pop(4)\n",
    "print(d)\n",
    "del d[3]\n",
    "print(d)\n",
    "e = d.copy()\n",
    "print(e)\n",
    "e.clear()\n",
    "print(e)"
   ]
  },
  {
   "cell_type": "code",
   "execution_count": 20,
   "id": "fe40d075-0294-4d55-9192-56857298c4d1",
   "metadata": {},
   "outputs": [
    {
     "name": "stdout",
     "output_type": "stream",
     "text": [
      "True\n"
     ]
    }
   ],
   "source": [
    "is_okay = True\n",
    "is_notOkay = False\n",
    "print(is_okay)"
   ]
  },
  {
   "cell_type": "code",
   "execution_count": 24,
   "id": "5794ebba-dc1a-4bad-9c67-b770cf1f323f",
   "metadata": {},
   "outputs": [
    {
     "name": "stdout",
     "output_type": "stream",
     "text": [
      "None\n"
     ]
    }
   ],
   "source": [
    "is_none = None\n",
    "print(is_none)"
   ]
  },
  {
   "cell_type": "code",
   "execution_count": null,
   "id": "aabef5a4-d75a-476b-8962-af1a3cb116ab",
   "metadata": {},
   "outputs": [],
   "source": []
  }
 ],
 "metadata": {
  "kernelspec": {
   "display_name": "Python 3 (ipykernel)",
   "language": "python",
   "name": "python3"
  },
  "language_info": {
   "codemirror_mode": {
    "name": "ipython",
    "version": 3
   },
   "file_extension": ".py",
   "mimetype": "text/x-python",
   "name": "python",
   "nbconvert_exporter": "python",
   "pygments_lexer": "ipython3",
   "version": "3.11.7"
  }
 },
 "nbformat": 4,
 "nbformat_minor": 5
}
