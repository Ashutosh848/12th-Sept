{
 "cells": [
  {
   "cell_type": "code",
   "execution_count": 2,
   "id": "a86363c8-416f-4de7-9e3f-a30f556037da",
   "metadata": {},
   "outputs": [],
   "source": [
    "import pandas as pd\n",
    "import matplotlib.pyplot as plt\n",
    "import seaborn as sns"
   ]
  },
  {
   "cell_type": "code",
   "execution_count": 3,
   "id": "40a93ae4-91e1-4ea8-bf39-7067a5efb93b",
   "metadata": {},
   "outputs": [],
   "source": [
    "df = pd.read_csv(\"C://Users//delli//Downloads//h1b_kaggle.csv//h1b_kaggle.csv\")"
   ]
  },
  {
   "cell_type": "code",
   "execution_count": 4,
   "id": "2afabfe1-2ccf-4ada-accf-4f0a6c9c2124",
   "metadata": {},
   "outputs": [
    {
     "data": {
      "text/html": [
       "<div>\n",
       "<style scoped>\n",
       "    .dataframe tbody tr th:only-of-type {\n",
       "        vertical-align: middle;\n",
       "    }\n",
       "\n",
       "    .dataframe tbody tr th {\n",
       "        vertical-align: top;\n",
       "    }\n",
       "\n",
       "    .dataframe thead th {\n",
       "        text-align: right;\n",
       "    }\n",
       "</style>\n",
       "<table border=\"1\" class=\"dataframe\">\n",
       "  <thead>\n",
       "    <tr style=\"text-align: right;\">\n",
       "      <th></th>\n",
       "      <th>Unnamed: 0</th>\n",
       "      <th>CASE_STATUS</th>\n",
       "      <th>EMPLOYER_NAME</th>\n",
       "      <th>SOC_NAME</th>\n",
       "      <th>JOB_TITLE</th>\n",
       "      <th>FULL_TIME_POSITION</th>\n",
       "      <th>PREVAILING_WAGE</th>\n",
       "      <th>YEAR</th>\n",
       "      <th>WORKSITE</th>\n",
       "      <th>lon</th>\n",
       "      <th>lat</th>\n",
       "    </tr>\n",
       "  </thead>\n",
       "  <tbody>\n",
       "    <tr>\n",
       "      <th>0</th>\n",
       "      <td>1</td>\n",
       "      <td>CERTIFIED-WITHDRAWN</td>\n",
       "      <td>UNIVERSITY OF MICHIGAN</td>\n",
       "      <td>BIOCHEMISTS AND BIOPHYSICISTS</td>\n",
       "      <td>POSTDOCTORAL RESEARCH FELLOW</td>\n",
       "      <td>N</td>\n",
       "      <td>36067.0</td>\n",
       "      <td>2016.0</td>\n",
       "      <td>ANN ARBOR, MICHIGAN</td>\n",
       "      <td>-83.743038</td>\n",
       "      <td>42.280826</td>\n",
       "    </tr>\n",
       "    <tr>\n",
       "      <th>1</th>\n",
       "      <td>2</td>\n",
       "      <td>CERTIFIED-WITHDRAWN</td>\n",
       "      <td>GOODMAN NETWORKS, INC.</td>\n",
       "      <td>CHIEF EXECUTIVES</td>\n",
       "      <td>CHIEF OPERATING OFFICER</td>\n",
       "      <td>Y</td>\n",
       "      <td>242674.0</td>\n",
       "      <td>2016.0</td>\n",
       "      <td>PLANO, TEXAS</td>\n",
       "      <td>-96.698886</td>\n",
       "      <td>33.019843</td>\n",
       "    </tr>\n",
       "    <tr>\n",
       "      <th>2</th>\n",
       "      <td>3</td>\n",
       "      <td>CERTIFIED-WITHDRAWN</td>\n",
       "      <td>PORTS AMERICA GROUP, INC.</td>\n",
       "      <td>CHIEF EXECUTIVES</td>\n",
       "      <td>CHIEF PROCESS OFFICER</td>\n",
       "      <td>Y</td>\n",
       "      <td>193066.0</td>\n",
       "      <td>2016.0</td>\n",
       "      <td>JERSEY CITY, NEW JERSEY</td>\n",
       "      <td>-74.077642</td>\n",
       "      <td>40.728158</td>\n",
       "    </tr>\n",
       "    <tr>\n",
       "      <th>3</th>\n",
       "      <td>4</td>\n",
       "      <td>CERTIFIED-WITHDRAWN</td>\n",
       "      <td>GATES CORPORATION, A WHOLLY-OWNED SUBSIDIARY O...</td>\n",
       "      <td>CHIEF EXECUTIVES</td>\n",
       "      <td>REGIONAL PRESIDEN, AMERICAS</td>\n",
       "      <td>Y</td>\n",
       "      <td>220314.0</td>\n",
       "      <td>2016.0</td>\n",
       "      <td>DENVER, COLORADO</td>\n",
       "      <td>-104.990251</td>\n",
       "      <td>39.739236</td>\n",
       "    </tr>\n",
       "    <tr>\n",
       "      <th>4</th>\n",
       "      <td>5</td>\n",
       "      <td>WITHDRAWN</td>\n",
       "      <td>PEABODY INVESTMENTS CORP.</td>\n",
       "      <td>CHIEF EXECUTIVES</td>\n",
       "      <td>PRESIDENT MONGOLIA AND INDIA</td>\n",
       "      <td>Y</td>\n",
       "      <td>157518.4</td>\n",
       "      <td>2016.0</td>\n",
       "      <td>ST. LOUIS, MISSOURI</td>\n",
       "      <td>-90.199404</td>\n",
       "      <td>38.627003</td>\n",
       "    </tr>\n",
       "    <tr>\n",
       "      <th>...</th>\n",
       "      <td>...</td>\n",
       "      <td>...</td>\n",
       "      <td>...</td>\n",
       "      <td>...</td>\n",
       "      <td>...</td>\n",
       "      <td>...</td>\n",
       "      <td>...</td>\n",
       "      <td>...</td>\n",
       "      <td>...</td>\n",
       "      <td>...</td>\n",
       "      <td>...</td>\n",
       "    </tr>\n",
       "    <tr>\n",
       "      <th>3002453</th>\n",
       "      <td>3002454</td>\n",
       "      <td>NaN</td>\n",
       "      <td>NaN</td>\n",
       "      <td>NaN</td>\n",
       "      <td>NaN</td>\n",
       "      <td>NaN</td>\n",
       "      <td>NaN</td>\n",
       "      <td>NaN</td>\n",
       "      <td>NYC, NEW YORK</td>\n",
       "      <td>-74.005941</td>\n",
       "      <td>40.712784</td>\n",
       "    </tr>\n",
       "    <tr>\n",
       "      <th>3002454</th>\n",
       "      <td>3002455</td>\n",
       "      <td>NaN</td>\n",
       "      <td>NaN</td>\n",
       "      <td>NaN</td>\n",
       "      <td>NaN</td>\n",
       "      <td>NaN</td>\n",
       "      <td>NaN</td>\n",
       "      <td>NaN</td>\n",
       "      <td>SOUTH LAKE, TEXAS</td>\n",
       "      <td>-97.134178</td>\n",
       "      <td>32.941236</td>\n",
       "    </tr>\n",
       "    <tr>\n",
       "      <th>3002455</th>\n",
       "      <td>3002456</td>\n",
       "      <td>NaN</td>\n",
       "      <td>NaN</td>\n",
       "      <td>NaN</td>\n",
       "      <td>NaN</td>\n",
       "      <td>NaN</td>\n",
       "      <td>NaN</td>\n",
       "      <td>NaN</td>\n",
       "      <td>CLINTON, NEW JERSEY</td>\n",
       "      <td>-74.909890</td>\n",
       "      <td>40.636768</td>\n",
       "    </tr>\n",
       "    <tr>\n",
       "      <th>3002456</th>\n",
       "      <td>3002457</td>\n",
       "      <td>NaN</td>\n",
       "      <td>NaN</td>\n",
       "      <td>NaN</td>\n",
       "      <td>NaN</td>\n",
       "      <td>NaN</td>\n",
       "      <td>NaN</td>\n",
       "      <td>NaN</td>\n",
       "      <td>OWINGS MILL, MARYLAND</td>\n",
       "      <td>-76.780253</td>\n",
       "      <td>39.419550</td>\n",
       "    </tr>\n",
       "    <tr>\n",
       "      <th>3002457</th>\n",
       "      <td>3002458</td>\n",
       "      <td>NaN</td>\n",
       "      <td>NaN</td>\n",
       "      <td>NaN</td>\n",
       "      <td>NaN</td>\n",
       "      <td>NaN</td>\n",
       "      <td>NaN</td>\n",
       "      <td>NaN</td>\n",
       "      <td>ALTANTA, GEORGIA</td>\n",
       "      <td>-84.387982</td>\n",
       "      <td>33.748995</td>\n",
       "    </tr>\n",
       "  </tbody>\n",
       "</table>\n",
       "<p>3002458 rows × 11 columns</p>\n",
       "</div>"
      ],
      "text/plain": [
       "         Unnamed: 0          CASE_STATUS  \\\n",
       "0                 1  CERTIFIED-WITHDRAWN   \n",
       "1                 2  CERTIFIED-WITHDRAWN   \n",
       "2                 3  CERTIFIED-WITHDRAWN   \n",
       "3                 4  CERTIFIED-WITHDRAWN   \n",
       "4                 5            WITHDRAWN   \n",
       "...             ...                  ...   \n",
       "3002453     3002454                  NaN   \n",
       "3002454     3002455                  NaN   \n",
       "3002455     3002456                  NaN   \n",
       "3002456     3002457                  NaN   \n",
       "3002457     3002458                  NaN   \n",
       "\n",
       "                                             EMPLOYER_NAME  \\\n",
       "0                                   UNIVERSITY OF MICHIGAN   \n",
       "1                                   GOODMAN NETWORKS, INC.   \n",
       "2                                PORTS AMERICA GROUP, INC.   \n",
       "3        GATES CORPORATION, A WHOLLY-OWNED SUBSIDIARY O...   \n",
       "4                                PEABODY INVESTMENTS CORP.   \n",
       "...                                                    ...   \n",
       "3002453                                                NaN   \n",
       "3002454                                                NaN   \n",
       "3002455                                                NaN   \n",
       "3002456                                                NaN   \n",
       "3002457                                                NaN   \n",
       "\n",
       "                              SOC_NAME                     JOB_TITLE  \\\n",
       "0        BIOCHEMISTS AND BIOPHYSICISTS  POSTDOCTORAL RESEARCH FELLOW   \n",
       "1                     CHIEF EXECUTIVES       CHIEF OPERATING OFFICER   \n",
       "2                     CHIEF EXECUTIVES         CHIEF PROCESS OFFICER   \n",
       "3                     CHIEF EXECUTIVES   REGIONAL PRESIDEN, AMERICAS   \n",
       "4                     CHIEF EXECUTIVES  PRESIDENT MONGOLIA AND INDIA   \n",
       "...                                ...                           ...   \n",
       "3002453                            NaN                           NaN   \n",
       "3002454                            NaN                           NaN   \n",
       "3002455                            NaN                           NaN   \n",
       "3002456                            NaN                           NaN   \n",
       "3002457                            NaN                           NaN   \n",
       "\n",
       "        FULL_TIME_POSITION  PREVAILING_WAGE    YEAR                 WORKSITE  \\\n",
       "0                        N          36067.0  2016.0      ANN ARBOR, MICHIGAN   \n",
       "1                        Y         242674.0  2016.0             PLANO, TEXAS   \n",
       "2                        Y         193066.0  2016.0  JERSEY CITY, NEW JERSEY   \n",
       "3                        Y         220314.0  2016.0         DENVER, COLORADO   \n",
       "4                        Y         157518.4  2016.0      ST. LOUIS, MISSOURI   \n",
       "...                    ...              ...     ...                      ...   \n",
       "3002453                NaN              NaN     NaN            NYC, NEW YORK   \n",
       "3002454                NaN              NaN     NaN        SOUTH LAKE, TEXAS   \n",
       "3002455                NaN              NaN     NaN      CLINTON, NEW JERSEY   \n",
       "3002456                NaN              NaN     NaN    OWINGS MILL, MARYLAND   \n",
       "3002457                NaN              NaN     NaN         ALTANTA, GEORGIA   \n",
       "\n",
       "                lon        lat  \n",
       "0        -83.743038  42.280826  \n",
       "1        -96.698886  33.019843  \n",
       "2        -74.077642  40.728158  \n",
       "3       -104.990251  39.739236  \n",
       "4        -90.199404  38.627003  \n",
       "...             ...        ...  \n",
       "3002453  -74.005941  40.712784  \n",
       "3002454  -97.134178  32.941236  \n",
       "3002455  -74.909890  40.636768  \n",
       "3002456  -76.780253  39.419550  \n",
       "3002457  -84.387982  33.748995  \n",
       "\n",
       "[3002458 rows x 11 columns]"
      ]
     },
     "execution_count": 4,
     "metadata": {},
     "output_type": "execute_result"
    }
   ],
   "source": [
    "df"
   ]
  },
  {
   "cell_type": "code",
   "execution_count": 5,
   "id": "e59c836e-a359-44c5-97d4-10f7aa89a88e",
   "metadata": {},
   "outputs": [
    {
     "data": {
      "text/plain": [
       "Index(['Unnamed: 0', 'CASE_STATUS', 'EMPLOYER_NAME', 'SOC_NAME', 'JOB_TITLE',\n",
       "       'FULL_TIME_POSITION', 'PREVAILING_WAGE', 'YEAR', 'WORKSITE', 'lon',\n",
       "       'lat'],\n",
       "      dtype='object')"
      ]
     },
     "execution_count": 5,
     "metadata": {},
     "output_type": "execute_result"
    }
   ],
   "source": [
    "df.columns"
   ]
  },
  {
   "cell_type": "code",
   "execution_count": 6,
   "id": "e14cbf50-3145-4c15-b8d6-7380d3ce1e4a",
   "metadata": {},
   "outputs": [],
   "source": [
    "df.drop(columns=['Unnamed: 0'],inplace = True)"
   ]
  },
  {
   "cell_type": "code",
   "execution_count": 7,
   "id": "1d92ac8c-fb02-4530-9f0c-41555714c5be",
   "metadata": {},
   "outputs": [
    {
     "data": {
      "text/html": [
       "<div>\n",
       "<style scoped>\n",
       "    .dataframe tbody tr th:only-of-type {\n",
       "        vertical-align: middle;\n",
       "    }\n",
       "\n",
       "    .dataframe tbody tr th {\n",
       "        vertical-align: top;\n",
       "    }\n",
       "\n",
       "    .dataframe thead th {\n",
       "        text-align: right;\n",
       "    }\n",
       "</style>\n",
       "<table border=\"1\" class=\"dataframe\">\n",
       "  <thead>\n",
       "    <tr style=\"text-align: right;\">\n",
       "      <th></th>\n",
       "      <th>CASE_STATUS</th>\n",
       "      <th>EMPLOYER_NAME</th>\n",
       "      <th>SOC_NAME</th>\n",
       "      <th>JOB_TITLE</th>\n",
       "      <th>FULL_TIME_POSITION</th>\n",
       "      <th>PREVAILING_WAGE</th>\n",
       "      <th>YEAR</th>\n",
       "      <th>WORKSITE</th>\n",
       "      <th>lon</th>\n",
       "      <th>lat</th>\n",
       "    </tr>\n",
       "  </thead>\n",
       "  <tbody>\n",
       "    <tr>\n",
       "      <th>0</th>\n",
       "      <td>CERTIFIED-WITHDRAWN</td>\n",
       "      <td>UNIVERSITY OF MICHIGAN</td>\n",
       "      <td>BIOCHEMISTS AND BIOPHYSICISTS</td>\n",
       "      <td>POSTDOCTORAL RESEARCH FELLOW</td>\n",
       "      <td>N</td>\n",
       "      <td>36067.0</td>\n",
       "      <td>2016.0</td>\n",
       "      <td>ANN ARBOR, MICHIGAN</td>\n",
       "      <td>-83.743038</td>\n",
       "      <td>42.280826</td>\n",
       "    </tr>\n",
       "  </tbody>\n",
       "</table>\n",
       "</div>"
      ],
      "text/plain": [
       "           CASE_STATUS           EMPLOYER_NAME                       SOC_NAME  \\\n",
       "0  CERTIFIED-WITHDRAWN  UNIVERSITY OF MICHIGAN  BIOCHEMISTS AND BIOPHYSICISTS   \n",
       "\n",
       "                      JOB_TITLE FULL_TIME_POSITION  PREVAILING_WAGE    YEAR  \\\n",
       "0  POSTDOCTORAL RESEARCH FELLOW                  N          36067.0  2016.0   \n",
       "\n",
       "              WORKSITE        lon        lat  \n",
       "0  ANN ARBOR, MICHIGAN -83.743038  42.280826  "
      ]
     },
     "execution_count": 7,
     "metadata": {},
     "output_type": "execute_result"
    }
   ],
   "source": [
    "df.head(1)"
   ]
  },
  {
   "cell_type": "code",
   "execution_count": 8,
   "id": "03b71a09-e2ba-4050-8de1-43bf90a0d264",
   "metadata": {},
   "outputs": [
    {
     "data": {
      "text/plain": [
       "(3002458, 10)"
      ]
     },
     "execution_count": 8,
     "metadata": {},
     "output_type": "execute_result"
    }
   ],
   "source": [
    "df.shape"
   ]
  },
  {
   "cell_type": "code",
   "execution_count": 9,
   "id": "57620a18-0dcb-4d2e-844f-d624033902f4",
   "metadata": {},
   "outputs": [
    {
     "data": {
      "text/html": [
       "<div>\n",
       "<style scoped>\n",
       "    .dataframe tbody tr th:only-of-type {\n",
       "        vertical-align: middle;\n",
       "    }\n",
       "\n",
       "    .dataframe tbody tr th {\n",
       "        vertical-align: top;\n",
       "    }\n",
       "\n",
       "    .dataframe thead th {\n",
       "        text-align: right;\n",
       "    }\n",
       "</style>\n",
       "<table border=\"1\" class=\"dataframe\">\n",
       "  <thead>\n",
       "    <tr style=\"text-align: right;\">\n",
       "      <th></th>\n",
       "      <th>CASE_STATUS</th>\n",
       "      <th>EMPLOYER_NAME</th>\n",
       "      <th>SOC_NAME</th>\n",
       "      <th>JOB_TITLE</th>\n",
       "      <th>FULL_TIME_POSITION</th>\n",
       "      <th>PREVAILING_WAGE</th>\n",
       "      <th>YEAR</th>\n",
       "      <th>WORKSITE</th>\n",
       "      <th>lon</th>\n",
       "      <th>lat</th>\n",
       "    </tr>\n",
       "  </thead>\n",
       "  <tbody>\n",
       "    <tr>\n",
       "      <th>0</th>\n",
       "      <td>CERTIFIED-WITHDRAWN</td>\n",
       "      <td>UNIVERSITY OF MICHIGAN</td>\n",
       "      <td>BIOCHEMISTS AND BIOPHYSICISTS</td>\n",
       "      <td>POSTDOCTORAL RESEARCH FELLOW</td>\n",
       "      <td>N</td>\n",
       "      <td>36067.0</td>\n",
       "      <td>2016.0</td>\n",
       "      <td>ANN ARBOR, MICHIGAN</td>\n",
       "      <td>-83.743038</td>\n",
       "      <td>42.280826</td>\n",
       "    </tr>\n",
       "  </tbody>\n",
       "</table>\n",
       "</div>"
      ],
      "text/plain": [
       "           CASE_STATUS           EMPLOYER_NAME                       SOC_NAME  \\\n",
       "0  CERTIFIED-WITHDRAWN  UNIVERSITY OF MICHIGAN  BIOCHEMISTS AND BIOPHYSICISTS   \n",
       "\n",
       "                      JOB_TITLE FULL_TIME_POSITION  PREVAILING_WAGE    YEAR  \\\n",
       "0  POSTDOCTORAL RESEARCH FELLOW                  N          36067.0  2016.0   \n",
       "\n",
       "              WORKSITE        lon        lat  \n",
       "0  ANN ARBOR, MICHIGAN -83.743038  42.280826  "
      ]
     },
     "execution_count": 9,
     "metadata": {},
     "output_type": "execute_result"
    }
   ],
   "source": [
    "df.dropna(inplace = True)\n",
    "df.head(1)"
   ]
  },
  {
   "cell_type": "code",
   "execution_count": 10,
   "id": "c1a06fed-6336-4fcd-bd34-1d0fa9a49daa",
   "metadata": {},
   "outputs": [
    {
     "data": {
      "text/plain": [
       "(2877765, 10)"
      ]
     },
     "execution_count": 10,
     "metadata": {},
     "output_type": "execute_result"
    }
   ],
   "source": [
    "df.shape"
   ]
  },
  {
   "cell_type": "code",
   "execution_count": 12,
   "id": "02c5c8e3-7eaf-4e14-b0b4-a39b210eb3b5",
   "metadata": {},
   "outputs": [
    {
     "data": {
      "text/plain": [
       "EMPLOYER_NAME\n",
       "INFOSYS LIMITED                                    130257\n",
       "TATA CONSULTANCY SERVICES LIMITED                   64273\n",
       "WIPRO LIMITED                                       45673\n",
       "DELOITTE CONSULTING LLP                             35999\n",
       "IBM INDIA PRIVATE LIMITED                           33585\n",
       "ACCENTURE LLP                                       33226\n",
       "MICROSOFT CORPORATION                               25551\n",
       "HCL AMERICA, INC.                                   22488\n",
       "ERNST & YOUNG U.S. LLP                              18094\n",
       "COGNIZANT TECHNOLOGY SOLUTIONS U.S. CORPORATION     17322\n",
       "Name: count, dtype: int64"
      ]
     },
     "execution_count": 12,
     "metadata": {},
     "output_type": "execute_result"
    }
   ],
   "source": [
    "df['EMPLOYER_NAME'].value_counts().head(10)"
   ]
  },
  {
   "cell_type": "code",
   "execution_count": 14,
   "id": "87ce6cc0-c30d-466e-ac56-87087d044c26",
   "metadata": {},
   "outputs": [
    {
     "data": {
      "text/plain": [
       "<Axes: xlabel='EMPLOYER_NAME'>"
      ]
     },
     "execution_count": 14,
     "metadata": {},
     "output_type": "execute_result"
    },
    {
     "data": {
      "image/png": "[encoded data removed]",
      "text/plain": [
       "<Figure size 400x500 with 1 Axes>"
      ]
     },
     "metadata": {},
     "output_type": "display_data"
    }
   ],
   "source": [
    "colors = ['red', 'blue', 'green', 'orange', 'black']\n",
    "df['EMPLOYER_NAME'].value_counts().head(10).plot(kind = 'bar',color = colors,figsize = (4,5),legend = False)"
   ]
  },
  {
   "cell_type": "code",
   "execution_count": 15,
   "id": "bad124ee-c586-48e5-a75a-5e8d9cf71c79",
   "metadata": {},
   "outputs": [
    {
     "data": {
      "text/plain": [
       "PREVAILING_WAGE\n",
       "60000.0    10185\n",
       "55245.0     6745\n",
       "62566.0     6480\n",
       "58053.0     5683\n",
       "52499.0     5492\n",
       "51730.0     5407\n",
       "63877.0     5377\n",
       "65042.0     5276\n",
       "55370.0     4961\n",
       "67808.0     4646\n",
       "67621.0     4603\n",
       "60133.0     4505\n",
       "63086.0     4414\n",
       "73923.0     4401\n",
       "66602.0     4105\n",
       "Name: count, dtype: int64"
      ]
     },
     "execution_count": 15,
     "metadata": {},
     "output_type": "execute_result"
    }
   ],
   "source": [
    "df['PREVAILING_WAGE'].value_counts().head(15)"
   ]
  },
  {
   "cell_type": "code",
   "execution_count": 16,
   "id": "6352635f-2e42-4cde-82ac-f48fe6afa089",
   "metadata": {},
   "outputs": [
    {
     "data": {
      "text/plain": [
       "145166.64888401062"
      ]
     },
     "execution_count": 16,
     "metadata": {},
     "output_type": "execute_result"
    }
   ],
   "source": [
    "df['PREVAILING_WAGE'].mean()"
   ]
  },
  {
   "cell_type": "code",
   "execution_count": 19,
   "id": "9c888afb-c310-4e6a-905a-82b397dabb01",
   "metadata": {},
   "outputs": [
    {
     "data": {
      "text/plain": [
       "Index(['CASE_STATUS', 'EMPLOYER_NAME', 'SOC_NAME', 'JOB_TITLE',\n",
       "       'FULL_TIME_POSITION', 'PREVAILING_WAGE', 'YEAR', 'WORKSITE', 'lon',\n",
       "       'lat'],\n",
       "      dtype='object')"
      ]
     },
     "execution_count": 19,
     "metadata": {},
     "output_type": "execute_result"
    }
   ],
   "source": [
    "df.columns"
   ]
  },
  {
   "cell_type": "code",
   "execution_count": 20,
   "id": "4d956deb-1870-45a1-a29c-10638ab2ac0e",
   "metadata": {},
   "outputs": [
    {
     "data": {
      "text/html": [
       "<div>\n",
       "<style scoped>\n",
       "    .dataframe tbody tr th:only-of-type {\n",
       "        vertical-align: middle;\n",
       "    }\n",
       "\n",
       "    .dataframe tbody tr th {\n",
       "        vertical-align: top;\n",
       "    }\n",
       "\n",
       "    .dataframe thead th {\n",
       "        text-align: right;\n",
       "    }\n",
       "</style>\n",
       "<table border=\"1\" class=\"dataframe\">\n",
       "  <thead>\n",
       "    <tr style=\"text-align: right;\">\n",
       "      <th></th>\n",
       "      <th>CASE_STATUS</th>\n",
       "      <th>EMPLOYER_NAME</th>\n",
       "      <th>SOC_NAME</th>\n",
       "      <th>JOB_TITLE</th>\n",
       "      <th>FULL_TIME_POSITION</th>\n",
       "      <th>PREVAILING_WAGE</th>\n",
       "      <th>YEAR</th>\n",
       "      <th>WORKSITE</th>\n",
       "      <th>lon</th>\n",
       "      <th>lat</th>\n",
       "    </tr>\n",
       "  </thead>\n",
       "  <tbody>\n",
       "    <tr>\n",
       "      <th>0</th>\n",
       "      <td>CERTIFIED-WITHDRAWN</td>\n",
       "      <td>UNIVERSITY OF MICHIGAN</td>\n",
       "      <td>BIOCHEMISTS AND BIOPHYSICISTS</td>\n",
       "      <td>POSTDOCTORAL RESEARCH FELLOW</td>\n",
       "      <td>N</td>\n",
       "      <td>36067.0</td>\n",
       "      <td>2016.0</td>\n",
       "      <td>ANN ARBOR, MICHIGAN</td>\n",
       "      <td>-83.743038</td>\n",
       "      <td>42.280826</td>\n",
       "    </tr>\n",
       "    <tr>\n",
       "      <th>1</th>\n",
       "      <td>CERTIFIED-WITHDRAWN</td>\n",
       "      <td>GOODMAN NETWORKS, INC.</td>\n",
       "      <td>CHIEF EXECUTIVES</td>\n",
       "      <td>CHIEF OPERATING OFFICER</td>\n",
       "      <td>Y</td>\n",
       "      <td>242674.0</td>\n",
       "      <td>2016.0</td>\n",
       "      <td>PLANO, TEXAS</td>\n",
       "      <td>-96.698886</td>\n",
       "      <td>33.019843</td>\n",
       "    </tr>\n",
       "  </tbody>\n",
       "</table>\n",
       "</div>"
      ],
      "text/plain": [
       "           CASE_STATUS           EMPLOYER_NAME                       SOC_NAME  \\\n",
       "0  CERTIFIED-WITHDRAWN  UNIVERSITY OF MICHIGAN  BIOCHEMISTS AND BIOPHYSICISTS   \n",
       "1  CERTIFIED-WITHDRAWN  GOODMAN NETWORKS, INC.               CHIEF EXECUTIVES   \n",
       "\n",
       "                      JOB_TITLE FULL_TIME_POSITION  PREVAILING_WAGE    YEAR  \\\n",
       "0  POSTDOCTORAL RESEARCH FELLOW                  N          36067.0  2016.0   \n",
       "1       CHIEF OPERATING OFFICER                  Y         242674.0  2016.0   \n",
       "\n",
       "              WORKSITE        lon        lat  \n",
       "0  ANN ARBOR, MICHIGAN -83.743038  42.280826  \n",
       "1         PLANO, TEXAS -96.698886  33.019843  "
      ]
     },
     "execution_count": 20,
     "metadata": {},
     "output_type": "execute_result"
    }
   ],
   "source": [
    "df.head(2)"
   ]
  },
  {
   "cell_type": "code",
   "execution_count": 24,
   "id": "1b068da4-6a26-45ca-bf1b-da6203e76a1f",
   "metadata": {},
   "outputs": [
    {
     "data": {
      "text/plain": [
       "WORKSITE\n",
       "NEW YORK, NEW YORK           190863\n",
       "HOUSTON, TEXAS                83385\n",
       "SAN FRANCISCO, CALIFORNIA     62457\n",
       "ATLANTA, GEORGIA              52008\n",
       "CHICAGO, ILLINOIS             51167\n",
       "SAN JOSE, CALIFORNIA          49582\n",
       "SUNNYVALE, CALIFORNIA         34968\n",
       "DALLAS, TEXAS                 31509\n",
       "BOSTON, MASSACHUSETTS         31336\n",
       "REDMOND, WASHINGTON           30574\n",
       "Name: count, dtype: int64"
      ]
     },
     "execution_count": 24,
     "metadata": {},
     "output_type": "execute_result"
    }
   ],
   "source": [
    "df['WORKSITE'].value_counts().head(10)"
   ]
  },
  {
   "cell_type": "code",
   "execution_count": 29,
   "id": "bb9d13de-fed2-4a6b-a14c-56f45ce86682",
   "metadata": {},
   "outputs": [
    {
     "data": {
      "text/plain": [
       "<Axes: title={'center': 'New Worksie Comp.'}, xlabel='WORKSITE'>"
      ]
     },
     "execution_count": 29,
     "metadata": {},
     "output_type": "execute_result"
    },
    {
     "data": {
      "image/png": "[encoded data removed]",
      "text/plain": [
       "<Figure size 400x500 with 1 Axes>"
      ]
     },
     "metadata": {},
     "output_type": "display_data"
    }
   ],
   "source": [
    "df['WORKSITE'].value_counts().head(10).plot(kind = \"bar\",figsize = (4,5),color = colors,legend = False,title = \"New Worksie Comp.\")"
   ]
  },
  {
   "cell_type": "code",
   "execution_count": 30,
   "id": "2d210f98-92c6-4bfa-a8e7-6ccaf4198474",
   "metadata": {},
   "outputs": [],
   "source": [
    "df['WORKSITE']=df['WORKSITE'].apply(lambda x: x.split(',')[1].strip())\n"
   ]
  },
  {
   "cell_type": "code",
   "execution_count": 31,
   "id": "1c56b217-6a93-4c57-b577-868ac19b3a6b",
   "metadata": {},
   "outputs": [
    {
     "data": {
      "text/plain": [
       "WORKSITE\n",
       "CALIFORNIA              548539\n",
       "TEXAS                   286704\n",
       "NEW YORK                282429\n",
       "NEW JERSEY              206876\n",
       "ILLINOIS                154843\n",
       "MASSACHUSETTS           112659\n",
       "PENNSYLVANIA            103729\n",
       "WASHINGTON              100754\n",
       "FLORIDA                 100384\n",
       "GEORGIA                  99679\n",
       "VIRGINIA                 86948\n",
       "MICHIGAN                 77868\n",
       "NORTH CAROLINA           75701\n",
       "OHIO                     71765\n",
       "MARYLAND                 53145\n",
       "CONNECTICUT              48174\n",
       "MINNESOTA                45864\n",
       "ARIZONA                  40184\n",
       "MISSOURI                 32737\n",
       "WISCONSIN                30485\n",
       "COLORADO                 30231\n",
       "INDIANA                  28230\n",
       "TENNESSEE                25906\n",
       "OREGON                   22759\n",
       "DISTRICT OF COLUMBIA     22408\n",
       "DELAWARE                 17705\n",
       "IOWA                     15143\n",
       "ARKANSAS                 13775\n",
       "KANSAS                   12331\n",
       "UTAH                     12162\n",
       "RHODE ISLAND             11316\n",
       "SOUTH CAROLINA           11246\n",
       "KENTUCKY                 10968\n",
       "LOUISIANA                10043\n",
       "OKLAHOMA                  9437\n",
       "NEW HAMPSHIRE             9069\n",
       "ALABAMA                   8644\n",
       "NEBRASKA                  8600\n",
       "NEVADA                    7004\n",
       "NEW MEXICO                4655\n",
       "IDAHO                     3777\n",
       "HAWAII                    3157\n",
       "MAINE                     3132\n",
       "NA                        3069\n",
       "MISSISSIPPI               2686\n",
       "NORTH DAKOTA              2510\n",
       "WEST VIRGINIA             2121\n",
       "SOUTH DAKOTA              1582\n",
       "VERMONT                   1248\n",
       "ALASKA                    1116\n",
       "PUERTO RICO                931\n",
       "WYOMING                    693\n",
       "MONTANA                    644\n",
       "Name: count, dtype: int64"
      ]
     },
     "execution_count": 31,
     "metadata": {},
     "output_type": "execute_result"
    }
   ],
   "source": [
    "df['WORKSITE'].value_counts()"
   ]
  },
  {
   "cell_type": "code",
   "execution_count": 32,
   "id": "a1cd6b54-275d-49fc-ad34-f1685d363e35",
   "metadata": {},
   "outputs": [
    {
     "data": {
      "text/html": [
       "<div>\n",
       "<style scoped>\n",
       "    .dataframe tbody tr th:only-of-type {\n",
       "        vertical-align: middle;\n",
       "    }\n",
       "\n",
       "    .dataframe tbody tr th {\n",
       "        vertical-align: top;\n",
       "    }\n",
       "\n",
       "    .dataframe thead th {\n",
       "        text-align: right;\n",
       "    }\n",
       "</style>\n",
       "<table border=\"1\" class=\"dataframe\">\n",
       "  <thead>\n",
       "    <tr style=\"text-align: right;\">\n",
       "      <th></th>\n",
       "      <th>CASE_STATUS</th>\n",
       "      <th>EMPLOYER_NAME</th>\n",
       "      <th>SOC_NAME</th>\n",
       "      <th>JOB_TITLE</th>\n",
       "      <th>FULL_TIME_POSITION</th>\n",
       "      <th>PREVAILING_WAGE</th>\n",
       "      <th>YEAR</th>\n",
       "      <th>WORKSITE</th>\n",
       "      <th>lon</th>\n",
       "      <th>lat</th>\n",
       "    </tr>\n",
       "  </thead>\n",
       "  <tbody>\n",
       "    <tr>\n",
       "      <th>0</th>\n",
       "      <td>CERTIFIED-WITHDRAWN</td>\n",
       "      <td>UNIVERSITY OF MICHIGAN</td>\n",
       "      <td>BIOCHEMISTS AND BIOPHYSICISTS</td>\n",
       "      <td>POSTDOCTORAL RESEARCH FELLOW</td>\n",
       "      <td>N</td>\n",
       "      <td>36067.0</td>\n",
       "      <td>2016.0</td>\n",
       "      <td>MICHIGAN</td>\n",
       "      <td>-83.743038</td>\n",
       "      <td>42.280826</td>\n",
       "    </tr>\n",
       "    <tr>\n",
       "      <th>1</th>\n",
       "      <td>CERTIFIED-WITHDRAWN</td>\n",
       "      <td>GOODMAN NETWORKS, INC.</td>\n",
       "      <td>CHIEF EXECUTIVES</td>\n",
       "      <td>CHIEF OPERATING OFFICER</td>\n",
       "      <td>Y</td>\n",
       "      <td>242674.0</td>\n",
       "      <td>2016.0</td>\n",
       "      <td>TEXAS</td>\n",
       "      <td>-96.698886</td>\n",
       "      <td>33.019843</td>\n",
       "    </tr>\n",
       "    <tr>\n",
       "      <th>2</th>\n",
       "      <td>CERTIFIED-WITHDRAWN</td>\n",
       "      <td>PORTS AMERICA GROUP, INC.</td>\n",
       "      <td>CHIEF EXECUTIVES</td>\n",
       "      <td>CHIEF PROCESS OFFICER</td>\n",
       "      <td>Y</td>\n",
       "      <td>193066.0</td>\n",
       "      <td>2016.0</td>\n",
       "      <td>NEW JERSEY</td>\n",
       "      <td>-74.077642</td>\n",
       "      <td>40.728158</td>\n",
       "    </tr>\n",
       "    <tr>\n",
       "      <th>3</th>\n",
       "      <td>CERTIFIED-WITHDRAWN</td>\n",
       "      <td>GATES CORPORATION, A WHOLLY-OWNED SUBSIDIARY O...</td>\n",
       "      <td>CHIEF EXECUTIVES</td>\n",
       "      <td>REGIONAL PRESIDEN, AMERICAS</td>\n",
       "      <td>Y</td>\n",
       "      <td>220314.0</td>\n",
       "      <td>2016.0</td>\n",
       "      <td>COLORADO</td>\n",
       "      <td>-104.990251</td>\n",
       "      <td>39.739236</td>\n",
       "    </tr>\n",
       "    <tr>\n",
       "      <th>4</th>\n",
       "      <td>WITHDRAWN</td>\n",
       "      <td>PEABODY INVESTMENTS CORP.</td>\n",
       "      <td>CHIEF EXECUTIVES</td>\n",
       "      <td>PRESIDENT MONGOLIA AND INDIA</td>\n",
       "      <td>Y</td>\n",
       "      <td>157518.4</td>\n",
       "      <td>2016.0</td>\n",
       "      <td>MISSOURI</td>\n",
       "      <td>-90.199404</td>\n",
       "      <td>38.627003</td>\n",
       "    </tr>\n",
       "    <tr>\n",
       "      <th>5</th>\n",
       "      <td>CERTIFIED-WITHDRAWN</td>\n",
       "      <td>BURGER KING CORPORATION</td>\n",
       "      <td>CHIEF EXECUTIVES</td>\n",
       "      <td>EXECUTIVE V P, GLOBAL DEVELOPMENT AND PRESIDEN...</td>\n",
       "      <td>Y</td>\n",
       "      <td>225000.0</td>\n",
       "      <td>2016.0</td>\n",
       "      <td>FLORIDA</td>\n",
       "      <td>-80.191790</td>\n",
       "      <td>25.761680</td>\n",
       "    </tr>\n",
       "  </tbody>\n",
       "</table>\n",
       "</div>"
      ],
      "text/plain": [
       "           CASE_STATUS                                      EMPLOYER_NAME  \\\n",
       "0  CERTIFIED-WITHDRAWN                             UNIVERSITY OF MICHIGAN   \n",
       "1  CERTIFIED-WITHDRAWN                             GOODMAN NETWORKS, INC.   \n",
       "2  CERTIFIED-WITHDRAWN                          PORTS AMERICA GROUP, INC.   \n",
       "3  CERTIFIED-WITHDRAWN  GATES CORPORATION, A WHOLLY-OWNED SUBSIDIARY O...   \n",
       "4            WITHDRAWN                          PEABODY INVESTMENTS CORP.   \n",
       "5  CERTIFIED-WITHDRAWN                            BURGER KING CORPORATION   \n",
       "\n",
       "                        SOC_NAME  \\\n",
       "0  BIOCHEMISTS AND BIOPHYSICISTS   \n",
       "1               CHIEF EXECUTIVES   \n",
       "2               CHIEF EXECUTIVES   \n",
       "3               CHIEF EXECUTIVES   \n",
       "4               CHIEF EXECUTIVES   \n",
       "5               CHIEF EXECUTIVES   \n",
       "\n",
       "                                           JOB_TITLE FULL_TIME_POSITION  \\\n",
       "0                       POSTDOCTORAL RESEARCH FELLOW                  N   \n",
       "1                            CHIEF OPERATING OFFICER                  Y   \n",
       "2                              CHIEF PROCESS OFFICER                  Y   \n",
       "3                        REGIONAL PRESIDEN, AMERICAS                  Y   \n",
       "4                       PRESIDENT MONGOLIA AND INDIA                  Y   \n",
       "5  EXECUTIVE V P, GLOBAL DEVELOPMENT AND PRESIDEN...                  Y   \n",
       "\n",
       "   PREVAILING_WAGE    YEAR    WORKSITE         lon        lat  \n",
       "0          36067.0  2016.0    MICHIGAN  -83.743038  42.280826  \n",
       "1         242674.0  2016.0       TEXAS  -96.698886  33.019843  \n",
       "2         193066.0  2016.0  NEW JERSEY  -74.077642  40.728158  \n",
       "3         220314.0  2016.0    COLORADO -104.990251  39.739236  \n",
       "4         157518.4  2016.0    MISSOURI  -90.199404  38.627003  \n",
       "5         225000.0  2016.0     FLORIDA  -80.191790  25.761680  "
      ]
     },
     "execution_count": 32,
     "metadata": {},
     "output_type": "execute_result"
    }
   ],
   "source": [
    "df.head(6)"
   ]
  },
  {
   "cell_type": "code",
   "execution_count": 33,
   "id": "c65ea95f-f7ff-4081-bbba-a7f9fc15ad03",
   "metadata": {},
   "outputs": [],
   "source": [
    "df['WORKSITE'].fillna(\"MARIANA ISLANDS\",inplace = True)"
   ]
  },
  {
   "cell_type": "code",
   "execution_count": 36,
   "id": "7642ef6b-17bc-4b6b-84eb-669a4c8e6d73",
   "metadata": {},
   "outputs": [
    {
     "data": {
      "text/html": [
       "<div>\n",
       "<style scoped>\n",
       "    .dataframe tbody tr th:only-of-type {\n",
       "        vertical-align: middle;\n",
       "    }\n",
       "\n",
       "    .dataframe tbody tr th {\n",
       "        vertical-align: top;\n",
       "    }\n",
       "\n",
       "    .dataframe thead th {\n",
       "        text-align: right;\n",
       "    }\n",
       "</style>\n",
       "<table border=\"1\" class=\"dataframe\">\n",
       "  <thead>\n",
       "    <tr style=\"text-align: right;\">\n",
       "      <th></th>\n",
       "      <th>CASE_STATUS</th>\n",
       "      <th>EMPLOYER_NAME</th>\n",
       "      <th>SOC_NAME</th>\n",
       "      <th>JOB_TITLE</th>\n",
       "      <th>FULL_TIME_POSITION</th>\n",
       "      <th>PREVAILING_WAGE</th>\n",
       "      <th>YEAR</th>\n",
       "      <th>WORKSITE</th>\n",
       "      <th>lon</th>\n",
       "      <th>lat</th>\n",
       "    </tr>\n",
       "  </thead>\n",
       "  <tbody>\n",
       "    <tr>\n",
       "      <th>0</th>\n",
       "      <td>CERTIFIED-WITHDRAWN</td>\n",
       "      <td>UNIVERSITY OF MICHIGAN</td>\n",
       "      <td>BIOCHEMISTS AND BIOPHYSICISTS</td>\n",
       "      <td>POSTDOCTORAL RESEARCH FELLOW</td>\n",
       "      <td>N</td>\n",
       "      <td>36067.0</td>\n",
       "      <td>2016.0</td>\n",
       "      <td>MICHIGAN</td>\n",
       "      <td>-83.743038</td>\n",
       "      <td>42.280826</td>\n",
       "    </tr>\n",
       "    <tr>\n",
       "      <th>1</th>\n",
       "      <td>CERTIFIED-WITHDRAWN</td>\n",
       "      <td>GOODMAN NETWORKS, INC.</td>\n",
       "      <td>CHIEF EXECUTIVES</td>\n",
       "      <td>CHIEF OPERATING OFFICER</td>\n",
       "      <td>Y</td>\n",
       "      <td>242674.0</td>\n",
       "      <td>2016.0</td>\n",
       "      <td>TEXAS</td>\n",
       "      <td>-96.698886</td>\n",
       "      <td>33.019843</td>\n",
       "    </tr>\n",
       "  </tbody>\n",
       "</table>\n",
       "</div>"
      ],
      "text/plain": [
       "           CASE_STATUS           EMPLOYER_NAME                       SOC_NAME  \\\n",
       "0  CERTIFIED-WITHDRAWN  UNIVERSITY OF MICHIGAN  BIOCHEMISTS AND BIOPHYSICISTS   \n",
       "1  CERTIFIED-WITHDRAWN  GOODMAN NETWORKS, INC.               CHIEF EXECUTIVES   \n",
       "\n",
       "                      JOB_TITLE FULL_TIME_POSITION  PREVAILING_WAGE    YEAR  \\\n",
       "0  POSTDOCTORAL RESEARCH FELLOW                  N          36067.0  2016.0   \n",
       "1       CHIEF OPERATING OFFICER                  Y         242674.0  2016.0   \n",
       "\n",
       "   WORKSITE        lon        lat  \n",
       "0  MICHIGAN -83.743038  42.280826  \n",
       "1     TEXAS -96.698886  33.019843  "
      ]
     },
     "execution_count": 36,
     "metadata": {},
     "output_type": "execute_result"
    }
   ],
   "source": [
    "df.head(2)"
   ]
  },
  {
   "cell_type": "code",
   "execution_count": 42,
   "id": "3ca09510-df76-400b-86b6-00c28edf9c0a",
   "metadata": {},
   "outputs": [],
   "source": [
    "df = df.rename(columns={'EMPLOYER_NAME':'EMPLOYER','FULL_TIME_POSITION':'FULL_T','PREVAILING_WAGE':'PREV_WAGE','WORKSITE':'STATE','lon':'LON','lat':'LAT'})"
   ]
  },
  {
   "cell_type": "code",
   "execution_count": 45,
   "id": "a0639102-83d4-48ea-a263-ce726760ee74",
   "metadata": {},
   "outputs": [
    {
     "data": {
      "text/plain": [
       "Index(['CASE_STATUS', 'EMPLOYER', 'SOC_NAME', 'JOB_TITLE', 'FULL_T',\n",
       "       'PREV_WAGE', 'YEAR', 'STATE', 'LON', 'LAT'],\n",
       "      dtype='object')"
      ]
     },
     "execution_count": 45,
     "metadata": {},
     "output_type": "execute_result"
    }
   ],
   "source": [
    "df.columns"
   ]
  },
  {
   "cell_type": "code",
   "execution_count": 48,
   "id": "a2d90adb-b815-47fd-8a70-d1fa7cee494c",
   "metadata": {},
   "outputs": [],
   "source": [
    "df['LON']=df['LON'].round(2)\n"
   ]
  },
  {
   "cell_type": "code",
   "execution_count": 49,
   "id": "b76b2678-a4fb-4e14-8f95-74e13564fecc",
   "metadata": {},
   "outputs": [],
   "source": [
    "df['LAT']=df['LAT'].round(2)"
   ]
  },
  {
   "cell_type": "code",
   "execution_count": 50,
   "id": "e043a088-db1f-4d12-a1b8-e538ca344193",
   "metadata": {},
   "outputs": [],
   "source": [
    "df['YEAR'] = df['YEAR'].astype(str)"
   ]
  },
  {
   "cell_type": "code",
   "execution_count": 51,
   "id": "59a0a457-55e0-40e6-9433-4c45a337b414",
   "metadata": {},
   "outputs": [],
   "source": [
    "df['PREV_WAGE']= df['PREV_WAGE'].astype(int)"
   ]
  },
  {
   "cell_type": "code",
   "execution_count": 54,
   "id": "f361200f-e250-4a7f-89a2-b8c75e93c2d3",
   "metadata": {},
   "outputs": [
    {
     "data": {
      "text/html": [
       "<div>\n",
       "<style scoped>\n",
       "    .dataframe tbody tr th:only-of-type {\n",
       "        vertical-align: middle;\n",
       "    }\n",
       "\n",
       "    .dataframe tbody tr th {\n",
       "        vertical-align: top;\n",
       "    }\n",
       "\n",
       "    .dataframe thead th {\n",
       "        text-align: right;\n",
       "    }\n",
       "</style>\n",
       "<table border=\"1\" class=\"dataframe\">\n",
       "  <thead>\n",
       "    <tr style=\"text-align: right;\">\n",
       "      <th></th>\n",
       "      <th>CASE_STATUS</th>\n",
       "      <th>EMPLOYER</th>\n",
       "      <th>SOC_NAME</th>\n",
       "      <th>JOB_TITLE</th>\n",
       "      <th>FULL_T</th>\n",
       "      <th>PREV_WAGE</th>\n",
       "      <th>YEAR</th>\n",
       "      <th>STATE</th>\n",
       "      <th>LON</th>\n",
       "      <th>LAT</th>\n",
       "    </tr>\n",
       "  </thead>\n",
       "  <tbody>\n",
       "    <tr>\n",
       "      <th>0</th>\n",
       "      <td>CERTIFIED-WITHDRAWN</td>\n",
       "      <td>UNIVERSITY OF MICHIGAN</td>\n",
       "      <td>BIOCHEMISTS AND BIOPHYSICISTS</td>\n",
       "      <td>POSTDOCTORAL RESEARCH FELLOW</td>\n",
       "      <td>N</td>\n",
       "      <td>36067</td>\n",
       "      <td>2016.0</td>\n",
       "      <td>MICHIGAN</td>\n",
       "      <td>-83.74</td>\n",
       "      <td>42.28</td>\n",
       "    </tr>\n",
       "    <tr>\n",
       "      <th>1</th>\n",
       "      <td>CERTIFIED-WITHDRAWN</td>\n",
       "      <td>GOODMAN NETWORKS, INC.</td>\n",
       "      <td>CHIEF EXECUTIVES</td>\n",
       "      <td>CHIEF OPERATING OFFICER</td>\n",
       "      <td>Y</td>\n",
       "      <td>242674</td>\n",
       "      <td>2016.0</td>\n",
       "      <td>TEXAS</td>\n",
       "      <td>-96.70</td>\n",
       "      <td>33.02</td>\n",
       "    </tr>\n",
       "  </tbody>\n",
       "</table>\n",
       "</div>"
      ],
      "text/plain": [
       "           CASE_STATUS                EMPLOYER                       SOC_NAME  \\\n",
       "0  CERTIFIED-WITHDRAWN  UNIVERSITY OF MICHIGAN  BIOCHEMISTS AND BIOPHYSICISTS   \n",
       "1  CERTIFIED-WITHDRAWN  GOODMAN NETWORKS, INC.               CHIEF EXECUTIVES   \n",
       "\n",
       "                      JOB_TITLE FULL_T  PREV_WAGE    YEAR     STATE    LON  \\\n",
       "0  POSTDOCTORAL RESEARCH FELLOW      N      36067  2016.0  MICHIGAN -83.74   \n",
       "1       CHIEF OPERATING OFFICER      Y     242674  2016.0     TEXAS -96.70   \n",
       "\n",
       "     LAT  \n",
       "0  42.28  \n",
       "1  33.02  "
      ]
     },
     "execution_count": 54,
     "metadata": {},
     "output_type": "execute_result"
    }
   ],
   "source": [
    "df.head(2)"
   ]
  },
  {
   "cell_type": "code",
   "execution_count": 58,
   "id": "761e1eff-35c3-49df-b865-9f63e7ebf8e5",
   "metadata": {},
   "outputs": [
    {
     "data": {
      "text/plain": [
       "array([2512114,  195721,   85161,   84752,      15,       1], dtype=int64)"
      ]
     },
     "execution_count": 58,
     "metadata": {},
     "output_type": "execute_result"
    }
   ],
   "source": [
    "    df['CASE_STATUS'].value_counts().unique()"
   ]
  },
  {
   "cell_type": "code",
   "execution_count": null,
   "id": "b5e3a540-4409-4f0b-9ec7-2120f61fc21d",
   "metadata": {},
   "outputs": [],
   "source": [
    "df['']"
   ]
  }
 ],
 "metadata": {
  "kernelspec": {
   "display_name": "Python 3 (ipykernel)",
   "language": "python",
   "name": "python3"
  },
  "language_info": {
   "codemirror_mode": {
    "name": "ipython",
    "version": 3
   },
   "file_extension": ".py",
   "mimetype": "text/x-python",
   "name": "python",
   "nbconvert_exporter": "python",
   "pygments_lexer": "ipython3",
   "version": "3.11.7"
  }
 },
 "nbformat": 4,
 "nbformat_minor": 5
}
