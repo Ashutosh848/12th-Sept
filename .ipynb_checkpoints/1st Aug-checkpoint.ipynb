{
 "cells": [
  {
   "cell_type": "code",
   "execution_count": null,
   "id": "abe2694b-ff50-480d-be5f-8109f689c278",
   "metadata": {},
   "outputs": [],
   "source": [
    "from bs4 import BeautifulSoup\n",
    "import pandas as pd\n",
    "import requests\n",
    "\n",
    "url=\"https://www.worldometers.info/world-population/\"\n",
    "\n",
    "\n",
    "head = ({'User-Agent':'Mozilla/5.0 (Windows NT 10.0; Win64; x64) AppleWebKit/537.36 (KHTML, like Gecko) Chrome/127.0.0.0 Safari/537.36'})\n",
    "\n",
    "web = requests.get(url,headers = head)\n",
    "\n",
    "\n",
    "web\n",
    "\n",
    "soup = BeautifulSoup(web.content,\"html.parser\")\n",
    "\n",
    "soup\n",
    "\n",
    "link = soup.find_all(\"table\",attrs={'class':'table table-striped table-bordered table-hover table-condensed table-list'})\n",
    "\n",
    "link[0]\n",
    "\n",
    "a = link\n",
    "\n",
    "df = pd.read_html(str(link))\n",
    "\n",
    "df\n",
    "\n",
    "file = df[0]\n",
    "\n",
    "file\n",
    "\n",
    "n = int(input(\"Enter a number:\"))\n",
    "s = []\n",
    "\n",
    "for i in range(n):\n",
    "    val = int(input(\"Enter a value:\"))\n",
    "    s.append(val)\n",
    "print(s)\n",
    "max = s[0]\n",
    "min = s[0]\n",
    "sum = 0\n",
    "\n",
    "print(\"The length of list is: \",len(s))\n",
    "for i in range(n):\n",
    "    sum = sum + s[i]\n",
    "print(f\"The sum is: {sum} \")\n",
    "for i in range(n):\n",
    "    if(s[i]>max):\n",
    "        max = s[i]\n",
    "print(f\"The Max item in this list is: {max} \")\n",
    "\n",
    "for i in range(n):\n",
    "    if(s[i]<min):\n",
    "        min = s[i]\n",
    "print(f\"The minimum item in this list is: {min} \")\n",
    "\n",
    "n = int(input(\"Enter a val\"))\n",
    "t_tup = (1,2,34,83,23)\n",
    "temp = list(t_tup)\n",
    "for i in range(n):\n",
    "    val = int(input(\"Enter a value\"))\n",
    "    temp.append(val)\n",
    "    temp.sort()\n",
    "print(temp)\n",
    "\n",
    "new= tuple(temp)\n",
    "new\n",
    "\n",
    "\n",
    "\n",
    "\n",
    "\n",
    "\n"
   ]
  },
  {
   "cell_type": "code",
   "execution_count": 4,
   "id": "fdf40084-1568-469b-ab0f-48147f08bee7",
   "metadata": {},
   "outputs": [
    {
     "name": "stdin",
     "output_type": "stream",
     "text": [
      " 1,2,3\n"
     ]
    },
    {
     "ename": "ValueError",
     "evalue": "invalid literal for int() with base 10: '1,2,3'",
     "output_type": "error",
     "traceback": [
      "\u001b[1;31m---------------------------------------------------------------------------\u001b[0m",
      "\u001b[1;31mValueError\u001b[0m                                Traceback (most recent call last)",
      "Cell \u001b[1;32mIn[4], line 1\u001b[0m\n\u001b[1;32m----> 1\u001b[0m a,b,c \u001b[38;5;241m=\u001b[39m \u001b[38;5;28mmap\u001b[39m(\u001b[38;5;28mint\u001b[39m,\u001b[38;5;28minput\u001b[39m()\u001b[38;5;241m.\u001b[39msplit())\n\u001b[0;32m      2\u001b[0m \u001b[38;5;28mprint\u001b[39m(a ,b ,c )\n",
      "\u001b[1;31mValueError\u001b[0m: invalid literal for int() with base 10: '1,2,3'"
     ]
    }
   ],
   "source": [
    "a,b,c = map(int,input().split())\n",
    "print(a ,b ,c )"
   ]
  },
  {
   "cell_type": "code",
   "execution_count": null,
   "id": "90cf1fd5-e7bf-4e46-b6a4-a8b16bf52492",
   "metadata": {},
   "outputs": [],
   "source": []
  }
 ],
 "metadata": {
  "kernelspec": {
   "display_name": "Python 3 (ipykernel)",
   "language": "python",
   "name": "python3"
  },
  "language_info": {
   "codemirror_mode": {
    "name": "ipython",
    "version": 3
   },
   "file_extension": ".py",
   "mimetype": "text/x-python",
   "name": "python",
   "nbconvert_exporter": "python",
   "pygments_lexer": "ipython3",
   "version": "3.11.7"
  }
 },
 "nbformat": 4,
 "nbformat_minor": 5
}
