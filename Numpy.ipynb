{
 "cells": [
  {
   "cell_type": "raw",
   "id": "af392fe7-a703-46d6-8c8b-a21b693a4b3b",
   "metadata": {},
   "source": [
    "#Numpy is a fundamental library of python for numerical and scientific computing. It provides support for large arrays,matrix. Also provides great mathematical,algebric functions used in python.#"
   ]
  },
  {
   "cell_type": "code",
   "execution_count": 40,
   "id": "801cc8f6-4a91-4548-9c97-b547d18c14ae",
   "metadata": {},
   "outputs": [
    {
     "name": "stdout",
     "output_type": "stream",
     "text": [
      "[  1   2   3   4   5   6   7   8   9  10  11  12  13  14  15  16  17  18\n",
      "  19  20  21  22  23  24  25  26  27  28  29  30  31  32  33  34  35  36\n",
      "  37  38  39  40  41  42  43  44  45  46  47  48  49  50  51  52  53  54\n",
      "  55  56  57  58  59  60  61  62  63  64  65  66  67  68  69  70  71  72\n",
      "  73  74  75  76  77  78  79  80  81  82  83  84  85  86  87  88  89  90\n",
      "  91  92  93  94  95  96  97  98  99 100]\n"
     ]
    }
   ],
   "source": [
    "#Importing numpy and using first function [arange()] which passes an array according to the given range.\n",
    "# syntax = np.arange(first value,last value,steps you want to skip(Optional))\n",
    "import numpy as np\n",
    "a = np.arange(1,101)\n",
    "print(a)"
   ]
  },
  {
   "cell_type": "code",
   "execution_count": 41,
   "id": "1465a0c0-8786-4e59-afd3-cabced50d68c",
   "metadata": {},
   "outputs": [
    {
     "name": "stdout",
     "output_type": "stream",
     "text": [
      "[[  1   2   3   4]\n",
      " [  5   6   7   8]\n",
      " [  9  10  11  12]\n",
      " [ 13  14  15  16]\n",
      " [ 17  18  19  20]\n",
      " [ 21  22  23  24]\n",
      " [ 25  26  27  28]\n",
      " [ 29  30  31  32]\n",
      " [ 33  34  35  36]\n",
      " [ 37  38  39  40]\n",
      " [ 41  42  43  44]\n",
      " [ 45  46  47  48]\n",
      " [ 49  50  51  52]\n",
      " [ 53  54  55  56]\n",
      " [ 57  58  59  60]\n",
      " [ 61  62  63  64]\n",
      " [ 65  66  67  68]\n",
      " [ 69  70  71  72]\n",
      " [ 73  74  75  76]\n",
      " [ 77  78  79  80]\n",
      " [ 81  82  83  84]\n",
      " [ 85  86  87  88]\n",
      " [ 89  90  91  92]\n",
      " [ 93  94  95  96]\n",
      " [ 97  98  99 100]]\n"
     ]
    }
   ],
   "source": [
    "# Function[np.reshape()]=> Used for reshaping an array.\n",
    "#syntax = np.reshape(rows,columns)\n",
    "c = a.reshape(25,4)\n",
    "print(c)"
   ]
  },
  {
   "cell_type": "code",
   "execution_count": 42,
   "id": "bc66446a-1aa9-4636-8331-4ff254e0ae2c",
   "metadata": {},
   "outputs": [
    {
     "name": "stdout",
     "output_type": "stream",
     "text": [
      "[[96 87 17 27]\n",
      " [49 28 67 51]\n",
      " [15 15 93 36]\n",
      " [51 25 26 14]\n",
      " [48 28  5 59]\n",
      " [ 2 57 17 91]\n",
      " [56 85 90 62]\n",
      " [28 20 26 51]\n",
      " [15 21 36 87]\n",
      " [57 77  6  2]\n",
      " [68 25  2  7]\n",
      " [ 1 68 94 36]\n",
      " [10 30 38  1]\n",
      " [71 57  2 84]\n",
      " [86  9  8  1]\n",
      " [54 20 16 25]\n",
      " [47 15 24 53]\n",
      " [88 39  3 46]\n",
      " [67 70 82 86]\n",
      " [ 4 19 12 31]\n",
      " [63 60 21 10]\n",
      " [29 16 20 37]\n",
      " [30 86 56 35]\n",
      " [38 14 30  5]\n",
      " [84 72 81 67]]\n"
     ]
    }
   ],
   "source": [
    "# function np.random.randint=> Used for creating an random number array.\n",
    "# syntax => np.random.randint(Starting range,End range, numbers you want(according to need))\n",
    "\n",
    "b = np.random.randint(1,100,100).reshape(25,4)\n",
    "print(b)"
   ]
  },
  {
   "cell_type": "code",
   "execution_count": 43,
   "id": "2b4a6f76-4dc4-4653-b9c0-c6dbdcbb0217",
   "metadata": {},
   "outputs": [
    {
     "name": "stdout",
     "output_type": "stream",
     "text": [
      "[[ 97  89  20  31]\n",
      " [ 54  34  74  59]\n",
      " [ 24  25 104  48]\n",
      " [ 64  39  41  30]\n",
      " [ 65  46  24  79]\n",
      " [ 23  79  40 115]\n",
      " [ 81 111 117  90]\n",
      " [ 57  50  57  83]\n",
      " [ 48  55  71 123]\n",
      " [ 94 115  45  42]\n",
      " [109  67  45  51]\n",
      " [ 46 114 141  84]\n",
      " [ 59  80  89  53]\n",
      " [124 111  57 140]\n",
      " [143  67  67  61]\n",
      " [115  82  79  89]\n",
      " [112  81  91 121]\n",
      " [157 109  74 118]\n",
      " [140 144 157 162]\n",
      " [ 81  97  91 111]\n",
      " [144 142 104  94]\n",
      " [114 102 107 125]\n",
      " [119 176 147 127]\n",
      " [131 108 125 101]\n",
      " [181 170 180 167]]\n"
     ]
    }
   ],
   "source": [
    "# Adding to arrays. Remember to add those arrays they should be in smae shape like(25,4)(50,2)\n",
    "print(c+b)"
   ]
  },
  {
   "cell_type": "code",
   "execution_count": 44,
   "id": "4c838943-430e-4628-8457-2eeb30cb6b72",
   "metadata": {},
   "outputs": [
    {
     "name": "stdout",
     "output_type": "stream",
     "text": [
      "[[-95 -85 -14 -23]\n",
      " [-44 -22 -60 -43]\n",
      " [ -6  -5 -82 -24]\n",
      " [-38 -11 -11   2]\n",
      " [-31 -10  14 -39]\n",
      " [ 19 -35   6 -67]\n",
      " [-31 -59 -63 -34]\n",
      " [  1  10   5 -19]\n",
      " [ 18  13  -1 -51]\n",
      " [-20 -39  33  38]\n",
      " [-27  17  41  37]\n",
      " [ 44 -22 -47  12]\n",
      " [ 39  20  13  51]\n",
      " [-18  -3  53 -28]\n",
      " [-29  49  51  59]\n",
      " [  7  42  47  39]\n",
      " [ 18  51  43  15]\n",
      " [-19  31  68  26]\n",
      " [  6   4  -7 -10]\n",
      " [ 73  59  67  49]\n",
      " [ 18  22  62  74]\n",
      " [ 56  70  67  51]\n",
      " [ 59   4  35  57]\n",
      " [ 55  80  65  91]\n",
      " [ 13  26  18  33]]\n"
     ]
    }
   ],
   "source": [
    "print(c-b)"
   ]
  },
  {
   "cell_type": "code",
   "execution_count": 45,
   "id": "2a30fcc8-0ec6-48fa-ac28-52791fecdf54",
   "metadata": {},
   "outputs": [
    {
     "name": "stdout",
     "output_type": "stream",
     "text": [
      "[[ 0  0  0  0]\n",
      " [ 0  0  0  0]\n",
      " [ 0  0  0  0]\n",
      " [ 0  0  0  1]\n",
      " [ 0  0  3  0]\n",
      " [10  0  1  0]\n",
      " [ 0  0  0  0]\n",
      " [ 1  1  1  0]\n",
      " [ 2  1  0  0]\n",
      " [ 0  0  6 20]\n",
      " [ 0  1 21  6]\n",
      " [45  0  0  1]\n",
      " [ 4  1  1 52]\n",
      " [ 0  0 27  0]\n",
      " [ 0  6  7 60]\n",
      " [ 1  3  3  2]\n",
      " [ 1  4  2  1]\n",
      " [ 0  1 23  1]\n",
      " [ 1  1  0  0]\n",
      " [19  4  6  2]\n",
      " [ 1  1  3  8]\n",
      " [ 2  5  4  2]\n",
      " [ 2  1  1  2]\n",
      " [ 2  6  3 19]\n",
      " [ 1  1  1  1]]\n"
     ]
    }
   ],
   "source": [
    "print(c//b)"
   ]
  },
  {
   "cell_type": "code",
   "execution_count": 46,
   "id": "f18a2b55-3039-4492-a542-9d23645757df",
   "metadata": {},
   "outputs": [
    {
     "name": "stdout",
     "output_type": "stream",
     "text": [
      "[[ 1  2  3  4]\n",
      " [ 5  6  7  8]\n",
      " [ 9 10 11 12]\n",
      " [13 14 15  2]\n",
      " [17 18  4 20]\n",
      " [ 1 22  6 24]\n",
      " [25 26 27 28]\n",
      " [ 1 10  5 32]\n",
      " [ 3 13 35 36]\n",
      " [37 38  3  0]\n",
      " [41 17  1  2]\n",
      " [ 0 46 47 12]\n",
      " [ 9 20 13  0]\n",
      " [53 54  1 56]\n",
      " [57  4  3  0]\n",
      " [ 7  2 15 14]\n",
      " [18  6 19 15]\n",
      " [69 31  2 26]\n",
      " [ 6  4 75 76]\n",
      " [ 1  2  7 18]\n",
      " [18 22 20  4]\n",
      " [27  6  7 14]\n",
      " [29  4 35 22]\n",
      " [17 10  5  1]\n",
      " [13 26 18 33]]\n"
     ]
    }
   ],
   "source": [
    "print(c%b)"
   ]
  },
  {
   "cell_type": "code",
   "execution_count": 47,
   "id": "2851fc29-8df4-4ea9-94f5-ace5a8bb1398",
   "metadata": {},
   "outputs": [
    {
     "name": "stdout",
     "output_type": "stream",
     "text": [
      "[[  1   2   3   4]\n",
      " [  5   6   7   8]\n",
      " [  9  10  11  12]\n",
      " [ 13  14  15  16]\n",
      " [ 17  18  19  20]\n",
      " [ 21  22  23  24]\n",
      " [ 25  26  27  28]\n",
      " [ 29  30  31  32]\n",
      " [ 33  34  35  36]\n",
      " [ 37  38  39  40]\n",
      " [ 41  42  43  44]\n",
      " [ 45  46  47  48]\n",
      " [ 49  50  51  52]\n",
      " [ 53  54  55  56]\n",
      " [ 57  58  59  60]\n",
      " [ 61  62  63  64]\n",
      " [ 65  66  67  68]\n",
      " [ 69  70  71  72]\n",
      " [ 73  74  75  76]\n",
      " [ 77  78  79  80]\n",
      " [ 81  82  83  84]\n",
      " [ 85  86  87  88]\n",
      " [ 89  90  91  92]\n",
      " [ 93  94  95  96]\n",
      " [ 97  98  99 100]\n",
      " [ 96  87  17  27]\n",
      " [ 49  28  67  51]\n",
      " [ 15  15  93  36]\n",
      " [ 51  25  26  14]\n",
      " [ 48  28   5  59]\n",
      " [  2  57  17  91]\n",
      " [ 56  85  90  62]\n",
      " [ 28  20  26  51]\n",
      " [ 15  21  36  87]\n",
      " [ 57  77   6   2]\n",
      " [ 68  25   2   7]\n",
      " [  1  68  94  36]\n",
      " [ 10  30  38   1]\n",
      " [ 71  57   2  84]\n",
      " [ 86   9   8   1]\n",
      " [ 54  20  16  25]\n",
      " [ 47  15  24  53]\n",
      " [ 88  39   3  46]\n",
      " [ 67  70  82  86]\n",
      " [  4  19  12  31]\n",
      " [ 63  60  21  10]\n",
      " [ 29  16  20  37]\n",
      " [ 30  86  56  35]\n",
      " [ 38  14  30   5]\n",
      " [ 84  72  81  67]]\n"
     ]
    }
   ],
   "source": [
    "#Function concatenate=> It is used to concatenate 2 arrays.It concatenates the array vertically.\n",
    "arr = np.concatenate((c,b),axis = 0)\n",
    "print(arr)"
   ]
  },
  {
   "cell_type": "code",
   "execution_count": 48,
   "id": "77a61e12-c79c-4c7b-bfb7-29ee6a5dc66d",
   "metadata": {},
   "outputs": [
    {
     "name": "stdout",
     "output_type": "stream",
     "text": [
      "[[  1   2   3   4]\n",
      " [  5   6   7   8]\n",
      " [  9  10  11  12]\n",
      " [ 13  14  15  16]\n",
      " [ 17  18  19  20]\n",
      " [ 21  22  23  24]\n",
      " [ 25  26  27  28]\n",
      " [ 29  30  31  32]\n",
      " [ 33  34  35  36]\n",
      " [ 37  38  39  40]\n",
      " [ 41  42  43  44]\n",
      " [ 45  46  47  48]\n",
      " [ 49  50  51  52]\n",
      " [ 53  54  55  56]\n",
      " [ 57  58  59  60]\n",
      " [ 61  62  63  64]\n",
      " [ 65  66  67  68]\n",
      " [ 69  70  71  72]\n",
      " [ 73  74  75  76]\n",
      " [ 77  78  79  80]\n",
      " [ 81  82  83  84]\n",
      " [ 85  86  87  88]\n",
      " [ 89  90  91  92]\n",
      " [ 93  94  95  96]\n",
      " [ 97  98  99 100]\n",
      " [ 96  87  17  27]\n",
      " [ 49  28  67  51]\n",
      " [ 15  15  93  36]\n",
      " [ 51  25  26  14]\n",
      " [ 48  28   5  59]\n",
      " [  2  57  17  91]\n",
      " [ 56  85  90  62]\n",
      " [ 28  20  26  51]\n",
      " [ 15  21  36  87]\n",
      " [ 57  77   6   2]\n",
      " [ 68  25   2   7]\n",
      " [  1  68  94  36]\n",
      " [ 10  30  38   1]\n",
      " [ 71  57   2  84]\n",
      " [ 86   9   8   1]\n",
      " [ 54  20  16  25]\n",
      " [ 47  15  24  53]\n",
      " [ 88  39   3  46]\n",
      " [ 67  70  82  86]\n",
      " [  4  19  12  31]\n",
      " [ 63  60  21  10]\n",
      " [ 29  16  20  37]\n",
      " [ 30  86  56  35]\n",
      " [ 38  14  30   5]\n",
      " [ 84  72  81  67]]\n"
     ]
    }
   ],
   "source": [
    "#Function vstack is used to vertically allign the 2 arrays next to next. \n",
    "ar1 = np.vstack((c,b))\n",
    "print(ar1)"
   ]
  },
  {
   "cell_type": "code",
   "execution_count": 49,
   "id": "9c93d565-1775-402b-9165-fed7242ec39d",
   "metadata": {},
   "outputs": [
    {
     "name": "stdout",
     "output_type": "stream",
     "text": [
      "[[  1   2   3   4  96  87  17  27]\n",
      " [  5   6   7   8  49  28  67  51]\n",
      " [  9  10  11  12  15  15  93  36]\n",
      " [ 13  14  15  16  51  25  26  14]\n",
      " [ 17  18  19  20  48  28   5  59]\n",
      " [ 21  22  23  24   2  57  17  91]\n",
      " [ 25  26  27  28  56  85  90  62]\n",
      " [ 29  30  31  32  28  20  26  51]\n",
      " [ 33  34  35  36  15  21  36  87]\n",
      " [ 37  38  39  40  57  77   6   2]\n",
      " [ 41  42  43  44  68  25   2   7]\n",
      " [ 45  46  47  48   1  68  94  36]\n",
      " [ 49  50  51  52  10  30  38   1]\n",
      " [ 53  54  55  56  71  57   2  84]\n",
      " [ 57  58  59  60  86   9   8   1]\n",
      " [ 61  62  63  64  54  20  16  25]\n",
      " [ 65  66  67  68  47  15  24  53]\n",
      " [ 69  70  71  72  88  39   3  46]\n",
      " [ 73  74  75  76  67  70  82  86]\n",
      " [ 77  78  79  80   4  19  12  31]\n",
      " [ 81  82  83  84  63  60  21  10]\n",
      " [ 85  86  87  88  29  16  20  37]\n",
      " [ 89  90  91  92  30  86  56  35]\n",
      " [ 93  94  95  96  38  14  30   5]\n",
      " [ 97  98  99 100  84  72  81  67]]\n"
     ]
    }
   ],
   "source": [
    "#Function hstack =>Used to align the 2 arrays horizontally.\n",
    "ar2 = np.hstack((c,b))\n",
    "print(ar2)"
   ]
  },
  {
   "cell_type": "code",
   "execution_count": 50,
   "id": "22d80a7f-1d29-45d4-a95b-ad1236b74f80",
   "metadata": {},
   "outputs": [
    {
     "name": "stdout",
     "output_type": "stream",
     "text": [
      "<class 'numpy.int32'> 41\n"
     ]
    }
   ],
   "source": [
    "#Linear Alegrbra operations in numpy.\n",
    "# np.dot is used to multiply array into one dimention.For multiplication the dimenstions must be same.\n",
    "d = np.array([1,2,3,4])\n",
    "e = np.array([12,2,3,4])\n",
    "\n",
    "res = np.dot(d,e)\n",
    "print(type(res),res)"
   ]
  },
  {
   "cell_type": "code",
   "execution_count": 51,
   "id": "4142a00a-37a3-431d-a1c2-1a2b48316839",
   "metadata": {},
   "outputs": [
    {
     "name": "stdout",
     "output_type": "stream",
     "text": [
      "[[15350 26061 19787 26308 23434 20740 15331 33787 30704 28195 30456 13040\n",
      "  20543 21113 17386 24870 13781 17183 28743 23392 12695 21232 19423 39069\n",
      "  20413]\n",
      " [19086 23759 17483 22617 19514 21125 15596 31360 23587 28004 23328  9955\n",
      "  22863 16179 21614 25875 15739 13510 22294 20818  8973 23778 17458 36184\n",
      "  15973]\n",
      " [22696 32077 23672 31112 27281 26989 19565 41741 33362 36107 33653 14273\n",
      "  29460 23452 26045 32448 19282 19797 30791 28053 12599 30765 22494 48008\n",
      "  21742]\n",
      " [17398 32107 27947 32747 28082 22594 13409 39935 33554 31250 38096 17678\n",
      "  33237 28171 22355 23478 16882 24408 26705 26013  9665 38250 14211 48194\n",
      "  17734]\n",
      " [12354 24496 23997 26298 22011 16755 10164 30900 29148 23666 31857 15735\n",
      "  23557 23631 15591 17240 12881 18940 24406 20317  9872 27997 12297 38981\n",
      "  16897]\n",
      " [ 8228  9595 14386 11326  7593  7446  4512 13154 12441 10699 13017  8544\n",
      "  11812 10346  9678  7519  8371  6353 11136  7744  4545 15777  5345 19916\n",
      "   8569]\n",
      " [25424 29677 28444 29671 23375 25435 17135 39297 29342 34296 30803 15875\n",
      "  33930 22874 29762 29110 22217 17768 26109 24594  9607 39109 17860 49625\n",
      "  18925]\n",
      " [13226 24085 14609 22165 20690 17631 10532 29076 19941 23506 24148  8793\n",
      "  25729 17285 17420 19073 11343 17916 14338 19200  3903 27238  9326 30998\n",
      "   8309]\n",
      " [22026 35430 28917 35169 30323 26896 17201 44737 35723 36581 39377 17702\n",
      "  36353 28653 27137 29637 20005 24945 29649 29261 10882 40579 18284 52926\n",
      "  20031]\n",
      " [13388 26843 17178 25030 23233 18525 10135 31891 22038 24927 27881 10521\n",
      "  29738 20342 18511 18956 11986 21149 14649 20835  3425 32325  8144 34408\n",
      "   7990]\n",
      " [24398 31675 26751 30358 25080 25450 15549 40193 26852 34107 31270 14678\n",
      "  38631 23417 30234 27738 21159 21007 20813 24952  5857 43962 13699 48335\n",
      "  13767]\n",
      " [14100 25797 17046 24546 22559 19123 12137 31741 24218 25721 27479 10679\n",
      "  25430 19530 17897 21204 12406 18795 19239 21269  6655 26923 12416 34848\n",
      "  12210]\n",
      " [10182 24667 13463 23928 23468 18275 13478 30676 28171 24693 28722  9997\n",
      "  16565 19209 11963 21997  9038 17829 25428 22287 11233 14942 17332 31793\n",
      "  17064]\n",
      " [19512 22464 15960 20619 17650 20327 14455 29423 19339 26677 20002  8353\n",
      "  24412 14046 22600 24573 15716 12531 17481 19006  6128 25712 14623 33621\n",
      "  12246]\n",
      " [ 9654 22452 23159 24342 20181 13687  6666 27414 25370 19730 30007 15167\n",
      "  24227 22917 13575 12182 11021 19160 18980 17493  6748 29859  7037 35247\n",
      "  12449]\n",
      " [12924 24575 20238 25383 22319 18208 12566 31342 29153 25122 30191 13502\n",
      "  20566 21468 15329 20677 12368 17594 26018 21427 11165 22461 15815 37123\n",
      "  18182]\n",
      " [12108 13262 17662 15243 10778 11676  8690 18832 18462 16339 17230 10620\n",
      "  13004 12924 13103 13700 11511  7305 18546 11887  8506 16440 11478 26971\n",
      "  14523]\n",
      " [23450 24928 26789 26386 20003 23256 17945 34983 30723 31582 28129 15570\n",
      "  23719 20291 25274 28655 20622 12624 31393 22614 14112 27337 22358 46121\n",
      "  24248]\n",
      " [13510 16490 24251 20207 14125 13718 10357 23625 26311 19731 24319 15316\n",
      "  14331 18283 14281 15821 13825  9751 26601 15153 12782 19157 15194 35194\n",
      "  20915]\n",
      " [24032 33126 25396 31282 26806 26459 16519 41713 28123 35316 32494 14161\n",
      "  38386 23852 29803 29291 20575 22180 21977 26473  6450 42550 15033 48438\n",
      "  14289]\n",
      " [10314 15049  6729 12759 12378 12513  8334 18486 10611 16172 12444  3471\n",
      "  16057  8433 12780 14771  7859  9730  8056 12316  1979 15730  7380 18332\n",
      "   4621]\n",
      " [ 9050 10453  8345 10672  9092 10437  9266 14916 14301 13939 11614  5259\n",
      "   6043  7511  8837 14219  7458  4563 15988 10593  7983  5314 12740 17783\n",
      "  12344]\n",
      " [ 6634 12203 12149 13295 11064  8874  6027 15829 15744 12494 16146  8058\n",
      "  10451 11761  7791  9788  6758  8824 14235 10625  6273 12252  7975 20116\n",
      "  10238]\n",
      " [ 6690 14441 11437 14424 12820  9577  5242 17444 14177 13239 16950  7367\n",
      "  15175 12531  9169  9527  6610 11655 10404 11421  3371 17242  5060 20251\n",
      "   6432]\n",
      " [22704 30468 26228 30678 25684 25761 18685 40319 33783 34818 33572 15807\n",
      "  28530 23868 25765 30707 19903 18518 31739 26707 13356 31220 22101 48882\n",
      "  23033]]\n"
     ]
    }
   ],
   "source": [
    "#np.matmul is used for matrix calcaulation.For calculating matmul the 2nd array should have the reverse no. of rows and columns from the first one.\n",
    "f = np.random.randint(1,100,100).reshape(25,4)\n",
    "g = np.random.randint(1,200,100).reshape(4,25)\n",
    "res1 = np.matmul(f,g).reshape(25,25)\n",
    "print(res1)"
   ]
  },
  {
   "cell_type": "code",
   "execution_count": 52,
   "id": "6e5d80eb-81aa-499e-8f04-f48ce7aca0d7",
   "metadata": {},
   "outputs": [],
   "source": [
    "import matplotlib.pyplot as plt\n"
   ]
  },
  {
   "cell_type": "code",
   "execution_count": 53,
   "id": "7418c37b-4e65-4eee-bf28-3873aad97543",
   "metadata": {},
   "outputs": [
    {
     "data": {
      "image/png": "[encoded data removed]",
      "text/plain": [
       "<Figure size 300x300 with 1 Axes>"
      ]
     },
     "metadata": {},
     "output_type": "display_data"
    }
   ],
   "source": [
    "#Plotting Figures using matplotlib Library\n",
    "plt.figure(figsize=(3,3))\n",
    "plt.scatter(c,b,label = False)\n",
    "plt.title(\"Title For Scatter Plot\")\n",
    "plt.xlabel(\"X Plot\")\n",
    "plt.ylabel(\"Y Plot\")\n",
    "plt.show()"
   ]
  },
  {
   "cell_type": "code",
   "execution_count": null,
   "id": "a17ef7f2-f820-40c2-8760-a217d8017dcf",
   "metadata": {},
   "outputs": [],
   "source": []
  }
 ],
 "metadata": {
  "kernelspec": {
   "display_name": "Python 3 (ipykernel)",
   "language": "python",
   "name": "python3"
  },
  "language_info": {
   "codemirror_mode": {
    "name": "ipython",
    "version": 3
   },
   "file_extension": ".py",
   "mimetype": "text/x-python",
   "name": "python",
   "nbconvert_exporter": "python",
   "pygments_lexer": "ipython3",
   "version": "3.11.7"
  }
 },
 "nbformat": 4,
 "nbformat_minor": 5
}
