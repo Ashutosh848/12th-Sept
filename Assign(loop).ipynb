{
 "cells": [
  {
   "cell_type": "code",
   "execution_count": 1,
   "id": "b0278e1f-8eac-4c36-8f23-2d8e3fcb55bb",
   "metadata": {},
   "outputs": [
    {
     "name": "stdin",
     "output_type": "stream",
     "text": [
      "Enter a Value:- 4\n"
     ]
    },
    {
     "name": "stdout",
     "output_type": "stream",
     "text": [
      "24\n"
     ]
    }
   ],
   "source": [
    "n = int(input(\"Enter a Value:-\"))\n",
    "fact = 1\n",
    "\n",
    "for i in range(1,n+1):\n",
    "    fact = fact * i\n",
    "print(fact)"
   ]
  },
  {
   "cell_type": "code",
   "execution_count": 2,
   "id": "05359131-9b3c-4ec7-a2d8-97ed617a9171",
   "metadata": {},
   "outputs": [
    {
     "name": "stdin",
     "output_type": "stream",
     "text": [
      "Enter a Value 23\n",
      " 12\n",
      " 42\n",
      " 0\n"
     ]
    }
   ],
   "source": [
    "n = int(input(\"Enter a Value\"))\n",
    "while(n!=0):\n",
    "    if(n!=0):\n",
    "        n = int(input())\n",
    "    else:\n",
    "        break"
   ]
  },
  {
   "cell_type": "code",
   "execution_count": 4,
   "id": "2101ba03-0bb2-490a-81e5-1966a1f93e77",
   "metadata": {},
   "outputs": [
    {
     "name": "stdout",
     "output_type": "stream",
     "text": [
      "ASHUTOSH,RAHUL,MOHIT,YASHIKA,MEENAL,HARSH,"
     ]
    }
   ],
   "source": [
    "a = ['Ashutosh','Rahul','Mohit','Yashika','Meenal','Harsh']\n",
    "for i in a:\n",
    "    print(i.upper(),end = ',')\n"
   ]
  },
  {
   "cell_type": "code",
   "execution_count": 5,
   "id": "225f17a7-1aa2-4a84-af9f-e4545711c066",
   "metadata": {},
   "outputs": [
    {
     "name": "stdin",
     "output_type": "stream",
     "text": [
      " 31\n"
     ]
    },
    {
     "name": "stdout",
     "output_type": "stream",
     "text": [
      "13\n"
     ]
    }
   ],
   "source": [
    "n = int(input())\n",
    "rev = 0\n",
    "while(n!=0):\n",
    "    digit = n%10\n",
    "    rev = (rev * 10) + digit\n",
    "    n = n//10\n",
    "print(rev)"
   ]
  },
  {
   "cell_type": "code",
   "execution_count": 6,
   "id": "c8d2bdd5-0305-47dc-8fc7-72eefba8b178",
   "metadata": {},
   "outputs": [
    {
     "name": "stdin",
     "output_type": "stream",
     "text": [
      " 12\n"
     ]
    },
    {
     "name": "stdout",
     "output_type": "stream",
     "text": [
      "0\n",
      "1\n",
      "1\n",
      "2\n",
      "3\n",
      "5\n",
      "8\n"
     ]
    }
   ],
   "source": [
    "a = 0\n",
    "b = 1\n",
    "n = int(input())\n",
    "while(a<=n):\n",
    "    print(a)\n",
    "    a,b = b,a+b"
   ]
  },
  {
   "cell_type": "code",
   "execution_count": 10,
   "id": "e2d26e1a-b6b2-4f8b-8514-e1e55f065fd1",
   "metadata": {},
   "outputs": [
    {
     "name": "stdout",
     "output_type": "stream",
     "text": [
      " Name:Ashutosh \n",
      " Class:12 \n",
      " Course:Data Engineering \n"
     ]
    }
   ],
   "source": [
    "d = {'Name':'Ashutosh','Class':12,'Course':'Data Engineering'}\n",
    "for i,j in d.items():\n",
    "    print(f\" {i}:{j} \")"
   ]
  },
  {
   "cell_type": "code",
   "execution_count": 11,
   "id": "a24ced79-ba43-437d-9c4e-259cf0ed4e8b",
   "metadata": {},
   "outputs": [
    {
     "name": "stdin",
     "output_type": "stream",
     "text": [
      "Enter a Value 123\n"
     ]
    },
    {
     "name": "stdout",
     "output_type": "stream",
     "text": [
      "6\n"
     ]
    }
   ],
   "source": [
    "n = int(input(\"Enter a Value\"))\n",
    "sum = 0\n",
    "while(n!=0):\n",
    "    digit = n%10\n",
    "    sum = sum + digit\n",
    "    n = n//10\n",
    "print(sum)"
   ]
  },
  {
   "cell_type": "code",
   "execution_count": 15,
   "id": "1c2cb2ac-3103-45be-b577-2606d41d26e0",
   "metadata": {},
   "outputs": [
    {
     "name": "stdout",
     "output_type": "stream",
     "text": [
      "3, 5, 7, 9, 11, 13, 15, 17, 19, 21, 23, 25, 27, 29, 31, 33, 35, 37, 39, 41, 43, 45, 47, 49, "
     ]
    }
   ],
   "source": [
    "n = 2\n",
    "\n",
    "while(n<=50):\n",
    "    if(n%2!=0):\n",
    "        print(n,end = ', ')\n",
    "    n+=1"
   ]
  },
  {
   "cell_type": "code",
   "execution_count": 17,
   "id": "b9188f0c-5c07-4a72-807c-b59da9382e2f",
   "metadata": {},
   "outputs": [
    {
     "name": "stdout",
     "output_type": "stream",
     "text": [
      "hsotuhsA\n"
     ]
    }
   ],
   "source": [
    "s = \"Ashutosh\"\n",
    "rev = ''\n",
    "for i in s:\n",
    "    rev = i + rev\n",
    "print(rev)"
   ]
  },
  {
   "cell_type": "code",
   "execution_count": 28,
   "id": "4a07df1c-708f-4b59-ba75-504032964c2f",
   "metadata": {},
   "outputs": [
    {
     "name": "stdout",
     "output_type": "stream",
     "text": [
      "14\n",
      "adwuhffhjddkla\n"
     ]
    }
   ],
   "source": [
    "l = ['Ashutosh','asdadiawiw','adwuhffhjddkla','audhuqdq']\n",
    "count = 0\n",
    "for i in l:\n",
    "    if (len(i)>count):\n",
    "        count = len(i)\n",
    "        str = i\n",
    "print(count)\n",
    "print(str)"
   ]
  },
  {
   "cell_type": "code",
   "execution_count": null,
   "id": "39d8da52-b105-4e98-9e29-aaf4f3558e62",
   "metadata": {},
   "outputs": [],
   "source": []
  }
 ],
 "metadata": {
  "kernelspec": {
   "display_name": "Python 3 (ipykernel)",
   "language": "python",
   "name": "python3"
  },
  "language_info": {
   "codemirror_mode": {
    "name": "ipython",
    "version": 3
   },
   "file_extension": ".py",
   "mimetype": "text/x-python",
   "name": "python",
   "nbconvert_exporter": "python",
   "pygments_lexer": "ipython3",
   "version": "3.11.7"
  }
 },
 "nbformat": 4,
 "nbformat_minor": 5
}
