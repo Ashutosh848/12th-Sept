{
 "cells": [
  {
   "cell_type": "code",
   "execution_count": 12,
   "id": "4f41d328-e25b-41cb-8f2e-7477126212ef",
   "metadata": {},
   "outputs": [],
   "source": [
    "import numpy as np"
   ]
  },
  {
   "cell_type": "code",
   "execution_count": 29,
   "id": "bc65e251-49b1-46f4-8fee-36bcf9a127bf",
   "metadata": {},
   "outputs": [
    {
     "name": "stdout",
     "output_type": "stream",
     "text": [
      "[[  1   2   3   4   5]\n",
      " [  6   7   8   9  10]\n",
      " [ 11  12  13  14  15]\n",
      " [ 16  17  18  19  20]\n",
      " [ 21  22  23  24  25]\n",
      " [ 26  27  28  29  30]\n",
      " [ 31  32  33  34  35]\n",
      " [ 36  37  38  39  40]\n",
      " [ 41  42  43  44  45]\n",
      " [ 46  47  48  49  50]\n",
      " [ 51  52  53  54  55]\n",
      " [ 56  57  58  59  60]\n",
      " [ 61  62  63  64  65]\n",
      " [ 66  67  68  69  70]\n",
      " [ 71  72  73  74  75]\n",
      " [ 76  77  78  79  80]\n",
      " [ 81  82  83  84  85]\n",
      " [ 86  87  88  89  90]\n",
      " [ 91  92  93  94  95]\n",
      " [ 96  97  98  99 100]]\n"
     ]
    }
   ],
   "source": [
    "b = np.arange(1,101)\n",
    "print(b.reshape(20,5))"
   ]
  },
  {
   "cell_type": "code",
   "execution_count": 42,
   "id": "984e64ed-91cb-4561-b358-ffc0e6634476",
   "metadata": {},
   "outputs": [
    {
     "name": "stdout",
     "output_type": "stream",
     "text": [
      "[ 74 123  68 115 180  57   5 130 127 151  56 136 179  35 100 137  95  61\n",
      " 172  85   5 156  44 131  35 137 119   6 177 152 176  29 200   5 163 111\n",
      "  62  38 123  21 169  68 103 154  34 116 105  85 168 158 142 105 166 131\n",
      " 169  51 196  90 123  90 157 182  68  50 142 179 118  99 135  39 178  50\n",
      "  14  10 109  17 169  70 118 139 192 181 138  26  90  65 114 141  78  85\n",
      " 114  66 103  37 107   6  39  63 116 166]\n"
     ]
    },
    {
     "data": {
      "text/plain": [
       "array([[ 74, 123,  68, 115, 180],\n",
       "       [ 57,   5, 130, 127, 151],\n",
       "       [ 56, 136, 179,  35, 100],\n",
       "       [137,  95,  61, 172,  85],\n",
       "       [  5, 156,  44, 131,  35],\n",
       "       [137, 119,   6, 177, 152],\n",
       "       [176,  29, 200,   5, 163],\n",
       "       [111,  62,  38, 123,  21],\n",
       "       [169,  68, 103, 154,  34],\n",
       "       [116, 105,  85, 168, 158],\n",
       "       [142, 105, 166, 131, 169],\n",
       "       [ 51, 196,  90, 123,  90],\n",
       "       [157, 182,  68,  50, 142],\n",
       "       [179, 118,  99, 135,  39],\n",
       "       [178,  50,  14,  10, 109],\n",
       "       [ 17, 169,  70, 118, 139],\n",
       "       [192, 181, 138,  26,  90],\n",
       "       [ 65, 114, 141,  78,  85],\n",
       "       [114,  66, 103,  37, 107],\n",
       "       [  6,  39,  63, 116, 166]])"
      ]
     },
     "execution_count": 42,
     "metadata": {},
     "output_type": "execute_result"
    }
   ],
   "source": [
    "a = np.random.randint(1,201,100)\n",
    "print(a)\n",
    "a.reshape(20,5)"
   ]
  },
  {
   "cell_type": "code",
   "execution_count": 44,
   "id": "46d3ca27-40a5-439c-b6c0-467a1d056c80",
   "metadata": {},
   "outputs": [
    {
     "name": "stdout",
     "output_type": "stream",
     "text": [
      "517532\n"
     ]
    }
   ],
   "source": [
    "c = np.matmul(a,b)\n",
    "print(c)"
   ]
  },
  {
   "cell_type": "code",
   "execution_count": 45,
   "id": "a050bfac-6152-4413-a76e-dae8cc494453",
   "metadata": {},
   "outputs": [
    {
     "name": "stdout",
     "output_type": "stream",
     "text": [
      "[  1   2   3   4   5   6   7   8   9  10  11  12  13  14  15  16  17  18\n",
      "  19  20  21  22  23  24  25  26  27  28  29  30  31  32  33  34  35  36\n",
      "  37  38  39  40  41  42  43  44  45  46  47  48  49  50  51  52  53  54\n",
      "  55  56  57  58  59  60  61  62  63  64  65  66  67  68  69  70  71  72\n",
      "  73  74  75  76  77  78  79  80  81  82  83  84  85  86  87  88  89  90\n",
      "  91  92  93  94  95  96  97  98  99 100]\n"
     ]
    }
   ],
   "source": [
    "d = a+b\n",
    "print(b)"
   ]
  },
  {
   "cell_type": "code",
   "execution_count": 3,
   "id": "ad85ffbf-dddc-4f82-87b9-454b18a84c15",
   "metadata": {},
   "outputs": [
    {
     "name": "stdout",
     "output_type": "stream",
     "text": [
      "Ashut\n"
     ]
    }
   ],
   "source": []
  },
  {
   "cell_type": "code",
   "execution_count": null,
   "id": "ddb3ed42-6dad-4d29-bddf-ff850b2740e7",
   "metadata": {},
   "outputs": [],
   "source": []
  }
 ],
 "metadata": {
  "kernelspec": {
   "display_name": "Python 3 (ipykernel)",
   "language": "python",
   "name": "python3"
  },
  "language_info": {
   "codemirror_mode": {
    "name": "ipython",
    "version": 3
   },
   "file_extension": ".py",
   "mimetype": "text/x-python",
   "name": "python",
   "nbconvert_exporter": "python",
   "pygments_lexer": "ipython3",
   "version": "3.11.7"
  }
 },
 "nbformat": 4,
 "nbformat_minor": 5
}
