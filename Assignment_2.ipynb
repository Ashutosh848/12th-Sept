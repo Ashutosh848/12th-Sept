{
 "cells": [
  {
   "cell_type": "code",
   "execution_count": 3,
   "id": "fa515c61-7017-4b74-b480-07f6ecb81b7f",
   "metadata": {},
   "outputs": [
    {
     "name": "stdout",
     "output_type": "stream",
     "text": [
      "1\n"
     ]
    }
   ],
   "source": [
    "a = 91\n",
    "b = 81\n",
    "\n",
    "print(a//b)"
   ]
  },
  {
   "cell_type": "code",
   "execution_count": 6,
   "id": "9820e3a8-56ab-4e32-9547-dfc7366a4c3a",
   "metadata": {},
   "outputs": [
    {
     "name": "stdout",
     "output_type": "stream",
     "text": [
      "False\n"
     ]
    }
   ],
   "source": [
    "a = 102.34\n",
    "b = 103.392\n",
    "print(a==b)"
   ]
  },
  {
   "cell_type": "code",
   "execution_count": 7,
   "id": "1f75c987-8343-43f7-834d-c23842fa6689",
   "metadata": {},
   "outputs": [
    {
     "name": "stdout",
     "output_type": "stream",
     "text": [
      "False\n",
      "True\n"
     ]
    }
   ],
   "source": [
    "a = True\n",
    "b = False\n",
    "\n",
    "print(a and b)  \n",
    "print(a or b)   \n"
   ]
  },
  {
   "cell_type": "code",
   "execution_count": 8,
   "id": "ff66a9db-1de2-4dcd-b280-191bd59c12e7",
   "metadata": {},
   "outputs": [
    {
     "name": "stdout",
     "output_type": "stream",
     "text": [
      "14\n"
     ]
    }
   ],
   "source": [
    "a = 4\n",
    "b = 10\n",
    "print(a|b)"
   ]
  },
  {
   "cell_type": "code",
   "execution_count": 17,
   "id": "aad589f9-a54e-44bd-8623-8eeeec230cf1",
   "metadata": {},
   "outputs": [
    {
     "name": "stdout",
     "output_type": "stream",
     "text": [
      "AshutoshTiwari\n"
     ]
    }
   ],
   "source": [
    "a = \"Ashutosh\"\n",
    "b = \"Tiwari\"\n",
    "print(a+b)"
   ]
  },
  {
   "cell_type": "code",
   "execution_count": 20,
   "id": "3d421b51-c778-4c3e-af49-6871bdcc9eb8",
   "metadata": {},
   "outputs": [
    {
     "name": "stdout",
     "output_type": "stream",
     "text": [
      "My age is 20 and my body weight is 60.\n"
     ]
    }
   ],
   "source": [
    "a = 20\n",
    "weight = 60\n",
    "print(f\"My age is {a} and my body weight is {weight}.\")"
   ]
  },
  {
   "cell_type": "code",
   "execution_count": 21,
   "id": "c93cbbc3-b0f4-4586-b3a5-79f37ad51f36",
   "metadata": {},
   "outputs": [
    {
     "name": "stdout",
     "output_type": "stream",
     "text": [
      "Ash\n"
     ]
    }
   ],
   "source": [
    "a = \"Ashutosh\"\n",
    "print(a[:3])"
   ]
  },
  {
   "cell_type": "code",
   "execution_count": 23,
   "id": "5c08559f-6cf0-461c-ac59-4ce3ffd666b8",
   "metadata": {},
   "outputs": [
    {
     "name": "stdout",
     "output_type": "stream",
     "text": [
      "<class 'int'> 123\n"
     ]
    }
   ],
   "source": [
    "a = \"123\"\n",
    "b = int(a)\n",
    "print(type(b),b)"
   ]
  },
  {
   "cell_type": "code",
   "execution_count": 24,
   "id": "95704b6f-9704-4ec7-bfec-c11d7ada9e31",
   "metadata": {},
   "outputs": [
    {
     "name": "stdout",
     "output_type": "stream",
     "text": [
      "4\n"
     ]
    }
   ],
   "source": [
    "l = [1,2,3,4]\n",
    "print(l[-1])"
   ]
  },
  {
   "cell_type": "code",
   "execution_count": 25,
   "id": "1716074b-bf2f-47c8-9f18-86949be5cd40",
   "metadata": {},
   "outputs": [
    {
     "name": "stdout",
     "output_type": "stream",
     "text": [
      "[1, 3, 5, 7]\n"
     ]
    }
   ],
   "source": [
    "l1 = [1,2,3,4,5,6,7,8]\n",
    "print(l1[0:8:2])"
   ]
  },
  {
   "cell_type": "code",
   "execution_count": 27,
   "id": "d80cb572-e568-4889-bbf8-16e7268b16af",
   "metadata": {},
   "outputs": [
    {
     "name": "stdout",
     "output_type": "stream",
     "text": [
      "[1, 2, 3, 4, 1, 2, 3, 4, 5, 6, 7, 8]\n"
     ]
    }
   ],
   "source": [
    "print(l + l1)"
   ]
  },
  {
   "cell_type": "code",
   "execution_count": 29,
   "id": "ef5f100a-ec64-449d-a588-9be933b5ecf6",
   "metadata": {},
   "outputs": [
    {
     "data": {
      "text/plain": [
       "True"
      ]
     },
     "execution_count": 29,
     "metadata": {},
     "output_type": "execute_result"
    }
   ],
   "source": [
    "1 in l"
   ]
  },
  {
   "cell_type": "code",
   "execution_count": 32,
   "id": "853521fb-2f33-434a-b21e-3fe132df01cf",
   "metadata": {},
   "outputs": [
    {
     "name": "stdout",
     "output_type": "stream",
     "text": [
      "[1, 2, 3, 4, 5, 6, 7, 8]\n"
     ]
    }
   ],
   "source": [
    "l1\n",
    "l1.sort()\n",
    "print(l1)"
   ]
  },
  {
   "cell_type": "code",
   "execution_count": 34,
   "id": "a89f4165-3454-480a-800b-abbb270f2437",
   "metadata": {},
   "outputs": [
    {
     "name": "stdout",
     "output_type": "stream",
     "text": [
      "[1, 2, 3, 4, 1, 2, 3, 4, 5, 6, 7, 8, 1, 2, 3, 4, 5, 6, 7, 8]\n"
     ]
    },
    {
     "data": {
      "text/plain": [
       "1"
      ]
     },
     "execution_count": 34,
     "metadata": {},
     "output_type": "execute_result"
    }
   ],
   "source": [
    "l.extend(l1)\n",
    "print(l)\n",
    "l.index(2)"
   ]
  },
  {
   "cell_type": "code",
   "execution_count": 35,
   "id": "5a9adeff-6466-434f-9e3a-e53a6569b287",
   "metadata": {},
   "outputs": [
    {
     "name": "stdout",
     "output_type": "stream",
     "text": [
      "[2, 3, 4]\n"
     ]
    }
   ],
   "source": [
    "l2 = [1, 2, 3, 4, 5, 6]\n",
    "sl = l2[1:4]\n",
    "print(sl)"
   ]
  },
  {
   "cell_type": "code",
   "execution_count": 37,
   "id": "f9e59c44-9ca5-471f-a027-349b35226f1e",
   "metadata": {},
   "outputs": [
    {
     "name": "stdout",
     "output_type": "stream",
     "text": [
      "20\n"
     ]
    }
   ],
   "source": [
    "print(len(l))"
   ]
  },
  {
   "cell_type": "code",
   "execution_count": 39,
   "id": "e41e83b3-77fc-4022-ac0d-dad3b015a489",
   "metadata": {},
   "outputs": [
    {
     "name": "stdout",
     "output_type": "stream",
     "text": [
      "[1, 2, 3, 'a', 'b', 'c', 'Ashutosh', 'Tiwari']\n"
     ]
    }
   ],
   "source": [
    "l1 = [1, 2, 3]\n",
    "b2 = ['a', 'b', 'c']\n",
    "l3 = [\"Ashutosh\",\"Tiwari\"]\n",
    "\n",
    "cl = [*l1, *b2, *l3]\n",
    "print(cl)"
   ]
  },
  {
   "cell_type": "code",
   "execution_count": 44,
   "id": "94416b91-a11a-4c0f-8655-86bd5c2ea3a8",
   "metadata": {},
   "outputs": [
    {
     "name": "stdout",
     "output_type": "stream",
     "text": [
      "<class 'tuple'> (1, 2, 3, 'a', 'b', 'c', 'Ashutosh', 'Tiwari')\n",
      "3\n"
     ]
    }
   ],
   "source": [
    "t = tuple(cl)\n",
    "print(type(t),t)\n",
    "\n",
    "print(t[2])"
   ]
  },
  {
   "cell_type": "code",
   "execution_count": 45,
   "id": "c0471320-3e4d-4146-80a4-0858f03cb311",
   "metadata": {},
   "outputs": [
    {
     "name": "stdout",
     "output_type": "stream",
     "text": [
      "(1, 2, 3, 'a', 'b', 'c', 'Ashutosh', 'Tiwari', 1, 2, 3, 'a', 'b', 'c', 'Ashutosh', 'Tiwari', 1, 2, 3, 'a', 'b', 'c', 'Ashutosh', 'Tiwari')\n"
     ]
    }
   ],
   "source": [
    "print(t*3)"
   ]
  },
  {
   "cell_type": "code",
   "execution_count": 47,
   "id": "d7f9aaba-5b3c-4b83-a60b-050a4074c253",
   "metadata": {},
   "outputs": [
    {
     "data": {
      "text/plain": [
       "dict_values(['John Doe', 30, 'New York', 'Software Engineer', ['coding', 'reading', 'hiking'], False, 100000, 'blue', 175, 70])"
      ]
     },
     "execution_count": 47,
     "metadata": {},
     "output_type": "execute_result"
    }
   ],
   "source": [
    "d = {\n",
    "    \"name\": \"John Doe\",\n",
    "    \"age\": 30,\n",
    "    \"city\": \"New York\",\n",
    "    \"occupation\": \"Software Engineer\",\n",
    "    \"hobbies\": [\"coding\", \"reading\", \"hiking\"],\n",
    "    \"is_married\": False,\n",
    "    \"salary\": 100000,\n",
    "    \"favorite_color\": \"blue\",\n",
    "    \"height\": 175,\n",
    "    \"weight\": 70\n",
    "}\n",
    "d.keys()\n",
    "d.values()\n"
   ]
  },
  {
   "cell_type": "code",
   "execution_count": 48,
   "id": "0299c548-fd4f-4dbb-ac06-ac6e2d9e92b9",
   "metadata": {},
   "outputs": [
    {
     "name": "stdout",
     "output_type": "stream",
     "text": [
      "{'name': 'John Doe', 'age': 30, 'city': 'New York', 'occupation': 'Software Engineer', 'hobbies': ['coding', 'reading', 'hiking'], 'is_married': False, 'salary': 120000, 'favorite_color': 'blue', 'height': 175, 'weight': 70}\n"
     ]
    }
   ],
   "source": [
    "d['salary']=120000\n",
    "print(d)"
   ]
  },
  {
   "cell_type": "code",
   "execution_count": 49,
   "id": "46fb6fcd-ed05-488a-8c54-5457e05c04aa",
   "metadata": {},
   "outputs": [
    {
     "name": "stdout",
     "output_type": "stream",
     "text": [
      "1000\n"
     ]
    }
   ],
   "source": [
    "a = 10\n",
    "b = 20\n",
    "res = b - a\n",
    "print(res**3)"
   ]
  },
  {
   "cell_type": "code",
   "execution_count": 51,
   "id": "62b51c4a-36a2-44d7-be38-adce9e80e73f",
   "metadata": {},
   "outputs": [
    {
     "name": "stdout",
     "output_type": "stream",
     "text": [
      "True\n"
     ]
    }
   ],
   "source": [
    "a = \"Ashutosh\"\n",
    "b = \"Tiwari\"\n",
    "\n",
    "print(b>a)"
   ]
  },
  {
   "cell_type": "code",
   "execution_count": 53,
   "id": "8820fe56-6a8b-44b2-80fc-a764dc768250",
   "metadata": {},
   "outputs": [
    {
     "name": "stdout",
     "output_type": "stream",
     "text": [
      "Tiwari\n"
     ]
    }
   ],
   "source": [
    "result = (a and b) or (a and c) or (b and c)\n",
    "print(result)"
   ]
  },
  {
   "cell_type": "code",
   "execution_count": 54,
   "id": "9b5bd8e4-9836-4e62-bc49-619dc961d79e",
   "metadata": {},
   "outputs": [
    {
     "name": "stdout",
     "output_type": "stream",
     "text": [
      "{'name': 'Ashutosh', 'course': 'Data Engineering', 'Age': 20, 'Weight': 60, 'Institute': 'Regex'}\n"
     ]
    },
    {
     "data": {
      "text/plain": [
       "{'name': 'Ashutosh Tiwari',\n",
       " 'course': 'Data Engineering',\n",
       " 'Age': 20,\n",
       " 'Weight': 60,\n",
       " 'Institute': 'Regex'}"
      ]
     },
     "execution_count": 54,
     "metadata": {},
     "output_type": "execute_result"
    }
   ],
   "source": [
    "d = dict(name = 'Ashutosh',course = \"Data Engineering\",Age = 20,Weight = 60,Institute = 'Regex')\n",
    "print(d)\n",
    "\n",
    "d.get('name')\n",
    "d['course']\n",
    "d['name']='Ashutosh Tiwari'\n",
    "d"
   ]
  },
  {
   "cell_type": "code",
   "execution_count": 55,
   "id": "d28106c6-1ec4-4edb-85a2-6ab2a9951001",
   "metadata": {},
   "outputs": [
    {
     "name": "stdout",
     "output_type": "stream",
     "text": [
      "{'name': 'Ashutosh Tiwari', 'course': 'Data Engineering', 'Age': 20, 'Weight': 60, 'Institute': 'Regex', 1: 1, 2: 2, 3: 3, 4: 4}\n",
      "{'name': 'Ashutosh Tiwari', 'course': 'Data Engineering', 'Age': 20, 'Weight': 60, 'Institute': 'Regex', 1: 1, 2: 2, 3: 3}\n",
      "{'name': 'Ashutosh Tiwari', 'course': 'Data Engineering', 'Age': 20, 'Weight': 60, 'Institute': 'Regex', 1: 1, 2: 2}\n",
      "{'name': 'Ashutosh Tiwari', 'course': 'Data Engineering', 'Age': 20, 'Weight': 60, 'Institute': 'Regex', 1: 1, 2: 2}\n",
      "{}\n"
     ]
    }
   ],
   "source": [
    "new_d = {1:1,2:2,3:3,4:4}\n",
    "d.update(new_d)\n",
    "print(d)\n",
    "d.keys()\n",
    "d.values()\n",
    "d.items()\n",
    "d.pop(4)\n",
    "print(d)\n",
    "del d[3]\n",
    "print(d)\n",
    "e = d.copy()\n",
    "print(e)\n",
    "e.clear()\n",
    "print(e)"
   ]
  },
  {
   "cell_type": "code",
   "execution_count": null,
   "id": "e74cd6d8-b913-47d9-9b71-4aee4d764fd4",
   "metadata": {},
   "outputs": [],
   "source": []
  }
 ],
 "metadata": {
  "kernelspec": {
   "display_name": "Python 3 (ipykernel)",
   "language": "python",
   "name": "python3"
  },
  "language_info": {
   "codemirror_mode": {
    "name": "ipython",
    "version": 3
   },
   "file_extension": ".py",
   "mimetype": "text/x-python",
   "name": "python",
   "nbconvert_exporter": "python",
   "pygments_lexer": "ipython3",
   "version": "3.11.7"
  }
 },
 "nbformat": 4,
 "nbformat_minor": 5
}
