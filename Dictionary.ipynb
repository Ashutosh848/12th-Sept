{
 "cells": [
  {
   "cell_type": "markdown",
   "id": "5a8d040c-d5f9-49ac-9695-8eca75d25413",
   "metadata": {},
   "source": [
    "#Dictionaries are ordered collection of data items. They store multiple items in a single variable.\n",
    "#They are key pair values and are seperated through commas and are enclosed with curly braces."
   ]
  },
  {
   "cell_type": "code",
   "execution_count": 6,
   "id": "fb763d34-7266-474e-8d5f-fc4ba18ba958",
   "metadata": {},
   "outputs": [
    {
     "name": "stdout",
     "output_type": "stream",
     "text": [
      "Meenal Jain\n"
     ]
    },
    {
     "data": {
      "text/plain": [
       "dict_keys([1, 3, 4, 5, 6])"
      ]
     },
     "execution_count": 6,
     "metadata": {},
     "output_type": "execute_result"
    }
   ],
   "source": [
    "#Update function in Dictionary\n",
    "#Pop function\n",
    "dict = {1:\"Ashutosh Tiwari\",2:\"Mohit\",3:\"Yashika Agarwal\",4:\"Meenal Jain\",5:\"Harsh Gupta\"}\n",
    "\n",
    "\n",
    "dict.update({6:\"Ajay\"})\n",
    "dict.pop(2)\n",
    "print(dict.get(4))\n",
    "dict.values()\n",
    "dict.keys()\n"
   ]
  },
  {
   "cell_type": "code",
   "execution_count": 30,
   "id": "4ef15c59-71be-4cda-adb9-4ccd83e65eaa",
   "metadata": {},
   "outputs": [
    {
     "ename": "TypeError",
     "evalue": "'dict' object is not callable",
     "output_type": "error",
     "traceback": [
      "\u001b[1;31m---------------------------------------------------------------------------\u001b[0m",
      "\u001b[1;31mTypeError\u001b[0m                                 Traceback (most recent call last)",
      "Cell \u001b[1;32mIn[30], line 2\u001b[0m\n\u001b[0;32m      1\u001b[0m n \u001b[38;5;241m=\u001b[39m \u001b[38;5;241m5\u001b[39m\n\u001b[1;32m----> 2\u001b[0m d \u001b[38;5;241m=\u001b[39m \u001b[38;5;28mdict\u001b[39m()\n\u001b[0;32m      3\u001b[0m \u001b[38;5;28;01mfor\u001b[39;00m i \u001b[38;5;129;01min\u001b[39;00m \u001b[38;5;28mrange\u001b[39m(\u001b[38;5;241m1\u001b[39m,n\u001b[38;5;241m+\u001b[39m\u001b[38;5;241m1\u001b[39m):\n\u001b[0;32m      4\u001b[0m     d[i] \u001b[38;5;241m=\u001b[39m i\u001b[38;5;241m*\u001b[39mi\n",
      "\u001b[1;31mTypeError\u001b[0m: 'dict' object is not callable"
     ]
    }
   ],
   "source": [
    "n = 5\n",
    "d = dict()\n",
    "for i in range(1,n+1):\n",
    "    d[i] = i*i\n",
    "print(d)"
   ]
  },
  {
   "cell_type": "code",
   "execution_count": null,
   "id": "178e8186-5f3c-48ef-993f-8bc37ca0992b",
   "metadata": {},
   "outputs": [],
   "source": []
  }
 ],
 "metadata": {
  "kernelspec": {
   "display_name": "Python 3 (ipykernel)",
   "language": "python",
   "name": "python3"
  },
  "language_info": {
   "codemirror_mode": {
    "name": "ipython",
    "version": 3
   },
   "file_extension": ".py",
   "mimetype": "text/x-python",
   "name": "python",
   "nbconvert_exporter": "python",
   "pygments_lexer": "ipython3",
   "version": "3.11.7"
  }
 },
 "nbformat": 4,
 "nbformat_minor": 5
}
